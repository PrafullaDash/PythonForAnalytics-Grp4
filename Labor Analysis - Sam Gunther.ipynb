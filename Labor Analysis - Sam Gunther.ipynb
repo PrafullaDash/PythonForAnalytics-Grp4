{
 "cells": [
  {
   "cell_type": "code",
   "execution_count": 338,
   "metadata": {},
   "outputs": [],
   "source": [
    "%matplotlib inline\n",
    "import numpy as np\n",
    "import pandas as pd\n",
    "import matplotlib.pyplot as plt\n",
    "import matplotlib as mpl\n",
    "import seaborn as sns"
   ]
  },
  {
   "cell_type": "code",
   "execution_count": 275,
   "metadata": {},
   "outputs": [
    {
     "name": "stdout",
     "output_type": "stream",
     "text": [
      "Wall time: 1min 14s\n"
     ]
    }
   ],
   "source": [
    "%%time\n",
    "#read data from xls\n",
    "df = pd.read_excel('PERM_FY2020_Q3.xlsx')"
   ]
  },
  {
   "cell_type": "code",
   "execution_count": 276,
   "metadata": {},
   "outputs": [
    {
     "name": "stdout",
     "output_type": "stream",
     "text": [
      "Wall time: 0 ns\n"
     ]
    }
   ],
   "source": [
    "%%time\n",
    "#read data from csv\n",
    "#df = pd.read_csv('PERM_FY2020_Q3.csv', encoding= 'unicode')\n",
    "#a.encode('utf-8').strip()"
   ]
  },
  {
   "cell_type": "code",
   "execution_count": 277,
   "metadata": {},
   "outputs": [
    {
     "data": {
      "text/html": [
       "<div>\n",
       "<style scoped>\n",
       "    .dataframe tbody tr th:only-of-type {\n",
       "        vertical-align: middle;\n",
       "    }\n",
       "\n",
       "    .dataframe tbody tr th {\n",
       "        vertical-align: top;\n",
       "    }\n",
       "\n",
       "    .dataframe thead th {\n",
       "        text-align: right;\n",
       "    }\n",
       "</style>\n",
       "<table border=\"1\" class=\"dataframe\">\n",
       "  <thead>\n",
       "    <tr style=\"text-align: right;\">\n",
       "      <th></th>\n",
       "      <th>CASE_NUMBER</th>\n",
       "      <th>CASE_STATUS</th>\n",
       "      <th>RECEIVED_DATE</th>\n",
       "      <th>DECISION_DATE</th>\n",
       "      <th>REFILE</th>\n",
       "      <th>ORIG_FILE_DATE</th>\n",
       "      <th>PREVIOUS_SWA_CASE_NUMBER_STATE</th>\n",
       "      <th>SCHD_A_SHEEPHERDER</th>\n",
       "      <th>EMPLOYER_NAME</th>\n",
       "      <th>EMPLOYER_ADDRESS_1</th>\n",
       "      <th>...</th>\n",
       "      <th>FOREIGN_WORKER_EXP_WITH_EMPL</th>\n",
       "      <th>FOREIGN_WORKER_EMPL_PAY_FOR_ED</th>\n",
       "      <th>FOREIGN_WORKER_CURR_EMPLOYED</th>\n",
       "      <th>EMPLOYER_COMPLETED_APPLICATION</th>\n",
       "      <th>PREPARER_NAME</th>\n",
       "      <th>PREPARER_TITLE</th>\n",
       "      <th>PREPARER_EMAIL</th>\n",
       "      <th>EMP_INFO_DECL_NAME</th>\n",
       "      <th>EMP_INFO_DECL_TITLE</th>\n",
       "      <th>CASE_STATUS_BINARY</th>\n",
       "    </tr>\n",
       "  </thead>\n",
       "  <tbody>\n",
       "    <tr>\n",
       "      <th>0</th>\n",
       "      <td>A-09245-62715</td>\n",
       "      <td>Denied</td>\n",
       "      <td>2009-09-03</td>\n",
       "      <td>2020-04-30 14:50:29</td>\n",
       "      <td>N</td>\n",
       "      <td>NaT</td>\n",
       "      <td>NaN</td>\n",
       "      <td>N</td>\n",
       "      <td>SATURN ENTERPRISES INC</td>\n",
       "      <td>2340 N WASHTENAW AVE</td>\n",
       "      <td>...</td>\n",
       "      <td>N</td>\n",
       "      <td>N</td>\n",
       "      <td>N</td>\n",
       "      <td>N</td>\n",
       "      <td>Christopher E Kurczaba</td>\n",
       "      <td>Attorney</td>\n",
       "      <td>kurczabalaw@sbcglobal.net</td>\n",
       "      <td>Zygmunt  Oparowski</td>\n",
       "      <td>President</td>\n",
       "      <td>1</td>\n",
       "    </tr>\n",
       "    <tr>\n",
       "      <th>1</th>\n",
       "      <td>A-10119-96737</td>\n",
       "      <td>Certified</td>\n",
       "      <td>2010-03-29</td>\n",
       "      <td>2019-10-18 11:34:37</td>\n",
       "      <td>Y</td>\n",
       "      <td>2000-09-15</td>\n",
       "      <td>MARYLAND</td>\n",
       "      <td>N</td>\n",
       "      <td>FIL PARONG</td>\n",
       "      <td>13528 JAMIESON PL</td>\n",
       "      <td>...</td>\n",
       "      <td>N</td>\n",
       "      <td>N</td>\n",
       "      <td>N</td>\n",
       "      <td>N</td>\n",
       "      <td>WINSTON W TSAI</td>\n",
       "      <td>ATTORNEY AT LAW</td>\n",
       "      <td>WINSTONTSAI@AOL.COM</td>\n",
       "      <td>FIL  PARONG</td>\n",
       "      <td>HEAD OF HOUSEHOLD</td>\n",
       "      <td>0</td>\n",
       "    </tr>\n",
       "    <tr>\n",
       "      <th>2</th>\n",
       "      <td>A-10225-13679</td>\n",
       "      <td>Denied</td>\n",
       "      <td>2010-08-10</td>\n",
       "      <td>2020-04-30 07:55:08</td>\n",
       "      <td>N</td>\n",
       "      <td>NaT</td>\n",
       "      <td>NaN</td>\n",
       "      <td>N</td>\n",
       "      <td>GLENNS PLUMBING SERVICES</td>\n",
       "      <td>854 CUSTER STREET</td>\n",
       "      <td>...</td>\n",
       "      <td>N</td>\n",
       "      <td>N</td>\n",
       "      <td>N</td>\n",
       "      <td>N</td>\n",
       "      <td>DANIEL J SULLIVAN</td>\n",
       "      <td>ATTORNEY</td>\n",
       "      <td>GWG8@AOL.COM</td>\n",
       "      <td>DAVID  GLENN</td>\n",
       "      <td>OWNER</td>\n",
       "      <td>1</td>\n",
       "    </tr>\n",
       "    <tr>\n",
       "      <th>3</th>\n",
       "      <td>A-11033-51540</td>\n",
       "      <td>Certified</td>\n",
       "      <td>2011-02-03</td>\n",
       "      <td>2020-05-28 08:38:56</td>\n",
       "      <td>N</td>\n",
       "      <td>NaT</td>\n",
       "      <td>NaN</td>\n",
       "      <td>N</td>\n",
       "      <td>SKILLNET SOLUTIONS INC.</td>\n",
       "      <td>1901 SOUTH BASCOM AVENUE</td>\n",
       "      <td>...</td>\n",
       "      <td>N</td>\n",
       "      <td>N</td>\n",
       "      <td>Y</td>\n",
       "      <td>N</td>\n",
       "      <td>Sonal  Kinger</td>\n",
       "      <td>Attorney at Law</td>\n",
       "      <td>sonal.kinger@bakerlawcorp.com</td>\n",
       "      <td>Jack  Grover</td>\n",
       "      <td>VP of Finance and Operations</td>\n",
       "      <td>0</td>\n",
       "    </tr>\n",
       "    <tr>\n",
       "      <th>4</th>\n",
       "      <td>A-11074-62984</td>\n",
       "      <td>Denied</td>\n",
       "      <td>2011-03-10</td>\n",
       "      <td>2020-06-17 07:50:52</td>\n",
       "      <td>N</td>\n",
       "      <td>NaT</td>\n",
       "      <td>NaN</td>\n",
       "      <td>N</td>\n",
       "      <td>R    L  CONSTRUCTION,  INC.</td>\n",
       "      <td>904  NEPPERHAN  AVENUE</td>\n",
       "      <td>...</td>\n",
       "      <td>N</td>\n",
       "      <td>N</td>\n",
       "      <td>N</td>\n",
       "      <td>N</td>\n",
       "      <td>DENISE S DUTTON</td>\n",
       "      <td>NONATTORNEY</td>\n",
       "      <td>NaN</td>\n",
       "      <td>RITA  O  SULLIVAN</td>\n",
       "      <td>MANAGER</td>\n",
       "      <td>1</td>\n",
       "    </tr>\n",
       "  </tbody>\n",
       "</table>\n",
       "<p>5 rows × 155 columns</p>\n",
       "</div>"
      ],
      "text/plain": [
       "     CASE_NUMBER CASE_STATUS RECEIVED_DATE       DECISION_DATE REFILE  \\\n",
       "0  A-09245-62715      Denied    2009-09-03 2020-04-30 14:50:29      N   \n",
       "1  A-10119-96737   Certified    2010-03-29 2019-10-18 11:34:37      Y   \n",
       "2  A-10225-13679      Denied    2010-08-10 2020-04-30 07:55:08      N   \n",
       "3  A-11033-51540   Certified    2011-02-03 2020-05-28 08:38:56      N   \n",
       "4  A-11074-62984      Denied    2011-03-10 2020-06-17 07:50:52      N   \n",
       "\n",
       "  ORIG_FILE_DATE PREVIOUS_SWA_CASE_NUMBER_STATE SCHD_A_SHEEPHERDER  \\\n",
       "0            NaT                            NaN                  N   \n",
       "1     2000-09-15                       MARYLAND                  N   \n",
       "2            NaT                            NaN                  N   \n",
       "3            NaT                            NaN                  N   \n",
       "4            NaT                            NaN                  N   \n",
       "\n",
       "                 EMPLOYER_NAME        EMPLOYER_ADDRESS_1  ...  \\\n",
       "0       SATURN ENTERPRISES INC      2340 N WASHTENAW AVE  ...   \n",
       "1                   FIL PARONG         13528 JAMIESON PL  ...   \n",
       "2     GLENNS PLUMBING SERVICES         854 CUSTER STREET  ...   \n",
       "3      SKILLNET SOLUTIONS INC.  1901 SOUTH BASCOM AVENUE  ...   \n",
       "4  R    L  CONSTRUCTION,  INC.    904  NEPPERHAN  AVENUE  ...   \n",
       "\n",
       "  FOREIGN_WORKER_EXP_WITH_EMPL FOREIGN_WORKER_EMPL_PAY_FOR_ED  \\\n",
       "0                            N                              N   \n",
       "1                            N                              N   \n",
       "2                            N                              N   \n",
       "3                            N                              N   \n",
       "4                            N                              N   \n",
       "\n",
       "  FOREIGN_WORKER_CURR_EMPLOYED EMPLOYER_COMPLETED_APPLICATION  \\\n",
       "0                            N                              N   \n",
       "1                            N                              N   \n",
       "2                            N                              N   \n",
       "3                            Y                              N   \n",
       "4                            N                              N   \n",
       "\n",
       "            PREPARER_NAME   PREPARER_TITLE                 PREPARER_EMAIL  \\\n",
       "0  Christopher E Kurczaba         Attorney      kurczabalaw@sbcglobal.net   \n",
       "1          WINSTON W TSAI  ATTORNEY AT LAW            WINSTONTSAI@AOL.COM   \n",
       "2       DANIEL J SULLIVAN         ATTORNEY                   GWG8@AOL.COM   \n",
       "3           Sonal  Kinger  Attorney at Law  sonal.kinger@bakerlawcorp.com   \n",
       "4         DENISE S DUTTON      NONATTORNEY                            NaN   \n",
       "\n",
       "   EMP_INFO_DECL_NAME           EMP_INFO_DECL_TITLE CASE_STATUS_BINARY  \n",
       "0  Zygmunt  Oparowski                     President                  1  \n",
       "1         FIL  PARONG             HEAD OF HOUSEHOLD                  0  \n",
       "2        DAVID  GLENN                         OWNER                  1  \n",
       "3        Jack  Grover  VP of Finance and Operations                  0  \n",
       "4   RITA  O  SULLIVAN                       MANAGER                  1  \n",
       "\n",
       "[5 rows x 155 columns]"
      ]
     },
     "execution_count": 277,
     "metadata": {},
     "output_type": "execute_result"
    }
   ],
   "source": [
    "# filter case statuses that are not withdrawn as including them could lead to misleading insights\n",
    "df = df[df.CASE_STATUS != 'Withdrawn']\n",
    "\n",
    "# create binary variables between cases that are denied vs certified\n",
    "# denied cases will have a binary variable of 1 while certified cases will have a binary variable of 0\n",
    "case_status = []\n",
    "case_status_binary = []\n",
    "for i in df.CASE_STATUS:\n",
    "    if i == 'Denied':\n",
    "        case_status.append('Denied')\n",
    "        case_status_binary.append(1)\n",
    "    else:\n",
    "        case_status.append('Certified')\n",
    "        case_status_binary.append(0)\n",
    "       \n",
    "df['CASE_STATUS'] = case_status\n",
    "df['CASE_STATUS_BINARY'] = case_status_binary\n",
    "\n",
    "df.head()"
   ]
  },
  {
   "cell_type": "code",
   "execution_count": 278,
   "metadata": {},
   "outputs": [
    {
     "name": "stdout",
     "output_type": "stream",
     "text": [
      "<class 'pandas.core.frame.DataFrame'>\n",
      "Int64Index: 69117 entries, 0 to 71650\n",
      "Data columns (total 155 columns):\n",
      "CASE_NUMBER                         69117 non-null object\n",
      "CASE_STATUS                         69117 non-null object\n",
      "RECEIVED_DATE                       69117 non-null datetime64[ns]\n",
      "DECISION_DATE                       69117 non-null datetime64[ns]\n",
      "REFILE                              69117 non-null object\n",
      "ORIG_FILE_DATE                      69 non-null datetime64[ns]\n",
      "PREVIOUS_SWA_CASE_NUMBER_STATE      71 non-null object\n",
      "SCHD_A_SHEEPHERDER                  69114 non-null object\n",
      "EMPLOYER_NAME                       69117 non-null object\n",
      "EMPLOYER_ADDRESS_1                  69115 non-null object\n",
      "EMPLOYER_ADDRESS_2                  23020 non-null object\n",
      "EMPLOYER_CITY                       69117 non-null object\n",
      "EMPLOYER_STATE_PROVINCE             69116 non-null object\n",
      "EMPLOYER_COUNTRY                    69100 non-null object\n",
      "EMPLOYER_POSTAL_CODE                69114 non-null object\n",
      "EMPLOYER_PHONE                      69117 non-null object\n",
      "EMPLOYER_PHONE_EXT                  5704 non-null object\n",
      "EMPLOYER_NUM_EMPLOYEES              69108 non-null float64\n",
      "EMPLOYER_YEAR_COMMENCED_BUSINESS    69090 non-null float64\n",
      "NAICS_CODE                          69069 non-null object\n",
      "FW_OWNERSHIP_INTEREST               69115 non-null object\n",
      "EMP_CONTACT_NAME                    69117 non-null object\n",
      "EMP_CONTACT_ADDRESS_1               69114 non-null object\n",
      "EMP_CONTACT_ADDRESS_2               26087 non-null object\n",
      "EMP_CONTACT_CITY                    69116 non-null object\n",
      "EMP_CONTACT_STATE_PROVINCE          69114 non-null object\n",
      "EMP_CONTACT_COUNTRY                 69106 non-null object\n",
      "EMP_CONTACT_POSTAL_CODE             69113 non-null object\n",
      "EMP_CONTACT_PHONE                   69117 non-null object\n",
      "EMP_CONTACT_EMAIL                   69097 non-null object\n",
      "AGENT_ATTORNEY_NAME                 69117 non-null object\n",
      "AGENT_ATTORNEY_FIRM_NAME            63579 non-null object\n",
      "AGENT_ATTORNEY_PHONE                64834 non-null object\n",
      "AGENT_ATTORNEY_PHONE_EXT            2007 non-null float64\n",
      "AGENT_ATTORNEY_ADDRESS_1            64844 non-null object\n",
      "AGENT_ATTORNEY_ADDRESS_2            44285 non-null object\n",
      "AGENT_ATTORNEY_CITY                 64841 non-null object\n",
      "AGENT_ATTORNEY_STATE_PROVINCE       64062 non-null object\n",
      "AGENT_ATTORNEY_COUNTRY              64837 non-null object\n",
      "AGENT_ATTORNEY_POSTAL_CODE          64797 non-null object\n",
      "AGENT_ATTORNEY_EMAIL                64820 non-null object\n",
      "PW_TRACK_NUMBER                     68940 non-null object\n",
      "PW_SOC_CODE                         69071 non-null object\n",
      "PW_SOC_TITLE                        69108 non-null object\n",
      "PW_SKILL_LEVEL                      64968 non-null object\n",
      "PW_WAGE                             69109 non-null float64\n",
      "PW_UNIT_OF_PAY                      69107 non-null object\n",
      "PW_WAGE_SOURCE                      69102 non-null object\n",
      "PW_SOURCE_NAME_OTHER                3383 non-null object\n",
      "PW_DETERMINATION_DATE               69080 non-null object\n",
      "PW_EXPIRATION_DATE                  69076 non-null object\n",
      "WAGE_OFFER_FROM                     69113 non-null float64\n",
      "WAGE_OFFER_TO                       24892 non-null float64\n",
      "WAGE_OFFER_UNIT_OF_PAY              69114 non-null object\n",
      "WORKSITE_ADDRESS_1                  69111 non-null object\n",
      "WORKSITE_ADDRESS_2                  24930 non-null object\n",
      "WORKSITE_CITY                       69113 non-null object\n",
      "WORKSITE_STATE                      69113 non-null object\n",
      "WORKSITE_POSTAL_CODE                69112 non-null object\n",
      "JOB_TITLE                           69104 non-null object\n",
      "MINIMUM_EDUCATION                   69111 non-null object\n",
      "JOB_EDUCATION_MIN_OTHER             1809 non-null object\n",
      "MAJOR_FIELD_OF_STUDY                59337 non-null object\n",
      "REQUIRED_TRAINING                   69115 non-null object\n",
      "REQUIRED_TRAINING_MONTHS            869 non-null float64\n",
      "REQUIRED_FIELD_OF_TRAINING          877 non-null object\n",
      "REQUIRED_EXPERIENCE                 69115 non-null object\n",
      "REQUIRED_EXPERIENCE_MONTHS          39385 non-null float64\n",
      "ACCEPT_ALT_FIELD_OF_STUDY           69114 non-null object\n",
      "ACCEPT_ALT_MAJOR_FLD_OF_STUDY       29512 non-null object\n",
      "ACCEPT_ALT_COMBO                    69111 non-null object\n",
      "ACCEPT_ALT_COMBO_EDUCATION          20424 non-null object\n",
      "ACCEPT_ALT_COMBO_ED_OTHER           1421 non-null object\n",
      "ACCEPT_ALT_COMBO_EDUCATION_YRS      20296 non-null float64\n",
      "ACCEPT_FOREIGN_EDUCATION            69108 non-null object\n",
      "ACCEPT_ALT_OCCUPATION               69115 non-null object\n",
      "ACCEPT_ALT_OCCUPATION_MONTHS        47506 non-null float64\n",
      "ACCEPT_ALT_JOB_TITLE                47514 non-null object\n",
      "JOB_OPP_REQUIREMENTS_NORMAL         69117 non-null object\n",
      "FOREIGN_LANGUAGE_REQUIRED           69117 non-null object\n",
      "SPECIFIC_SKILLS                     63661 non-null object\n",
      "COMBINATION_OCCUPATION              69117 non-null object\n",
      "OFFERED_TO_APPL_FOREIGN_WORKER      69116 non-null object\n",
      "FOREIGN_WORKER_LIVE_ON_PREM         69117 non-null object\n",
      "FOREIGN_WORKER_LIVE_IN_DOM_SER      69117 non-null object\n",
      "FOREIGN_WORKER_LIVE_IN_DOM_CNT      38 non-null object\n",
      "PROFESSIONAL_OCCUPATION             69116 non-null object\n",
      "APP_FOR_COLLEGE_U_TEACHER           69108 non-null object\n",
      "COMPETITIVE_PROCESS                 1774 non-null object\n",
      "BASIC_RECRUITMENT_PROCESS           1774 non-null object\n",
      "TEACHER_SELECT_DATE                 1535 non-null datetime64[ns]\n",
      "TEACHER_PUB_JOURNAL_NAME            1541 non-null object\n",
      "ADD_RECRUIT_INFORMATION             1510 non-null object\n",
      "SWA_JOB_ORDER_START_DATE            67546 non-null object\n",
      "SWA_JOB_ORDER_END_DATE              67541 non-null object\n",
      "SUNDAY_EDITION_NEWSPAPER            67561 non-null object\n",
      "FIRST_NEWSPAPER_NAME                67538 non-null object\n",
      "FIRST_ADVERTISEMENT_START_DATE      67542 non-null object\n",
      "SECOND_NEWSPAPER_AD_NAME            67527 non-null object\n",
      "SECOND_ADVERTISEMENT_TYPE           67540 non-null object\n",
      "SECOND_AD_START_DATE                67538 non-null object\n",
      "JOB_FAIR_FROM_DATE                  290 non-null datetime64[ns]\n",
      "JOB_FAIR_TO_DATE                    290 non-null datetime64[ns]\n",
      "ON_CAMPUS_RECRUITING_FROM_DATE      318 non-null datetime64[ns]\n",
      "ON_CAMPUS_RECRUITING_TO_DATE        318 non-null datetime64[ns]\n",
      "EMPLOYER_WEBSITE_FROM_DATE          28237 non-null datetime64[ns]\n",
      "EMPLOYER_WEBSITE_TO_DATE            28237 non-null datetime64[ns]\n",
      "PRO_ORG_AD_FROM_DATE                12546 non-null datetime64[ns]\n",
      "PRO_ORG_ADVERTISEMENT_TO_DATE       12546 non-null datetime64[ns]\n",
      "JOB_SEARCH_WEBSITE_FROM_DATE        55280 non-null object\n",
      "JOB_SEARCH_WEBSITE_TO_DATE          55280 non-null datetime64[ns]\n",
      "PVT_EMPLOYMENT_FIRM_FROM_DATE       2781 non-null datetime64[ns]\n",
      "PVT_EMPLOYMENT_FIRM_TO_DATE         2781 non-null datetime64[ns]\n",
      "EMPLOYEE_REF_PROG_FROM_DATE         17610 non-null object\n",
      "EMPLOYEE_REFERRAL_PROG_TO_DATE      17610 non-null datetime64[ns]\n",
      "CAMPUS_PLACEMENT_FROM_DATE          6589 non-null datetime64[ns]\n",
      "CAMPUS_PLACEMENT_TO_DATE            6589 non-null datetime64[ns]\n",
      "LOCAL_ETHNIC_PAPER_FROM_DATE        42905 non-null object\n",
      "LOCAL_ETHNIC_PAPER_TO_DATE          42904 non-null datetime64[ns]\n",
      "RADIO_TV_AD_FROM_DATE               9309 non-null datetime64[ns]\n",
      "RADIO_TV_AD_TO_DATE                 9309 non-null datetime64[ns]\n",
      "EMP_RECEIVED_PAYMENT                69116 non-null object\n",
      "PAYMENT_DETAILS                     1 non-null object\n",
      "BARGAINING_REP_NOTIFIED             1687 non-null object\n",
      "POSTED_NOTICE_AT_WORKSITE           68382 non-null object\n",
      "LAYOFF_IN_PAST_SIX_MONTHS           69115 non-null object\n",
      "US_WORKERS_CONSIDERED               3261 non-null object\n",
      "COUNTRY_OF_CITIZENSHIP              69111 non-null object\n",
      "FOREIGN_WORKER_BIRTH_COUNTRY        69112 non-null object\n",
      "CLASS_OF_ADMISSION                  63650 non-null object\n",
      "FOREIGN_WORKER_EDUCATION            69112 non-null object\n",
      "FOREIGN_WORKER_EDUCATION_OTHER      2269 non-null object\n",
      "FOREIGN_WORKER_INFO_MAJOR           60812 non-null object\n",
      "FOREIGN_WORKER_YRS_ED_COMP          61323 non-null float64\n",
      "FOREIGN_WORKER_INST_OF_ED           61273 non-null object\n",
      "FOREIGN_WORKER_ED_INST_ADD_1        60243 non-null object\n",
      "FOREIGN_WORKER_ED_INST_ADD_2        8763 non-null object\n",
      "FOREIGN_WORKER_ED_INST_CITY         61093 non-null object\n",
      "FOREIGN_WORKER_ED_INST_STATE_P      54725 non-null object\n",
      "FOREIGN_WORKER_ED_INST_COUNTRY      60646 non-null object\n",
      "FOREIGN_WORKER_ED_INST_POST_CD      58033 non-null object\n",
      "FOREIGN_WORKER_TRAINING_COMP        1035 non-null object\n",
      "FOREIGN_WORKER_REQ_EXPERIENCE       39629 non-null object\n",
      "FOREIGN_WORKER_ALT_ED_EXP           19490 non-null object\n",
      "FOREIGN_WORKER_ALT_OCC_EXP          47179 non-null object\n",
      "FOREIGN_WORKER_EXP_WITH_EMPL        57692 non-null object\n",
      "FOREIGN_WORKER_EMPL_PAY_FOR_ED      69113 non-null object\n",
      "FOREIGN_WORKER_CURR_EMPLOYED        69111 non-null object\n",
      "EMPLOYER_COMPLETED_APPLICATION      69110 non-null object\n",
      "PREPARER_NAME                       69117 non-null object\n",
      "PREPARER_TITLE                      64348 non-null object\n",
      "PREPARER_EMAIL                      64329 non-null object\n",
      "EMP_INFO_DECL_NAME                  69117 non-null object\n",
      "EMP_INFO_DECL_TITLE                 69111 non-null object\n",
      "CASE_STATUS_BINARY                  69117 non-null int64\n",
      "dtypes: datetime64[ns](21), float64(11), int64(1), object(122)\n",
      "memory usage: 82.3+ MB\n"
     ]
    }
   ],
   "source": [
    "#Check columns and data types in df\n",
    "df.info(verbose=1,null_counts=1)"
   ]
  },
  {
   "cell_type": "code",
   "execution_count": 279,
   "metadata": {},
   "outputs": [],
   "source": [
    "#Filter out relevant features for analysis of Education and Job Characteristics differences between Certified / Denied applicants\n",
    "\n",
    "df = df[['CASE_NUMBER', \n",
    "         'CASE_STATUS',\n",
    "         'CASE_STATUS_BINARY',\n",
    "         'PW_TRACK_NUMBER',\n",
    "         'PW_SOC_CODE',\n",
    "         'PW_SOC_TITLE',\n",
    "         'PW_SKILL_LEVEL',\n",
    "         'PW_WAGE',\n",
    "         'PW_UNIT_OF_PAY',\n",
    "         'PW_WAGE_SOURCE',\n",
    "         'PW_SOURCE_NAME_OTHER',\n",
    "         'PW_DETERMINATION_DATE',\n",
    "         'PW_EXPIRATION_DATE',\n",
    "         'WAGE_OFFER_FROM',\n",
    "         'WAGE_OFFER_TO',\n",
    "         'WAGE_OFFER_UNIT_OF_PAY',\n",
    "         'WORKSITE_ADDRESS_1',\n",
    "         'WORKSITE_ADDRESS_2',\n",
    "         'WORKSITE_CITY',\n",
    "         'WORKSITE_STATE',\n",
    "         'WORKSITE_POSTAL_CODE',\n",
    "         'JOB_TITLE',\n",
    "         'MAJOR_FIELD_OF_STUDY',\n",
    "         'FOREIGN_WORKER_EDUCATION',\n",
    "         'FOREIGN_WORKER_EDUCATION_OTHER',\n",
    "         'FOREIGN_WORKER_INFO_MAJOR',\n",
    "         'FOREIGN_WORKER_YRS_ED_COMP',\n",
    "         'FOREIGN_WORKER_INST_OF_ED',\n",
    "         'FOREIGN_WORKER_ED_INST_ADD_1',\n",
    "         'FOREIGN_WORKER_ED_INST_ADD_2',\n",
    "         'FOREIGN_WORKER_ED_INST_CITY',\n",
    "         'FOREIGN_WORKER_ED_INST_STATE_P',\n",
    "         'FOREIGN_WORKER_ED_INST_COUNTRY',\n",
    "         'FOREIGN_WORKER_ED_INST_POST_CD'\n",
    "        ]]"
   ]
  },
  {
   "cell_type": "code",
   "execution_count": 280,
   "metadata": {},
   "outputs": [
    {
     "data": {
      "text/html": [
       "<div>\n",
       "<style scoped>\n",
       "    .dataframe tbody tr th:only-of-type {\n",
       "        vertical-align: middle;\n",
       "    }\n",
       "\n",
       "    .dataframe tbody tr th {\n",
       "        vertical-align: top;\n",
       "    }\n",
       "\n",
       "    .dataframe thead th {\n",
       "        text-align: right;\n",
       "    }\n",
       "</style>\n",
       "<table border=\"1\" class=\"dataframe\">\n",
       "  <thead>\n",
       "    <tr style=\"text-align: right;\">\n",
       "      <th></th>\n",
       "      <th>CASE_NUMBER</th>\n",
       "      <th>CASE_STATUS</th>\n",
       "      <th>CASE_STATUS_BINARY</th>\n",
       "      <th>PW_TRACK_NUMBER</th>\n",
       "      <th>PW_SOC_CODE</th>\n",
       "      <th>PW_SOC_TITLE</th>\n",
       "      <th>PW_SKILL_LEVEL</th>\n",
       "      <th>PW_WAGE</th>\n",
       "      <th>PW_UNIT_OF_PAY</th>\n",
       "      <th>PW_WAGE_SOURCE</th>\n",
       "      <th>...</th>\n",
       "      <th>FOREIGN_WORKER_EDUCATION_OTHER</th>\n",
       "      <th>FOREIGN_WORKER_INFO_MAJOR</th>\n",
       "      <th>FOREIGN_WORKER_YRS_ED_COMP</th>\n",
       "      <th>FOREIGN_WORKER_INST_OF_ED</th>\n",
       "      <th>FOREIGN_WORKER_ED_INST_ADD_1</th>\n",
       "      <th>FOREIGN_WORKER_ED_INST_ADD_2</th>\n",
       "      <th>FOREIGN_WORKER_ED_INST_CITY</th>\n",
       "      <th>FOREIGN_WORKER_ED_INST_STATE_P</th>\n",
       "      <th>FOREIGN_WORKER_ED_INST_COUNTRY</th>\n",
       "      <th>FOREIGN_WORKER_ED_INST_POST_CD</th>\n",
       "    </tr>\n",
       "  </thead>\n",
       "  <tbody>\n",
       "    <tr>\n",
       "      <th>0</th>\n",
       "      <td>A-09245-62715</td>\n",
       "      <td>Denied</td>\n",
       "      <td>1</td>\n",
       "      <td>NaN</td>\n",
       "      <td>43-6011.00</td>\n",
       "      <td>administrative assistant</td>\n",
       "      <td>Level I</td>\n",
       "      <td>14.49</td>\n",
       "      <td>Hour</td>\n",
       "      <td>OES</td>\n",
       "      <td>...</td>\n",
       "      <td>NaN</td>\n",
       "      <td>GENERAL</td>\n",
       "      <td>1996.0</td>\n",
       "      <td>LICEUM EKONOMICZNE</td>\n",
       "      <td>UL. JANA GOETZA</td>\n",
       "      <td>NaN</td>\n",
       "      <td>BRZESKO</td>\n",
       "      <td>NaN</td>\n",
       "      <td>POLAND</td>\n",
       "      <td>32-800</td>\n",
       "    </tr>\n",
       "    <tr>\n",
       "      <th>1</th>\n",
       "      <td>A-10119-96737</td>\n",
       "      <td>Certified</td>\n",
       "      <td>0</td>\n",
       "      <td>MD00020468</td>\n",
       "      <td>49-9042.00</td>\n",
       "      <td>MAINTENANCE  REPAIR WORKER, GENERAL</td>\n",
       "      <td>Level III</td>\n",
       "      <td>19.36</td>\n",
       "      <td>Hour</td>\n",
       "      <td>OES</td>\n",
       "      <td>...</td>\n",
       "      <td>NaN</td>\n",
       "      <td>HIGH SCHOOL</td>\n",
       "      <td>1991.0</td>\n",
       "      <td>SAN JACINTO NATIONAL HIGH SCHOOL</td>\n",
       "      <td>10 BARANGAY GUIBEL ST</td>\n",
       "      <td>NaN</td>\n",
       "      <td>SAN JACINTO</td>\n",
       "      <td>BARANGAY</td>\n",
       "      <td>PHILIPPINES</td>\n",
       "      <td>NaN</td>\n",
       "    </tr>\n",
       "    <tr>\n",
       "      <th>2</th>\n",
       "      <td>A-10225-13679</td>\n",
       "      <td>Denied</td>\n",
       "      <td>1</td>\n",
       "      <td>P10010067706999</td>\n",
       "      <td>47-2152.02</td>\n",
       "      <td>PLUMBER</td>\n",
       "      <td>Level IV</td>\n",
       "      <td>78645.00</td>\n",
       "      <td>Year</td>\n",
       "      <td>OES</td>\n",
       "      <td>...</td>\n",
       "      <td>NaN</td>\n",
       "      <td>NaN</td>\n",
       "      <td>NaN</td>\n",
       "      <td>NaN</td>\n",
       "      <td>NaN</td>\n",
       "      <td>NaN</td>\n",
       "      <td>NaN</td>\n",
       "      <td>NaN</td>\n",
       "      <td>NaN</td>\n",
       "      <td>NaN</td>\n",
       "    </tr>\n",
       "    <tr>\n",
       "      <th>3</th>\n",
       "      <td>A-11033-51540</td>\n",
       "      <td>Certified</td>\n",
       "      <td>0</td>\n",
       "      <td>P10010223453518</td>\n",
       "      <td>15-1031.00</td>\n",
       "      <td>Comp. SWE, Applications</td>\n",
       "      <td>Level IV</td>\n",
       "      <td>131518.00</td>\n",
       "      <td>Year</td>\n",
       "      <td>OES</td>\n",
       "      <td>...</td>\n",
       "      <td>EQUIV. OF BS BASED ON COMBO OF DIPLOMAS</td>\n",
       "      <td>ELECTRONICS ENGINEERING  COMPUTER SCIENCE</td>\n",
       "      <td>1996.0</td>\n",
       "      <td>SHRI BAHAGUBHAI MAFATLAL POLYTECHNIC INSTITUTE</td>\n",
       "      <td>IRLA LANE, VILE PARLE W</td>\n",
       "      <td>NaN</td>\n",
       "      <td>MUMBAI</td>\n",
       "      <td>MAHARASHTRA</td>\n",
       "      <td>INDIA</td>\n",
       "      <td>400056</td>\n",
       "    </tr>\n",
       "    <tr>\n",
       "      <th>4</th>\n",
       "      <td>A-11074-62984</td>\n",
       "      <td>Denied</td>\n",
       "      <td>1</td>\n",
       "      <td>P10010244002722</td>\n",
       "      <td>47-1011.01</td>\n",
       "      <td>FIRST LINE SUPERVISORS  CONSTRUCTION TRADES WO...</td>\n",
       "      <td>Level I</td>\n",
       "      <td>53643.00</td>\n",
       "      <td>Year</td>\n",
       "      <td>OES</td>\n",
       "      <td>...</td>\n",
       "      <td>NaN</td>\n",
       "      <td>GENERAL</td>\n",
       "      <td>1995.0</td>\n",
       "      <td>FALCARRAGH HIGH SCHOOL</td>\n",
       "      <td>NaN</td>\n",
       "      <td>NaN</td>\n",
       "      <td>FALCARRAGH</td>\n",
       "      <td>NaN</td>\n",
       "      <td>IRELAND</td>\n",
       "      <td>NaN</td>\n",
       "    </tr>\n",
       "  </tbody>\n",
       "</table>\n",
       "<p>5 rows × 34 columns</p>\n",
       "</div>"
      ],
      "text/plain": [
       "     CASE_NUMBER CASE_STATUS  CASE_STATUS_BINARY  PW_TRACK_NUMBER PW_SOC_CODE  \\\n",
       "0  A-09245-62715      Denied                   1              NaN  43-6011.00   \n",
       "1  A-10119-96737   Certified                   0       MD00020468  49-9042.00   \n",
       "2  A-10225-13679      Denied                   1  P10010067706999  47-2152.02   \n",
       "3  A-11033-51540   Certified                   0  P10010223453518  15-1031.00   \n",
       "4  A-11074-62984      Denied                   1  P10010244002722  47-1011.01   \n",
       "\n",
       "                                        PW_SOC_TITLE PW_SKILL_LEVEL  \\\n",
       "0                           administrative assistant        Level I   \n",
       "1                MAINTENANCE  REPAIR WORKER, GENERAL      Level III   \n",
       "2                                            PLUMBER       Level IV   \n",
       "3                            Comp. SWE, Applications       Level IV   \n",
       "4  FIRST LINE SUPERVISORS  CONSTRUCTION TRADES WO...        Level I   \n",
       "\n",
       "     PW_WAGE PW_UNIT_OF_PAY PW_WAGE_SOURCE  ...  \\\n",
       "0      14.49           Hour            OES  ...   \n",
       "1      19.36           Hour            OES  ...   \n",
       "2   78645.00           Year            OES  ...   \n",
       "3  131518.00           Year            OES  ...   \n",
       "4   53643.00           Year            OES  ...   \n",
       "\n",
       "            FOREIGN_WORKER_EDUCATION_OTHER  \\\n",
       "0                                      NaN   \n",
       "1                                      NaN   \n",
       "2                                      NaN   \n",
       "3  EQUIV. OF BS BASED ON COMBO OF DIPLOMAS   \n",
       "4                                      NaN   \n",
       "\n",
       "                   FOREIGN_WORKER_INFO_MAJOR FOREIGN_WORKER_YRS_ED_COMP  \\\n",
       "0                                    GENERAL                     1996.0   \n",
       "1                                HIGH SCHOOL                     1991.0   \n",
       "2                                        NaN                        NaN   \n",
       "3  ELECTRONICS ENGINEERING  COMPUTER SCIENCE                     1996.0   \n",
       "4                                    GENERAL                     1995.0   \n",
       "\n",
       "                        FOREIGN_WORKER_INST_OF_ED  \\\n",
       "0                              LICEUM EKONOMICZNE   \n",
       "1                SAN JACINTO NATIONAL HIGH SCHOOL   \n",
       "2                                             NaN   \n",
       "3  SHRI BAHAGUBHAI MAFATLAL POLYTECHNIC INSTITUTE   \n",
       "4                          FALCARRAGH HIGH SCHOOL   \n",
       "\n",
       "   FOREIGN_WORKER_ED_INST_ADD_1 FOREIGN_WORKER_ED_INST_ADD_2  \\\n",
       "0               UL. JANA GOETZA                          NaN   \n",
       "1         10 BARANGAY GUIBEL ST                          NaN   \n",
       "2                           NaN                          NaN   \n",
       "3       IRLA LANE, VILE PARLE W                          NaN   \n",
       "4                           NaN                          NaN   \n",
       "\n",
       "  FOREIGN_WORKER_ED_INST_CITY FOREIGN_WORKER_ED_INST_STATE_P  \\\n",
       "0                     BRZESKO                            NaN   \n",
       "1                 SAN JACINTO                       BARANGAY   \n",
       "2                         NaN                            NaN   \n",
       "3                      MUMBAI                    MAHARASHTRA   \n",
       "4                  FALCARRAGH                            NaN   \n",
       "\n",
       "  FOREIGN_WORKER_ED_INST_COUNTRY FOREIGN_WORKER_ED_INST_POST_CD  \n",
       "0                         POLAND                         32-800  \n",
       "1                    PHILIPPINES                            NaN  \n",
       "2                            NaN                            NaN  \n",
       "3                          INDIA                         400056  \n",
       "4                        IRELAND                            NaN  \n",
       "\n",
       "[5 rows x 34 columns]"
      ]
     },
     "execution_count": 280,
     "metadata": {},
     "output_type": "execute_result"
    }
   ],
   "source": [
    "df.head()"
   ]
  },
  {
   "cell_type": "code",
   "execution_count": 281,
   "metadata": {},
   "outputs": [],
   "source": [
    "#Create a function to quickly retrieve relevant information from columns of feature data (particularly useful for summarizing columns of categorical variables)\n",
    "############vs Describe()??\n",
    "\n",
    "def column_info(df, column):\n",
    "    print(\"Total Values:\",len(df[column]))\n",
    "    print(\"Total Non-NaaN Values:\",df[column].count())\n",
    "    print(\"Total NaaN Values:\",(len(df[column]) - df[column].count()))\n",
    "    print(\"% NaaN Values\",(len(df[column]) - df[column].count())/df[column].count())\n",
    "    print(df[column].value_counts())\n",
    "    print(df[column].value_counts()/df[column].count())\n"
   ]
  },
  {
   "cell_type": "code",
   "execution_count": 282,
   "metadata": {},
   "outputs": [
    {
     "name": "stdout",
     "output_type": "stream",
     "text": [
      "Total Values: 69117\n",
      "Total Non-NaaN Values: 69117\n",
      "Total NaaN Values: 0\n",
      "% NaaN Values 0.0\n",
      "Certified    66235\n",
      "Denied        2882\n",
      "Name: CASE_STATUS, dtype: int64\n",
      "Certified    0.958303\n",
      "Denied       0.041697\n",
      "Name: CASE_STATUS, dtype: float64\n"
     ]
    }
   ],
   "source": [
    "#Evaluate case status breakdown\n",
    "column_info(df,'CASE_STATUS')"
   ]
  },
  {
   "cell_type": "markdown",
   "metadata": {},
   "source": [
    "### Analyze relationship between prevailing wages for jobs and case outcomes"
   ]
  },
  {
   "cell_type": "code",
   "execution_count": 283,
   "metadata": {},
   "outputs": [
    {
     "name": "stdout",
     "output_type": "stream",
     "text": [
      "Total Values: 69117\n",
      "Total Non-NaaN Values: 69107\n",
      "Total NaaN Values: 10\n",
      "% NaaN Values 0.00014470314150520207\n",
      "Year         68272\n",
      "Hour           809\n",
      "Week            12\n",
      "Month            9\n",
      "Bi-Weekly        5\n",
      "Name: PW_UNIT_OF_PAY, dtype: int64\n",
      "Year         0.987917\n",
      "Hour         0.011706\n",
      "Week         0.000174\n",
      "Month        0.000130\n",
      "Bi-Weekly    0.000072\n",
      "Name: PW_UNIT_OF_PAY, dtype: float64\n"
     ]
    }
   ],
   "source": [
    "column_info(df,'PW_UNIT_OF_PAY')"
   ]
  },
  {
   "cell_type": "code",
   "execution_count": 284,
   "metadata": {},
   "outputs": [
    {
     "data": {
      "text/plain": [
       "1337     1400.0\n",
       "23816    1000.0\n",
       "31720    4075.2\n",
       "56015    1923.0\n",
       "70672    2500.0\n",
       "Name: PW_WAGE, dtype: float64"
      ]
     },
     "execution_count": 284,
     "metadata": {},
     "output_type": "execute_result"
    }
   ],
   "source": [
    "#Validate various units of pay\n",
    "df.loc[df['PW_UNIT_OF_PAY'] == 'Bi-Weekly']['PW_WAGE'].head()"
   ]
  },
  {
   "cell_type": "code",
   "execution_count": 286,
   "metadata": {},
   "outputs": [
    {
     "data": {
      "text/plain": [
       "14.49"
      ]
     },
     "execution_count": 286,
     "metadata": {},
     "output_type": "execute_result"
    }
   ],
   "source": [
    "#Test BEFORE\n",
    "df['PW_WAGE'].iloc[0,]"
   ]
  },
  {
   "cell_type": "code",
   "execution_count": 287,
   "metadata": {},
   "outputs": [],
   "source": [
    "#Drop Null values prior to annualizing wages\n",
    "df = df[df['PW_UNIT_OF_PAY'].notna()]\n",
    "\n",
    "#Annualize wage\n",
    "counter = 0\n",
    "annualized_wage = list()\n",
    "\n",
    "for i in df['PW_UNIT_OF_PAY']:\n",
    "    if i == 'Year':\n",
    "        annualized_wage.append(df['PW_WAGE'].iloc[counter,])\n",
    "    elif i == 'Hour':\n",
    "        annualized_wage.append(df['PW_WAGE'].iloc[counter,] * 2080)\n",
    "    elif i == 'Week':\n",
    "        annualized_wage.append(df['PW_WAGE'].iloc[counter,] * 52)\n",
    "    elif i == 'Month':\n",
    "        annualized_wage.append(df['PW_WAGE'].iloc[counter,] * 12)\n",
    "    elif i == 'Bi-Weekly':\n",
    "        annualized_wage.append(df['PW_WAGE'].iloc[counter,] * 26)\n",
    "#    else:\n",
    "#       annualized_wage.append('0')\n",
    "    \n",
    "    counter = counter + 1\n",
    "\n",
    "#print(annualized_wage)\n",
    "df['Annualized_Wage'] =  annualized_wage"
   ]
  },
  {
   "cell_type": "code",
   "execution_count": 288,
   "metadata": {},
   "outputs": [
    {
     "data": {
      "text/plain": [
       "14.49"
      ]
     },
     "execution_count": 288,
     "metadata": {},
     "output_type": "execute_result"
    }
   ],
   "source": [
    "#Test - AFTER\n",
    "df['Annualized_Wage'].iloc[0,] / 2080"
   ]
  },
  {
   "cell_type": "markdown",
   "metadata": {},
   "source": [
    "### Analyze relationship between education, job skill level, and wages"
   ]
  },
  {
   "cell_type": "code",
   "execution_count": 314,
   "metadata": {},
   "outputs": [
    {
     "data": {
      "text/html": [
       "<div>\n",
       "<style scoped>\n",
       "    .dataframe tbody tr th:only-of-type {\n",
       "        vertical-align: middle;\n",
       "    }\n",
       "\n",
       "    .dataframe tbody tr th {\n",
       "        vertical-align: top;\n",
       "    }\n",
       "\n",
       "    .dataframe thead th {\n",
       "        text-align: right;\n",
       "    }\n",
       "</style>\n",
       "<table border=\"1\" class=\"dataframe\">\n",
       "  <thead>\n",
       "    <tr style=\"text-align: right;\">\n",
       "      <th></th>\n",
       "      <th>Annualized_Wage</th>\n",
       "    </tr>\n",
       "  </thead>\n",
       "  <tbody>\n",
       "    <tr>\n",
       "      <th>count</th>\n",
       "      <td>69101.000000</td>\n",
       "    </tr>\n",
       "    <tr>\n",
       "      <th>mean</th>\n",
       "      <td>89976.088510</td>\n",
       "    </tr>\n",
       "    <tr>\n",
       "      <th>std</th>\n",
       "      <td>37793.167545</td>\n",
       "    </tr>\n",
       "    <tr>\n",
       "      <th>min</th>\n",
       "      <td>14892.800000</td>\n",
       "    </tr>\n",
       "    <tr>\n",
       "      <th>25%</th>\n",
       "      <td>65520.000000</td>\n",
       "    </tr>\n",
       "    <tr>\n",
       "      <th>50%</th>\n",
       "      <td>92810.000000</td>\n",
       "    </tr>\n",
       "    <tr>\n",
       "      <th>75%</th>\n",
       "      <td>114338.000000</td>\n",
       "    </tr>\n",
       "    <tr>\n",
       "      <th>max</th>\n",
       "      <td>466240.000000</td>\n",
       "    </tr>\n",
       "  </tbody>\n",
       "</table>\n",
       "</div>"
      ],
      "text/plain": [
       "       Annualized_Wage\n",
       "count     69101.000000\n",
       "mean      89976.088510\n",
       "std       37793.167545\n",
       "min       14892.800000\n",
       "25%       65520.000000\n",
       "50%       92810.000000\n",
       "75%      114338.000000\n",
       "max      466240.000000"
      ]
     },
     "execution_count": 314,
     "metadata": {},
     "output_type": "execute_result"
    }
   ],
   "source": [
    "#Create dataframe stripping out Null values in Education column\n",
    "df1 = df[df['FOREIGN_WORKER_EDUCATION'].notna()]\n",
    "\n",
    "#Analyze quick metrics on column\n",
    "pd.DataFrame(df1['Annualized_Wage'].describe())"
   ]
  },
  {
   "cell_type": "code",
   "execution_count": 291,
   "metadata": {},
   "outputs": [
    {
     "data": {
      "image/png": "[encoded data removed]",
      "text/plain": [
       "<Figure size 1080x720 with 1 Axes>"
      ]
     },
     "metadata": {
      "needs_background": "light"
     },
     "output_type": "display_data"
    }
   ],
   "source": [
    "#Create order for plotting Education Level and Wage\n",
    "k = ['None','High School',\"Associate's\",\"Bachelor's\",\"Master's\",'Doctorate','Other']\n",
    "\n",
    "plt.figure(figsize = (15,10))\n",
    "sns.boxplot(x = 'FOREIGN_WORKER_EDUCATION', \n",
    "            y = 'Annualized_Wage', data = df1, order = k)\n",
    "\n",
    "plt.ylim(0, 300000)\n",
    "plt.show()\n",
    "\n",
    "#df1['FOREIGN_WORKER_EDUCATION'].head()\n",
    "#df1.info(verbose=1)"
   ]
  },
  {
   "cell_type": "code",
   "execution_count": 292,
   "metadata": {},
   "outputs": [
    {
     "data": {
      "image/png": "[encoded data removed]",
      "text/plain": [
       "<Figure size 1080x720 with 1 Axes>"
      ]
     },
     "metadata": {
      "needs_background": "light"
     },
     "output_type": "display_data"
    }
   ],
   "source": [
    "#Create order for plotting Job Skill Level and Wage\n",
    "k = ['Level I','Level II',\"Level III\",\"Level IV\"]\n",
    "\n",
    "plt.figure(figsize = (15,10))\n",
    "sns.boxplot(x = \"PW_SKILL_LEVEL\", \n",
    "            y = 'Annualized_Wage', data = df1, order = k)\n",
    "\n",
    "plt.ylim(0, 300000)\n",
    "plt.show()\n",
    "\n",
    "#df1['FOREIGN_WORKER_EDUCATION'].head()\n",
    "#df1.info(verbose=1)"
   ]
  },
  {
   "cell_type": "markdown",
   "metadata": {},
   "source": [
    "### Analyze relationship between education, job skill level, wages and case outcomes"
   ]
  },
  {
   "cell_type": "code",
   "execution_count": 294,
   "metadata": {},
   "outputs": [
    {
     "data": {
      "text/plain": [
       "1     40268.8\n",
       "3    131518.0\n",
       "6     92830.0\n",
       "7     74630.0\n",
       "9     42530.0\n",
       "Name: Annualized_Wage, dtype: float64"
      ]
     },
     "execution_count": 294,
     "metadata": {},
     "output_type": "execute_result"
    }
   ],
   "source": [
    "#Filter on certified cases\n",
    "df.loc[df['CASE_STATUS'] == 'Certified']['Annualized_Wage'].head()"
   ]
  },
  {
   "cell_type": "code",
   "execution_count": 295,
   "metadata": {},
   "outputs": [
    {
     "data": {
      "text/plain": [
       "<matplotlib.axes._subplots.AxesSubplot at 0x2233aea0860>"
      ]
     },
     "execution_count": 295,
     "metadata": {},
     "output_type": "execute_result"
    },
    {
     "data": {
      "image/png": "[encoded data removed]",
      "text/plain": [
       "<Figure size 1080x720 with 1 Axes>"
      ]
     },
     "metadata": {
      "needs_background": "light"
     },
     "output_type": "display_data"
    }
   ],
   "source": [
    "##### FLAG FOR FINAL #####\n",
    "#Analyze histogram of annualized wages for certified case outcomes\n",
    "plt.figure(figsize = (15,10))\n",
    "df.loc[df['CASE_STATUS'] == 'Certified']['Annualized_Wage'].hist(bins = 25, range = [0,300000])"
   ]
  },
  {
   "cell_type": "code",
   "execution_count": 337,
   "metadata": {},
   "outputs": [
    {
     "data": {
      "text/plain": [
       "Text(-49.0775, 542.5875, 'Median: 49,078')"
      ]
     },
     "execution_count": 337,
     "metadata": {},
     "output_type": "execute_result"
    },
    {
     "data": {
      "image/png": "[encoded data removed]",
      "text/plain": [
       "<Figure size 1080x720 with 1 Axes>"
      ]
     },
     "metadata": {
      "needs_background": "light"
     },
     "output_type": "display_data"
    }
   ],
   "source": [
    "##### FLAG FOR FINAL #####\n",
    "#Analyze histogram of annualized wages for denied case outcomes\n",
    "plt.figure(figsize = (15,10))\n",
    "\n",
    "df.loc[df['CASE_STATUS'] == 'Denied']['Annualized_Wage'].hist(bins = 25, range = [0,300000])\n",
    "#ax.yaxis.set_major_formatter(plt.StrMethodFormatter('{x:,.0f}'))\n",
    "\n",
    "min_ylim, max_ylim = plt.ylim()\n",
    "plt.axvline(df.loc[df['CASE_STATUS'] == 'Denied']['Annualized_Wage'].mean(), color='k', linestyle='solid', linewidth=1)\n",
    "plt.text(df.loc[df['CASE_STATUS'] == 'Denied']['Annualized_Wage'].mean()*1.1, max_ylim*0.975, 'Mean: {:,.0f}'.format(df.loc[df['CASE_STATUS'] == 'Denied']['Annualized_Wage'].mean()))\n",
    "\n",
    "plt.axvline(df.loc[df['CASE_STATUS'] == 'Denied']['Annualized_Wage'].median(), color='k', linestyle='dashed', linewidth=1)\n",
    "plt.text(df.loc[df['CASE_STATUS'] == 'Denied']['Annualized_Wage'].median()*-.001, max_ylim*0.975, 'Median: {:,.0f}'.format(df.loc[df['CASE_STATUS'] == 'Denied']['Annualized_Wage'].median()))\n"
   ]
  },
  {
   "cell_type": "code",
   "execution_count": 312,
   "metadata": {},
   "outputs": [
    {
     "data": {
      "text/html": [
       "<div>\n",
       "<style scoped>\n",
       "    .dataframe tbody tr th:only-of-type {\n",
       "        vertical-align: middle;\n",
       "    }\n",
       "\n",
       "    .dataframe tbody tr th {\n",
       "        vertical-align: top;\n",
       "    }\n",
       "\n",
       "    .dataframe thead th {\n",
       "        text-align: right;\n",
       "    }\n",
       "</style>\n",
       "<table border=\"1\" class=\"dataframe\">\n",
       "  <thead>\n",
       "    <tr style=\"text-align: right;\">\n",
       "      <th></th>\n",
       "      <th>Annualized_Wage</th>\n",
       "    </tr>\n",
       "  </thead>\n",
       "  <tbody>\n",
       "    <tr>\n",
       "      <th>count</th>\n",
       "      <td>66234.000000</td>\n",
       "    </tr>\n",
       "    <tr>\n",
       "      <th>mean</th>\n",
       "      <td>91262.878322</td>\n",
       "    </tr>\n",
       "    <tr>\n",
       "      <th>std</th>\n",
       "      <td>37235.709024</td>\n",
       "    </tr>\n",
       "    <tr>\n",
       "      <th>min</th>\n",
       "      <td>14892.800000</td>\n",
       "    </tr>\n",
       "    <tr>\n",
       "      <th>25%</th>\n",
       "      <td>68578.000000</td>\n",
       "    </tr>\n",
       "    <tr>\n",
       "      <th>50%</th>\n",
       "      <td>93642.000000</td>\n",
       "    </tr>\n",
       "    <tr>\n",
       "      <th>75%</th>\n",
       "      <td>114899.000000</td>\n",
       "    </tr>\n",
       "    <tr>\n",
       "      <th>max</th>\n",
       "      <td>466240.000000</td>\n",
       "    </tr>\n",
       "  </tbody>\n",
       "</table>\n",
       "</div>"
      ],
      "text/plain": [
       "       Annualized_Wage\n",
       "count     66234.000000\n",
       "mean      91262.878322\n",
       "std       37235.709024\n",
       "min       14892.800000\n",
       "25%       68578.000000\n",
       "50%       93642.000000\n",
       "75%      114899.000000\n",
       "max      466240.000000"
      ]
     },
     "execution_count": 312,
     "metadata": {},
     "output_type": "execute_result"
    }
   ],
   "source": [
    "#Compare stats between Certified vs Denied and job wage\n",
    "########Calculate median bc skewed data set?? Add as a line on the plot.\n",
    "pd.DataFrame(df.loc[df['CASE_STATUS'] == 'Certified']['Annualized_Wage'].describe())"
   ]
  },
  {
   "cell_type": "code",
   "execution_count": 313,
   "metadata": {},
   "outputs": [
    {
     "data": {
      "text/html": [
       "<div>\n",
       "<style scoped>\n",
       "    .dataframe tbody tr th:only-of-type {\n",
       "        vertical-align: middle;\n",
       "    }\n",
       "\n",
       "    .dataframe tbody tr th {\n",
       "        vertical-align: top;\n",
       "    }\n",
       "\n",
       "    .dataframe thead th {\n",
       "        text-align: right;\n",
       "    }\n",
       "</style>\n",
       "<table border=\"1\" class=\"dataframe\">\n",
       "  <thead>\n",
       "    <tr style=\"text-align: right;\">\n",
       "      <th></th>\n",
       "      <th>Annualized_Wage</th>\n",
       "    </tr>\n",
       "  </thead>\n",
       "  <tbody>\n",
       "    <tr>\n",
       "      <th>count</th>\n",
       "      <td>2872.000000</td>\n",
       "    </tr>\n",
       "    <tr>\n",
       "      <th>mean</th>\n",
       "      <td>60268.247354</td>\n",
       "    </tr>\n",
       "    <tr>\n",
       "      <th>std</th>\n",
       "      <td>38460.119250</td>\n",
       "    </tr>\n",
       "    <tr>\n",
       "      <th>min</th>\n",
       "      <td>15080.000000</td>\n",
       "    </tr>\n",
       "    <tr>\n",
       "      <th>25%</th>\n",
       "      <td>28808.000000</td>\n",
       "    </tr>\n",
       "    <tr>\n",
       "      <th>50%</th>\n",
       "      <td>49077.500000</td>\n",
       "    </tr>\n",
       "    <tr>\n",
       "      <th>75%</th>\n",
       "      <td>83740.750000</td>\n",
       "    </tr>\n",
       "    <tr>\n",
       "      <th>max</th>\n",
       "      <td>267634.000000</td>\n",
       "    </tr>\n",
       "  </tbody>\n",
       "</table>\n",
       "</div>"
      ],
      "text/plain": [
       "       Annualized_Wage\n",
       "count      2872.000000\n",
       "mean      60268.247354\n",
       "std       38460.119250\n",
       "min       15080.000000\n",
       "25%       28808.000000\n",
       "50%       49077.500000\n",
       "75%       83740.750000\n",
       "max      267634.000000"
      ]
     },
     "execution_count": 313,
     "metadata": {},
     "output_type": "execute_result"
    }
   ],
   "source": [
    "##Calculate median bc skewed data set?? Add as a line on the plot.\n",
    "pd.DataFrame(df.loc[df['CASE_STATUS'] == 'Denied']['Annualized_Wage'].describe())"
   ]
  },
  {
   "cell_type": "markdown",
   "metadata": {},
   "source": [
    "Analysis:..."
   ]
  },
  {
   "cell_type": "code",
   "execution_count": null,
   "metadata": {},
   "outputs": [],
   "source": []
  },
  {
   "cell_type": "code",
   "execution_count": null,
   "metadata": {},
   "outputs": [],
   "source": []
  },
  {
   "cell_type": "markdown",
   "metadata": {},
   "source": [
    "### Explore and Analyze other differences between Denied and Certifed statuses"
   ]
  },
  {
   "cell_type": "code",
   "execution_count": 305,
   "metadata": {},
   "outputs": [],
   "source": [
    "df_denied = df.loc[df['CASE_STATUS'] == 'Denied']\n",
    "df_certd = df.loc[df['CASE_STATUS'] == 'Certified']\n",
    "df_denied_sub_50k = df_denied.loc[df_denied['Annualized_Wage']< 50000]"
   ]
  },
  {
   "cell_type": "code",
   "execution_count": 306,
   "metadata": {},
   "outputs": [
    {
     "name": "stdout",
     "output_type": "stream",
     "text": [
      "Total Values: 66234\n",
      "Total Non-NaaN Values: 66232\n",
      "Total NaaN Values: 2\n",
      "% NaaN Values 3.0196883681604057e-05\n",
      "Master's       29867\n",
      "Bachelor's     22306\n",
      "None            6828\n",
      "Doctorate       3386\n",
      "Other           2137\n",
      "High School     1358\n",
      "Associate's      350\n",
      "Name: FOREIGN_WORKER_EDUCATION, dtype: int64\n",
      "Master's       0.450945\n",
      "Bachelor's     0.336786\n",
      "None           0.103092\n",
      "Doctorate      0.051123\n",
      "Other          0.032265\n",
      "High School    0.020504\n",
      "Associate's    0.005284\n",
      "Name: FOREIGN_WORKER_EDUCATION, dtype: float64\n"
     ]
    }
   ],
   "source": [
    "#column_info(df_certd,'MAJOR_FIELD_OF_STUDY')\n",
    "column_info(df_certd,'FOREIGN_WORKER_EDUCATION')"
   ]
  },
  {
   "cell_type": "code",
   "execution_count": 304,
   "metadata": {},
   "outputs": [
    {
     "name": "stdout",
     "output_type": "stream",
     "text": [
      "Total Values: 2873\n",
      "Total Non-NaaN Values: 2870\n",
      "Total NaaN Values: 3\n",
      "% NaaN Values 0.0010452961672473868\n",
      "None           932\n",
      "Bachelor's     694\n",
      "Master's       615\n",
      "High School    382\n",
      "Other          115\n",
      "Associate's     69\n",
      "Doctorate       63\n",
      "Name: FOREIGN_WORKER_EDUCATION, dtype: int64\n",
      "None           0.324739\n",
      "Bachelor's     0.241812\n",
      "Master's       0.214286\n",
      "High School    0.133101\n",
      "Other          0.040070\n",
      "Associate's    0.024042\n",
      "Doctorate      0.021951\n",
      "Name: FOREIGN_WORKER_EDUCATION, dtype: float64\n"
     ]
    }
   ],
   "source": [
    "#column_info(df_denied,'MAJOR_FIELD_OF_STUDY')\n",
    "column_info(df_denied,'FOREIGN_WORKER_EDUCATION')"
   ]
  },
  {
   "cell_type": "code",
   "execution_count": null,
   "metadata": {},
   "outputs": [],
   "source": []
  },
  {
   "cell_type": "code",
   "execution_count": 308,
   "metadata": {},
   "outputs": [
    {
     "name": "stdout",
     "output_type": "stream",
     "text": [
      "Total Values: 66234\n",
      "Total Non-NaaN Values: 62330\n",
      "Total NaaN Values: 3904\n",
      "% NaaN Values 0.06263436547408953\n",
      "Level II     21191\n",
      "Level I      15040\n",
      "Level IV     14134\n",
      "Level III    11965\n",
      "Name: PW_SKILL_LEVEL, dtype: int64\n",
      "Level II     0.339981\n",
      "Level I      0.241296\n",
      "Level IV     0.226761\n",
      "Level III    0.191962\n",
      "Name: PW_SKILL_LEVEL, dtype: float64\n"
     ]
    }
   ],
   "source": [
    "column_info(df_certd,'PW_SKILL_LEVEL')"
   ]
  },
  {
   "cell_type": "code",
   "execution_count": 309,
   "metadata": {},
   "outputs": [
    {
     "name": "stdout",
     "output_type": "stream",
     "text": [
      "Total Values: 2873\n",
      "Total Non-NaaN Values: 2636\n",
      "Total NaaN Values: 237\n",
      "% NaaN Values 0.08990895295902883\n",
      "Level I      971\n",
      "Level IV     617\n",
      "Level II     615\n",
      "Level III    433\n",
      "Name: PW_SKILL_LEVEL, dtype: int64\n",
      "Level I      0.368361\n",
      "Level IV     0.234067\n",
      "Level II     0.233308\n",
      "Level III    0.164264\n",
      "Name: PW_SKILL_LEVEL, dtype: float64\n"
     ]
    }
   ],
   "source": [
    "column_info(df_denied,'PW_SKILL_LEVEL')"
   ]
  },
  {
   "cell_type": "code",
   "execution_count": 310,
   "metadata": {},
   "outputs": [
    {
     "name": "stdout",
     "output_type": "stream",
     "text": [
      "Total Values: 1461\n",
      "Total Non-NaaN Values: 1309\n",
      "Total NaaN Values: 152\n",
      "% NaaN Values 0.11611917494270435\n",
      "Level I      714\n",
      "Level IV     221\n",
      "Level II     201\n",
      "Level III    173\n",
      "Name: PW_SKILL_LEVEL, dtype: int64\n",
      "Level I      0.545455\n",
      "Level IV     0.168831\n",
      "Level II     0.153552\n",
      "Level III    0.132162\n",
      "Name: PW_SKILL_LEVEL, dtype: float64\n"
     ]
    }
   ],
   "source": [
    "column_info(df_denied_sub_50k,'PW_SKILL_LEVEL')"
   ]
  },
  {
   "cell_type": "code",
   "execution_count": null,
   "metadata": {},
   "outputs": [],
   "source": [
    "#Stretch goal: \n",
    "#Heat map with multiple continuous features (might work with discrete w/ high quantities?)\n",
    "#Word map for job majors"
   ]
  }
 ],
 "metadata": {
  "kernelspec": {
   "display_name": "Python [conda env:root] *",
   "language": "python",
   "name": "conda-root-py"
  },
  "language_info": {
   "codemirror_mode": {
    "name": "ipython",
    "version": 3
   },
   "file_extension": ".py",
   "mimetype": "text/x-python",
   "name": "python",
   "nbconvert_exporter": "python",
   "pygments_lexer": "ipython3",
   "version": "3.7.3"
  }
 },
 "nbformat": 4,
 "nbformat_minor": 2
}
