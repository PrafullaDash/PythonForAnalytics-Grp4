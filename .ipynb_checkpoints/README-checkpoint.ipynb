{
 "cells": [
  {
   "cell_type": "markdown",
   "metadata": {
    "heading_collapsed": true
   },
   "source": [
    "# PythonForAnalytics-Grp4\n",
    "Python for Analytics Group 4 Project Code Repository"
   ]
  },
  {
   "cell_type": "markdown",
   "metadata": {
    "hidden": true
   },
   "source": [
    "## Project Members:\n",
    "Brandon Carp\n",
    "Shyan DasMadan\n",
    "Sam Gunther\n",
    "Prafulla Ranjan Dash"
   ]
  },
  {
   "cell_type": "markdown",
   "metadata": {
    "heading_collapsed": true
   },
   "source": [
    "# Detailed Requirements"
   ]
  },
  {
   "cell_type": "markdown",
   "metadata": {
    "hidden": true
   },
   "source": [
    "## Outline (from Canvas):\n",
    "You and your teammates form a  journalism department. Your task is to provide interesting insights or analysis based on the file listed below. \n",
    "\n",
    "Instead of worrying about \"staying within the lines,\" be creative in how look for insights and in how you present them. In that sense, this is a very easy assignment. As long as you fulfill the requirements, you will get full marks for this assignment. \n",
    "\n",
    "However, your final notebook, containing your names, will be shared with all of your classmates (who will be asked to not share it publicly).\n",
    "\n",
    "I expect your final notebook to at least contain basic exploration of data. At least basic data cleaning. I expect you to show some interesting insights you were able to glean from the data set, supplemented with visual charts."
   ]
  },
  {
   "cell_type": "markdown",
   "metadata": {
    "hidden": true
   },
   "source": [
    "## Requirements:\n",
    "   \n",
    "- Download file from https://www.foreignlaborcert.doleta.gov/performancedata.cfm#dis the latest version PERM \"FY2020 Q3.xlsx\"\n",
    "    - Data dictionary available under \"PERM Record Layout.pdf\" link\n",
    "- Form groups of three and explore the data\n",
    "    - Do quick exploration of data\n",
    "        - Create histograms of variables\n",
    "        - Pay attention to which ones you like\n",
    "        - Investigate data exploration tools, some ideas: \n",
    "            - pandas profiling https://github.com/pandas-profiling/pandas-profiling\n",
    "            - dabl https://amueller.github.io/dabl/dev/index.html (from one of the core contributors of Scikit-Learn)\n",
    "            - t hink about joining other datasets to augment this file\n",
    "    - Come up with ideas about what you want to explore. Potential ideas:\n",
    "        - Which cases are more likely to succeed given a profession, city, lawyer, filing date?\n",
    "        - Use tf/idf or word vectors or whatever to summarize professions (NLP)\n",
    "        - What are the top newspapers for each city vs profession (blue collar vs white collar)\n",
    "        - Don't try to investigate everything! Pick a direction, let other teams follow their own paths\n",
    "    - Clean/normalize the data. Potential ideas:\n",
    "        - missing values?\n",
    "        - pay in terms of hourly vs annual?\n",
    "        - why are some descriptions all caps?\n",
    "    - Clearly communicate results. \n",
    "        - Use lessons from \"Leadership\" class (if you've taken it)\n",
    "        - But use jupyter, not power point (unless you want to use the RISE plugin for Jupyter or something similar)\n",
    "        - Create nice visualizations (optional)\n",
    "     - You must use GitHub to manage this project and coordinate among your teammates \n",
    "        - This should be very helpful: https://github.com/jupyterlab/jupyterlab-git\n",
    "        - This is an alternative, probably not as user friendly https://github.com/jupyter/nbdime\n",
    "    - Since this is a team project, you must come up with a good methodology for managing changes, here are some suggestions:\n",
    "        - http://drivendata.github.io/cookiecutter-data-science/\n",
    "        - https://github.com/quantumblacklabs/kedro\n",
    "        - Just give these links a quick read. You don't have to install any packages. Just pay attention to their recommendations.\n",
    "            - Pay attention to their directory structure and how they organize their notebooks, data assets, etc.\n",
    "            - Pay attention to how they name their files\n",
    "            - Pay attention to what other lessons you can learn from them, but trying to follow every suggestion will likely be a waste of time for such a short project"
   ]
  },
  {
   "cell_type": "markdown",
   "metadata": {
    "hidden": true
   },
   "source": [
    "## Ethics:\n",
    "- This data contains LOTS of private information. Use it with care.\n",
    "    - Would you still be ok if your analysis became public, perhaps viral?\n",
    "- Expect your anaysis to be challenged. Challenge the analysis of other teams"
   ]
  },
  {
   "cell_type": "markdown",
   "metadata": {
    "hidden": true
   },
   "source": [
    "## Deliverable:\n",
    "- I expect one main python notebook containing your analysis\n",
    "- You can upload a zipped folder which contains supporting notebooks which contain\n",
    "    - Your basic exploration\n",
    "    - Experiments you may have done\n",
    "    - A README file telling me where to find the main notebook\n",
    "    - Everything, except the main notebook is optional"
   ]
  },
  {
   "cell_type": "markdown",
   "metadata": {
    "hidden": true
   },
   "source": [
    "## General notes:\n",
    "- You may use any package and learn from anyone (classmates, resources on the internet), but may not directly copy\n",
    "    - Feel free to reach out to your colleagues to see what they are doing. Set up zoom calls for walkthroughs of each other's work\n",
    "    - Investigate visualization packages, some ideas to get you started: matplotlib, seaborn, altair, bokeh, holoviews, bqplot\n",
    "- You do not have to build prediction or clustering models, but you may build several if you like\n",
    "- You can \"hire\" me to provide extra lectures on version control, visualization or any other topic. The cost is that you must convince at least 8 people to attend this extra lecture. "
   ]
  },
  {
   "cell_type": "markdown",
   "metadata": {
    "hidden": true
   },
   "source": [
    "## Here are some interesting notebooks I found online:\n",
    "- Notebook which is nicely done, although it is in French:\n",
    "    - https://github.com/jhroy/theses/blob/master/theses.ipynb\n",
    "- World differences in infectious tuberculosis prevalence:\n",
    "    - https://github.com/jadianes/data-journalism/tree/master/articles/tuberculosis-world-situation\n",
    "- Exploring Datasets with Python:\n",
    "    - https://github.com/MartinSeeler/python-data-exploration/blob/master/Exploring%20Datasets.ipynb"
   ]
  },
  {
   "cell_type": "markdown",
   "metadata": {},
   "source": [
    "# Group 4 Breakout"
   ]
  },
  {
   "cell_type": "markdown",
   "metadata": {},
   "source": [
    "## 1 - Analyze features\n",
    "Our group decided to begin analysis efforts by dividing up the features (columns) and examining how the features differ between approved and denied applications. The group divided the features as follows:"
   ]
  },
  {
   "cell_type": "markdown",
   "metadata": {},
   "source": [
    "### Assigned Features:\n",
    "\n",
    "#### Shyan DasMadan\n",
    "- Columns starting with EMPLOYER\n",
    "- Columns starting with AGENT\n",
    "\n",
    "#### Sam Gunther\n",
    "- Columns related to education\n",
    "- Columns related to wage\n",
    "\n",
    "#### Prafulla Ranjan Dash\n",
    "- MAJOR_FIELD_OF_STUDY\n",
    "- REQUIRED_TRAINING\n",
    "- REQUIRED_FIELD_OF_TRAINING\n",
    "- REQUIRED_EXPERIENCE\n",
    "- REQUIRED_EXPERIENCE_MONTHS\n",
    "- FOREIGN_LANGUAGE_REQUIRED\n",
    "\n",
    "#### Brandon Carp\n",
    "- Remaining columns"
   ]
  },
  {
   "cell_type": "code",
   "execution_count": null,
   "metadata": {},
   "outputs": [],
   "source": []
  }
 ],
 "metadata": {
  "kernelspec": {
   "display_name": "Python 3",
   "language": "python",
   "name": "python3"
  },
  "language_info": {
   "codemirror_mode": {
    "name": "ipython",
    "version": 3
   },
   "file_extension": ".py",
   "mimetype": "text/x-python",
   "name": "python",
   "nbconvert_exporter": "python",
   "pygments_lexer": "ipython3",
   "version": "3.7.1"
  },
  "toc": {
   "base_numbering": 1,
   "nav_menu": {},
   "number_sections": false,
   "sideBar": true,
   "skip_h1_title": false,
   "title_cell": "Table of Contents",
   "title_sidebar": "Contents",
   "toc_cell": false,
   "toc_position": {
    "height": "calc(100% - 180px)",
    "left": "10px",
    "top": "150px",
    "width": "312.358px"
   },
   "toc_section_display": true,
   "toc_window_display": true
  },
  "varInspector": {
   "cols": {
    "lenName": 16,
    "lenType": 16,
    "lenVar": 40
   },
   "kernels_config": {
    "python": {
     "delete_cmd_postfix": "",
     "delete_cmd_prefix": "del ",
     "library": "var_list.py",
     "varRefreshCmd": "print(var_dic_list())"
    },
    "r": {
     "delete_cmd_postfix": ") ",
     "delete_cmd_prefix": "rm(",
     "library": "var_list.r",
     "varRefreshCmd": "cat(var_dic_list()) "
    }
   },
   "types_to_exclude": [
    "module",
    "function",
    "builtin_function_or_method",
    "instance",
    "_Feature"
   ],
   "window_display": false
  }
 },
 "nbformat": 4,
 "nbformat_minor": 4
}
