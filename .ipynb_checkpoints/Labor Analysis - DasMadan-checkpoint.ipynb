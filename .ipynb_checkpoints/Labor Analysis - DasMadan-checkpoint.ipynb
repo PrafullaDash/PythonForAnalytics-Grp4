{
 "cells": [
  {
   "cell_type": "markdown",
   "metadata": {},
   "source": [
    "## Group Project\n",
    "### Brandon Carp, Shyan DasMadan, Sam Gunther, Prafulla Ranjan Dash\n",
    "\n",
    "As a journalism department, our task is to provide insights into why certain foreign labor cases are __denied__ and provide recommendations on what to avoid when applying in easy to understand visualizations as well as other forms of consumption."
   ]
  },
  {
   "cell_type": "code",
   "execution_count": null,
   "metadata": {},
   "outputs": [],
   "source": [
    "import pandas as pd\n",
    "\n",
    "df = pd.read_excel(\"PERM_FY2020_Q3.xlsx\")"
   ]
  },
  {
   "cell_type": "code",
   "execution_count": 189,
   "metadata": {},
   "outputs": [
    {
     "name": "stdout",
     "output_type": "stream",
     "text": [
      "Number of Rows: 71942\n",
      "Number of Columns: 154\n"
     ]
    }
   ],
   "source": [
    "# total number of rows and columns\n",
    "print('Number of Rows:', df.shape[0])\n",
    "print('Number of Columns:', df.shape[1])\n",
    "\n",
    "n = df.CASE_NUMBER.count()"
   ]
  },
  {
   "cell_type": "code",
   "execution_count": 192,
   "metadata": {},
   "outputs": [
    {
     "name": "stdout",
     "output_type": "stream",
     "text": [
      "CASE_NUMBER\n",
      "CASE_STATUS\n",
      "RECEIVED_DATE\n",
      "DECISION_DATE\n",
      "REFILE\n",
      "ORIG_FILE_DATE\n",
      "PREVIOUS_SWA_CASE_NUMBER_STATE\n",
      "SCHD_A_SHEEPHERDER\n",
      "EMPLOYER_NAME\n",
      "EMPLOYER_ADDRESS_1\n",
      "EMPLOYER_ADDRESS_2\n",
      "EMPLOYER_CITY\n",
      "EMPLOYER_STATE_PROVINCE\n",
      "EMPLOYER_COUNTRY\n",
      "EMPLOYER_POSTAL_CODE\n",
      "EMPLOYER_PHONE\n",
      "EMPLOYER_PHONE_EXT\n",
      "EMPLOYER_NUM_EMPLOYEES\n",
      "EMPLOYER_YEAR_COMMENCED_BUSINESS\n",
      "NAICS_CODE\n",
      "FW_OWNERSHIP_INTEREST\n",
      "EMP_CONTACT_NAME\n",
      "EMP_CONTACT_ADDRESS_1\n",
      "EMP_CONTACT_ADDRESS_2\n",
      "EMP_CONTACT_CITY\n",
      "EMP_CONTACT_STATE_PROVINCE\n",
      "EMP_CONTACT_COUNTRY\n",
      "EMP_CONTACT_POSTAL_CODE\n",
      "EMP_CONTACT_PHONE\n",
      "EMP_CONTACT_EMAIL\n",
      "AGENT_ATTORNEY_NAME\n",
      "AGENT_ATTORNEY_FIRM_NAME\n",
      "AGENT_ATTORNEY_PHONE\n",
      "AGENT_ATTORNEY_PHONE_EXT\n",
      "AGENT_ATTORNEY_ADDRESS_1\n",
      "AGENT_ATTORNEY_ADDRESS_2\n",
      "AGENT_ATTORNEY_CITY\n",
      "AGENT_ATTORNEY_STATE_PROVINCE\n",
      "AGENT_ATTORNEY_COUNTRY\n",
      "AGENT_ATTORNEY_POSTAL_CODE\n",
      "AGENT_ATTORNEY_EMAIL\n",
      "PW_TRACK_NUMBER\n",
      "PW_SOC_CODE\n",
      "PW_SOC_TITLE\n",
      "PW_SKILL_LEVEL\n",
      "PW_WAGE\n",
      "PW_UNIT_OF_PAY\n",
      "PW_WAGE_SOURCE\n",
      "PW_SOURCE_NAME_OTHER\n",
      "PW_DETERMINATION_DATE\n",
      "PW_EXPIRATION_DATE\n",
      "WAGE_OFFER_FROM\n",
      "WAGE_OFFER_TO\n",
      "WAGE_OFFER_UNIT_OF_PAY\n",
      "WORKSITE_ADDRESS_1\n",
      "WORKSITE_ADDRESS_2\n",
      "WORKSITE_CITY\n",
      "WORKSITE_STATE\n",
      "WORKSITE_POSTAL_CODE\n",
      "JOB_TITLE\n",
      "MINIMUM_EDUCATION\n",
      "JOB_EDUCATION_MIN_OTHER\n",
      "MAJOR_FIELD_OF_STUDY\n",
      "REQUIRED_TRAINING\n",
      "REQUIRED_TRAINING_MONTHS\n",
      "REQUIRED_FIELD_OF_TRAINING\n",
      "REQUIRED_EXPERIENCE\n",
      "REQUIRED_EXPERIENCE_MONTHS\n",
      "ACCEPT_ALT_FIELD_OF_STUDY\n",
      "ACCEPT_ALT_MAJOR_FLD_OF_STUDY\n",
      "ACCEPT_ALT_COMBO\n",
      "ACCEPT_ALT_COMBO_EDUCATION\n",
      "ACCEPT_ALT_COMBO_ED_OTHER\n",
      "ACCEPT_ALT_COMBO_EDUCATION_YRS\n",
      "ACCEPT_FOREIGN_EDUCATION\n",
      "ACCEPT_ALT_OCCUPATION\n",
      "ACCEPT_ALT_OCCUPATION_MONTHS\n",
      "ACCEPT_ALT_JOB_TITLE\n",
      "JOB_OPP_REQUIREMENTS_NORMAL\n",
      "FOREIGN_LANGUAGE_REQUIRED\n",
      "SPECIFIC_SKILLS\n",
      "COMBINATION_OCCUPATION\n",
      "OFFERED_TO_APPL_FOREIGN_WORKER\n",
      "FOREIGN_WORKER_LIVE_ON_PREM\n",
      "FOREIGN_WORKER_LIVE_IN_DOM_SER\n",
      "FOREIGN_WORKER_LIVE_IN_DOM_CNT\n",
      "PROFESSIONAL_OCCUPATION\n",
      "APP_FOR_COLLEGE_U_TEACHER\n",
      "COMPETITIVE_PROCESS\n",
      "BASIC_RECRUITMENT_PROCESS\n",
      "TEACHER_SELECT_DATE\n",
      "TEACHER_PUB_JOURNAL_NAME\n",
      "ADD_RECRUIT_INFORMATION\n",
      "SWA_JOB_ORDER_START_DATE\n",
      "SWA_JOB_ORDER_END_DATE\n",
      "SUNDAY_EDITION_NEWSPAPER\n",
      "FIRST_NEWSPAPER_NAME\n",
      "FIRST_ADVERTISEMENT_START_DATE\n",
      "SECOND_NEWSPAPER_AD_NAME\n",
      "SECOND_ADVERTISEMENT_TYPE\n",
      "SECOND_AD_START_DATE\n",
      "JOB_FAIR_FROM_DATE\n",
      "JOB_FAIR_TO_DATE\n",
      "ON_CAMPUS_RECRUITING_FROM_DATE\n",
      "ON_CAMPUS_RECRUITING_TO_DATE\n",
      "EMPLOYER_WEBSITE_FROM_DATE\n",
      "EMPLOYER_WEBSITE_TO_DATE\n",
      "PRO_ORG_AD_FROM_DATE\n",
      "PRO_ORG_ADVERTISEMENT_TO_DATE\n",
      "JOB_SEARCH_WEBSITE_FROM_DATE\n",
      "JOB_SEARCH_WEBSITE_TO_DATE\n",
      "PVT_EMPLOYMENT_FIRM_FROM_DATE\n",
      "PVT_EMPLOYMENT_FIRM_TO_DATE\n",
      "EMPLOYEE_REF_PROG_FROM_DATE\n",
      "EMPLOYEE_REFERRAL_PROG_TO_DATE\n",
      "CAMPUS_PLACEMENT_FROM_DATE\n",
      "CAMPUS_PLACEMENT_TO_DATE\n",
      "LOCAL_ETHNIC_PAPER_FROM_DATE\n",
      "LOCAL_ETHNIC_PAPER_TO_DATE\n",
      "RADIO_TV_AD_FROM_DATE\n",
      "RADIO_TV_AD_TO_DATE\n",
      "EMP_RECEIVED_PAYMENT\n",
      "PAYMENT_DETAILS\n",
      "BARGAINING_REP_NOTIFIED\n",
      "POSTED_NOTICE_AT_WORKSITE\n",
      "LAYOFF_IN_PAST_SIX_MONTHS\n",
      "US_WORKERS_CONSIDERED\n",
      "COUNTRY_OF_CITIZENSHIP\n",
      "FOREIGN_WORKER_BIRTH_COUNTRY\n",
      "CLASS_OF_ADMISSION\n",
      "FOREIGN_WORKER_EDUCATION\n",
      "FOREIGN_WORKER_EDUCATION_OTHER\n",
      "FOREIGN_WORKER_INFO_MAJOR\n",
      "FOREIGN_WORKER_YRS_ED_COMP\n",
      "FOREIGN_WORKER_INST_OF_ED\n",
      "FOREIGN_WORKER_ED_INST_ADD_1\n",
      "FOREIGN_WORKER_ED_INST_ADD_2\n",
      "FOREIGN_WORKER_ED_INST_CITY\n",
      "FOREIGN_WORKER_ED_INST_STATE_P\n",
      "FOREIGN_WORKER_ED_INST_COUNTRY\n",
      "FOREIGN_WORKER_ED_INST_POST_CD\n",
      "FOREIGN_WORKER_TRAINING_COMP\n",
      "FOREIGN_WORKER_REQ_EXPERIENCE\n",
      "FOREIGN_WORKER_ALT_ED_EXP\n",
      "FOREIGN_WORKER_ALT_OCC_EXP\n",
      "FOREIGN_WORKER_EXP_WITH_EMPL\n",
      "FOREIGN_WORKER_EMPL_PAY_FOR_ED\n",
      "FOREIGN_WORKER_CURR_EMPLOYED\n",
      "EMPLOYER_COMPLETED_APPLICATION\n",
      "PREPARER_NAME\n",
      "PREPARER_TITLE\n",
      "PREPARER_EMAIL\n",
      "EMP_INFO_DECL_NAME\n",
      "EMP_INFO_DECL_TITLE\n"
     ]
    }
   ],
   "source": [
    "# view column names\n",
    "for i in df.columns:\n",
    "    print(i)"
   ]
  },
  {
   "cell_type": "code",
   "execution_count": 193,
   "metadata": {},
   "outputs": [
    {
     "data": {
      "text/plain": [
       "<matplotlib.axes._subplots.AxesSubplot at 0x7fad73241fd0>"
      ]
     },
     "execution_count": 193,
     "metadata": {},
     "output_type": "execute_result"
    },
    {
     "data": {
      "image/png": "[encoded data removed]",
      "text/plain": [
       "<Figure size 432x288 with 1 Axes>"
      ]
     },
     "metadata": {
      "needs_background": "light"
     },
     "output_type": "display_data"
    }
   ],
   "source": [
    "# total number of cases binned by case status bucket\n",
    "import seaborn as sns\n",
    "sns.countplot(x = 'CASE_STATUS', data = df)"
   ]
  },
  {
   "cell_type": "code",
   "execution_count": 211,
   "metadata": {},
   "outputs": [],
   "source": [
    "# Plot cases by when month and year of when they were receieved\n",
    "import datetime\n",
    "df['DECISION_DATE'] = pd.to_datetime(df.DECISION_DATE)\n",
    "df['DECISION_YEAR_MONTH'] = [str(i.year) + ' / ' + str(i.month) for i in df['DECISION_DATE']]\n",
    "df.NUM_REC = 1"
   ]
  },
  {
   "cell_type": "code",
   "execution_count": null,
   "metadata": {},
   "outputs": [],
   "source": [
    "df[]"
   ]
  }
 ],
 "metadata": {
  "kernelspec": {
   "display_name": "Python 3",
   "language": "python",
   "name": "python3"
  },
  "language_info": {
   "codemirror_mode": {
    "name": "ipython",
    "version": 3
   },
   "file_extension": ".py",
   "mimetype": "text/x-python",
   "name": "python",
   "nbconvert_exporter": "python",
   "pygments_lexer": "ipython3",
   "version": "3.7.6"
  }
 },
 "nbformat": 4,
 "nbformat_minor": 4
}
