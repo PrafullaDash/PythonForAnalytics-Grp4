{
 "cells": [
  {
   "cell_type": "code",
   "execution_count": 1,
   "metadata": {},
   "outputs": [],
   "source": [
    "#%%timeit\n",
    "%matplotlib inline\n",
    "import numpy as np\n",
    "import pandas as pd\n",
    "import matplotlib.pyplot as plt\n",
    "import seaborn as sns"
   ]
  },
  {
   "cell_type": "code",
   "execution_count": 2,
   "metadata": {},
   "outputs": [],
   "source": [
    "#%%timeit\n",
    "df = pd.read_excel(\"PERM_FY2020_Q3.xlsx\")"
   ]
  },
  {
   "cell_type": "code",
   "execution_count": 3,
   "metadata": {},
   "outputs": [
    {
     "data": {
      "text/html": [
       "<div>\n",
       "<style scoped>\n",
       "    .dataframe tbody tr th:only-of-type {\n",
       "        vertical-align: middle;\n",
       "    }\n",
       "\n",
       "    .dataframe tbody tr th {\n",
       "        vertical-align: top;\n",
       "    }\n",
       "\n",
       "    .dataframe thead th {\n",
       "        text-align: right;\n",
       "    }\n",
       "</style>\n",
       "<table border=\"1\" class=\"dataframe\">\n",
       "  <thead>\n",
       "    <tr style=\"text-align: right;\">\n",
       "      <th></th>\n",
       "      <th>CASE_NUMBER</th>\n",
       "      <th>CASE_STATUS</th>\n",
       "      <th>RECEIVED_DATE</th>\n",
       "      <th>DECISION_DATE</th>\n",
       "      <th>REFILE</th>\n",
       "      <th>ORIG_FILE_DATE</th>\n",
       "      <th>PREVIOUS_SWA_CASE_NUMBER_STATE</th>\n",
       "      <th>SCHD_A_SHEEPHERDER</th>\n",
       "      <th>EMPLOYER_NAME</th>\n",
       "      <th>EMPLOYER_ADDRESS_1</th>\n",
       "      <th>...</th>\n",
       "      <th>FOREIGN_WORKER_ALT_OCC_EXP</th>\n",
       "      <th>FOREIGN_WORKER_EXP_WITH_EMPL</th>\n",
       "      <th>FOREIGN_WORKER_EMPL_PAY_FOR_ED</th>\n",
       "      <th>FOREIGN_WORKER_CURR_EMPLOYED</th>\n",
       "      <th>EMPLOYER_COMPLETED_APPLICATION</th>\n",
       "      <th>PREPARER_NAME</th>\n",
       "      <th>PREPARER_TITLE</th>\n",
       "      <th>PREPARER_EMAIL</th>\n",
       "      <th>EMP_INFO_DECL_NAME</th>\n",
       "      <th>EMP_INFO_DECL_TITLE</th>\n",
       "    </tr>\n",
       "  </thead>\n",
       "  <tbody>\n",
       "    <tr>\n",
       "      <th>0</th>\n",
       "      <td>A-09245-62715</td>\n",
       "      <td>Denied</td>\n",
       "      <td>2009-09-03</td>\n",
       "      <td>2020-04-30 14:50:29</td>\n",
       "      <td>N</td>\n",
       "      <td>NaT</td>\n",
       "      <td>NaN</td>\n",
       "      <td>N</td>\n",
       "      <td>SATURN ENTERPRISES INC</td>\n",
       "      <td>2340 N WASHTENAW AVE</td>\n",
       "      <td>...</td>\n",
       "      <td>NaN</td>\n",
       "      <td>N</td>\n",
       "      <td>N</td>\n",
       "      <td>N</td>\n",
       "      <td>N</td>\n",
       "      <td>Christopher E Kurczaba</td>\n",
       "      <td>Attorney</td>\n",
       "      <td>kurczabalaw@sbcglobal.net</td>\n",
       "      <td>Zygmunt  Oparowski</td>\n",
       "      <td>President</td>\n",
       "    </tr>\n",
       "    <tr>\n",
       "      <th>1</th>\n",
       "      <td>A-10119-96737</td>\n",
       "      <td>Certified-Expired</td>\n",
       "      <td>2010-03-29</td>\n",
       "      <td>2019-10-18 11:34:37</td>\n",
       "      <td>Y</td>\n",
       "      <td>2000-09-15</td>\n",
       "      <td>MARYLAND</td>\n",
       "      <td>N</td>\n",
       "      <td>FIL PARONG</td>\n",
       "      <td>13528 JAMIESON PL</td>\n",
       "      <td>...</td>\n",
       "      <td>NaN</td>\n",
       "      <td>N</td>\n",
       "      <td>N</td>\n",
       "      <td>N</td>\n",
       "      <td>N</td>\n",
       "      <td>WINSTON W TSAI</td>\n",
       "      <td>ATTORNEY AT LAW</td>\n",
       "      <td>WINSTONTSAI@AOL.COM</td>\n",
       "      <td>FIL  PARONG</td>\n",
       "      <td>HEAD OF HOUSEHOLD</td>\n",
       "    </tr>\n",
       "    <tr>\n",
       "      <th>2</th>\n",
       "      <td>A-10225-13679</td>\n",
       "      <td>Denied</td>\n",
       "      <td>2010-08-10</td>\n",
       "      <td>2020-04-30 07:55:08</td>\n",
       "      <td>N</td>\n",
       "      <td>NaT</td>\n",
       "      <td>NaN</td>\n",
       "      <td>N</td>\n",
       "      <td>GLENNS PLUMBING SERVICES</td>\n",
       "      <td>854 CUSTER STREET</td>\n",
       "      <td>...</td>\n",
       "      <td>N</td>\n",
       "      <td>N</td>\n",
       "      <td>N</td>\n",
       "      <td>N</td>\n",
       "      <td>N</td>\n",
       "      <td>DANIEL J SULLIVAN</td>\n",
       "      <td>ATTORNEY</td>\n",
       "      <td>GWG8@AOL.COM</td>\n",
       "      <td>DAVID  GLENN</td>\n",
       "      <td>OWNER</td>\n",
       "    </tr>\n",
       "    <tr>\n",
       "      <th>3</th>\n",
       "      <td>A-11033-51540</td>\n",
       "      <td>Certified</td>\n",
       "      <td>2011-02-03</td>\n",
       "      <td>2020-05-28 08:38:56</td>\n",
       "      <td>N</td>\n",
       "      <td>NaT</td>\n",
       "      <td>NaN</td>\n",
       "      <td>N</td>\n",
       "      <td>SKILLNET SOLUTIONS INC.</td>\n",
       "      <td>1901 SOUTH BASCOM AVENUE</td>\n",
       "      <td>...</td>\n",
       "      <td>Y</td>\n",
       "      <td>N</td>\n",
       "      <td>N</td>\n",
       "      <td>Y</td>\n",
       "      <td>N</td>\n",
       "      <td>Sonal  Kinger</td>\n",
       "      <td>Attorney at Law</td>\n",
       "      <td>sonal.kinger@bakerlawcorp.com</td>\n",
       "      <td>Jack  Grover</td>\n",
       "      <td>VP of Finance and Operations</td>\n",
       "    </tr>\n",
       "    <tr>\n",
       "      <th>4</th>\n",
       "      <td>A-11074-62984</td>\n",
       "      <td>Denied</td>\n",
       "      <td>2011-03-10</td>\n",
       "      <td>2020-06-17 07:50:52</td>\n",
       "      <td>N</td>\n",
       "      <td>NaT</td>\n",
       "      <td>NaN</td>\n",
       "      <td>N</td>\n",
       "      <td>R    L  CONSTRUCTION,  INC.</td>\n",
       "      <td>904  NEPPERHAN  AVENUE</td>\n",
       "      <td>...</td>\n",
       "      <td>NaN</td>\n",
       "      <td>N</td>\n",
       "      <td>N</td>\n",
       "      <td>N</td>\n",
       "      <td>N</td>\n",
       "      <td>DENISE S DUTTON</td>\n",
       "      <td>NONATTORNEY</td>\n",
       "      <td>NaN</td>\n",
       "      <td>RITA  O  SULLIVAN</td>\n",
       "      <td>MANAGER</td>\n",
       "    </tr>\n",
       "  </tbody>\n",
       "</table>\n",
       "<p>5 rows × 154 columns</p>\n",
       "</div>"
      ],
      "text/plain": [
       "     CASE_NUMBER        CASE_STATUS RECEIVED_DATE       DECISION_DATE REFILE  \\\n",
       "0  A-09245-62715             Denied    2009-09-03 2020-04-30 14:50:29      N   \n",
       "1  A-10119-96737  Certified-Expired    2010-03-29 2019-10-18 11:34:37      Y   \n",
       "2  A-10225-13679             Denied    2010-08-10 2020-04-30 07:55:08      N   \n",
       "3  A-11033-51540          Certified    2011-02-03 2020-05-28 08:38:56      N   \n",
       "4  A-11074-62984             Denied    2011-03-10 2020-06-17 07:50:52      N   \n",
       "\n",
       "  ORIG_FILE_DATE PREVIOUS_SWA_CASE_NUMBER_STATE SCHD_A_SHEEPHERDER  \\\n",
       "0            NaT                            NaN                  N   \n",
       "1     2000-09-15                       MARYLAND                  N   \n",
       "2            NaT                            NaN                  N   \n",
       "3            NaT                            NaN                  N   \n",
       "4            NaT                            NaN                  N   \n",
       "\n",
       "                 EMPLOYER_NAME        EMPLOYER_ADDRESS_1  ...  \\\n",
       "0       SATURN ENTERPRISES INC      2340 N WASHTENAW AVE  ...   \n",
       "1                   FIL PARONG         13528 JAMIESON PL  ...   \n",
       "2     GLENNS PLUMBING SERVICES         854 CUSTER STREET  ...   \n",
       "3      SKILLNET SOLUTIONS INC.  1901 SOUTH BASCOM AVENUE  ...   \n",
       "4  R    L  CONSTRUCTION,  INC.    904  NEPPERHAN  AVENUE  ...   \n",
       "\n",
       "  FOREIGN_WORKER_ALT_OCC_EXP FOREIGN_WORKER_EXP_WITH_EMPL  \\\n",
       "0                        NaN                            N   \n",
       "1                        NaN                            N   \n",
       "2                          N                            N   \n",
       "3                          Y                            N   \n",
       "4                        NaN                            N   \n",
       "\n",
       "  FOREIGN_WORKER_EMPL_PAY_FOR_ED FOREIGN_WORKER_CURR_EMPLOYED  \\\n",
       "0                              N                            N   \n",
       "1                              N                            N   \n",
       "2                              N                            N   \n",
       "3                              N                            Y   \n",
       "4                              N                            N   \n",
       "\n",
       "  EMPLOYER_COMPLETED_APPLICATION           PREPARER_NAME   PREPARER_TITLE  \\\n",
       "0                              N  Christopher E Kurczaba         Attorney   \n",
       "1                              N          WINSTON W TSAI  ATTORNEY AT LAW   \n",
       "2                              N       DANIEL J SULLIVAN         ATTORNEY   \n",
       "3                              N           Sonal  Kinger  Attorney at Law   \n",
       "4                              N         DENISE S DUTTON      NONATTORNEY   \n",
       "\n",
       "                  PREPARER_EMAIL  EMP_INFO_DECL_NAME  \\\n",
       "0      kurczabalaw@sbcglobal.net  Zygmunt  Oparowski   \n",
       "1            WINSTONTSAI@AOL.COM         FIL  PARONG   \n",
       "2                   GWG8@AOL.COM        DAVID  GLENN   \n",
       "3  sonal.kinger@bakerlawcorp.com        Jack  Grover   \n",
       "4                            NaN   RITA  O  SULLIVAN   \n",
       "\n",
       "            EMP_INFO_DECL_TITLE  \n",
       "0                     President  \n",
       "1             HEAD OF HOUSEHOLD  \n",
       "2                         OWNER  \n",
       "3  VP of Finance and Operations  \n",
       "4                       MANAGER  \n",
       "\n",
       "[5 rows x 154 columns]"
      ]
     },
     "execution_count": 3,
     "metadata": {},
     "output_type": "execute_result"
    }
   ],
   "source": [
    "df.head()"
   ]
  },
  {
   "cell_type": "code",
   "execution_count": 4,
   "metadata": {},
   "outputs": [],
   "source": [
    "# filter case statuses that are not withdrawn as including them could lead to misleading insights\n",
    "df = df[df.CASE_STATUS != 'Withdrawn']"
   ]
  },
  {
   "cell_type": "code",
   "execution_count": 5,
   "metadata": {},
   "outputs": [
    {
     "data": {
      "text/html": [
       "<div>\n",
       "<style scoped>\n",
       "    .dataframe tbody tr th:only-of-type {\n",
       "        vertical-align: middle;\n",
       "    }\n",
       "\n",
       "    .dataframe tbody tr th {\n",
       "        vertical-align: top;\n",
       "    }\n",
       "\n",
       "    .dataframe thead th {\n",
       "        text-align: right;\n",
       "    }\n",
       "</style>\n",
       "<table border=\"1\" class=\"dataframe\">\n",
       "  <thead>\n",
       "    <tr style=\"text-align: right;\">\n",
       "      <th></th>\n",
       "      <th>CASE_NUMBER</th>\n",
       "      <th>CASE_STATUS</th>\n",
       "      <th>RECEIVED_DATE</th>\n",
       "      <th>DECISION_DATE</th>\n",
       "      <th>REFILE</th>\n",
       "      <th>ORIG_FILE_DATE</th>\n",
       "      <th>PREVIOUS_SWA_CASE_NUMBER_STATE</th>\n",
       "      <th>SCHD_A_SHEEPHERDER</th>\n",
       "      <th>EMPLOYER_NAME</th>\n",
       "      <th>EMPLOYER_ADDRESS_1</th>\n",
       "      <th>...</th>\n",
       "      <th>FOREIGN_WORKER_EXP_WITH_EMPL</th>\n",
       "      <th>FOREIGN_WORKER_EMPL_PAY_FOR_ED</th>\n",
       "      <th>FOREIGN_WORKER_CURR_EMPLOYED</th>\n",
       "      <th>EMPLOYER_COMPLETED_APPLICATION</th>\n",
       "      <th>PREPARER_NAME</th>\n",
       "      <th>PREPARER_TITLE</th>\n",
       "      <th>PREPARER_EMAIL</th>\n",
       "      <th>EMP_INFO_DECL_NAME</th>\n",
       "      <th>EMP_INFO_DECL_TITLE</th>\n",
       "      <th>CASE_STATUS_BINARY</th>\n",
       "    </tr>\n",
       "  </thead>\n",
       "  <tbody>\n",
       "    <tr>\n",
       "      <th>0</th>\n",
       "      <td>A-09245-62715</td>\n",
       "      <td>Denied</td>\n",
       "      <td>2009-09-03</td>\n",
       "      <td>2020-04-30 14:50:29</td>\n",
       "      <td>N</td>\n",
       "      <td>NaT</td>\n",
       "      <td>NaN</td>\n",
       "      <td>N</td>\n",
       "      <td>SATURN ENTERPRISES INC</td>\n",
       "      <td>2340 N WASHTENAW AVE</td>\n",
       "      <td>...</td>\n",
       "      <td>N</td>\n",
       "      <td>N</td>\n",
       "      <td>N</td>\n",
       "      <td>N</td>\n",
       "      <td>Christopher E Kurczaba</td>\n",
       "      <td>Attorney</td>\n",
       "      <td>kurczabalaw@sbcglobal.net</td>\n",
       "      <td>Zygmunt  Oparowski</td>\n",
       "      <td>President</td>\n",
       "      <td>1</td>\n",
       "    </tr>\n",
       "    <tr>\n",
       "      <th>1</th>\n",
       "      <td>A-10119-96737</td>\n",
       "      <td>Certified</td>\n",
       "      <td>2010-03-29</td>\n",
       "      <td>2019-10-18 11:34:37</td>\n",
       "      <td>Y</td>\n",
       "      <td>2000-09-15</td>\n",
       "      <td>MARYLAND</td>\n",
       "      <td>N</td>\n",
       "      <td>FIL PARONG</td>\n",
       "      <td>13528 JAMIESON PL</td>\n",
       "      <td>...</td>\n",
       "      <td>N</td>\n",
       "      <td>N</td>\n",
       "      <td>N</td>\n",
       "      <td>N</td>\n",
       "      <td>WINSTON W TSAI</td>\n",
       "      <td>ATTORNEY AT LAW</td>\n",
       "      <td>WINSTONTSAI@AOL.COM</td>\n",
       "      <td>FIL  PARONG</td>\n",
       "      <td>HEAD OF HOUSEHOLD</td>\n",
       "      <td>0</td>\n",
       "    </tr>\n",
       "    <tr>\n",
       "      <th>2</th>\n",
       "      <td>A-10225-13679</td>\n",
       "      <td>Denied</td>\n",
       "      <td>2010-08-10</td>\n",
       "      <td>2020-04-30 07:55:08</td>\n",
       "      <td>N</td>\n",
       "      <td>NaT</td>\n",
       "      <td>NaN</td>\n",
       "      <td>N</td>\n",
       "      <td>GLENNS PLUMBING SERVICES</td>\n",
       "      <td>854 CUSTER STREET</td>\n",
       "      <td>...</td>\n",
       "      <td>N</td>\n",
       "      <td>N</td>\n",
       "      <td>N</td>\n",
       "      <td>N</td>\n",
       "      <td>DANIEL J SULLIVAN</td>\n",
       "      <td>ATTORNEY</td>\n",
       "      <td>GWG8@AOL.COM</td>\n",
       "      <td>DAVID  GLENN</td>\n",
       "      <td>OWNER</td>\n",
       "      <td>1</td>\n",
       "    </tr>\n",
       "    <tr>\n",
       "      <th>3</th>\n",
       "      <td>A-11033-51540</td>\n",
       "      <td>Certified</td>\n",
       "      <td>2011-02-03</td>\n",
       "      <td>2020-05-28 08:38:56</td>\n",
       "      <td>N</td>\n",
       "      <td>NaT</td>\n",
       "      <td>NaN</td>\n",
       "      <td>N</td>\n",
       "      <td>SKILLNET SOLUTIONS INC.</td>\n",
       "      <td>1901 SOUTH BASCOM AVENUE</td>\n",
       "      <td>...</td>\n",
       "      <td>N</td>\n",
       "      <td>N</td>\n",
       "      <td>Y</td>\n",
       "      <td>N</td>\n",
       "      <td>Sonal  Kinger</td>\n",
       "      <td>Attorney at Law</td>\n",
       "      <td>sonal.kinger@bakerlawcorp.com</td>\n",
       "      <td>Jack  Grover</td>\n",
       "      <td>VP of Finance and Operations</td>\n",
       "      <td>0</td>\n",
       "    </tr>\n",
       "    <tr>\n",
       "      <th>4</th>\n",
       "      <td>A-11074-62984</td>\n",
       "      <td>Denied</td>\n",
       "      <td>2011-03-10</td>\n",
       "      <td>2020-06-17 07:50:52</td>\n",
       "      <td>N</td>\n",
       "      <td>NaT</td>\n",
       "      <td>NaN</td>\n",
       "      <td>N</td>\n",
       "      <td>R    L  CONSTRUCTION,  INC.</td>\n",
       "      <td>904  NEPPERHAN  AVENUE</td>\n",
       "      <td>...</td>\n",
       "      <td>N</td>\n",
       "      <td>N</td>\n",
       "      <td>N</td>\n",
       "      <td>N</td>\n",
       "      <td>DENISE S DUTTON</td>\n",
       "      <td>NONATTORNEY</td>\n",
       "      <td>NaN</td>\n",
       "      <td>RITA  O  SULLIVAN</td>\n",
       "      <td>MANAGER</td>\n",
       "      <td>1</td>\n",
       "    </tr>\n",
       "  </tbody>\n",
       "</table>\n",
       "<p>5 rows × 155 columns</p>\n",
       "</div>"
      ],
      "text/plain": [
       "     CASE_NUMBER CASE_STATUS RECEIVED_DATE       DECISION_DATE REFILE  \\\n",
       "0  A-09245-62715      Denied    2009-09-03 2020-04-30 14:50:29      N   \n",
       "1  A-10119-96737   Certified    2010-03-29 2019-10-18 11:34:37      Y   \n",
       "2  A-10225-13679      Denied    2010-08-10 2020-04-30 07:55:08      N   \n",
       "3  A-11033-51540   Certified    2011-02-03 2020-05-28 08:38:56      N   \n",
       "4  A-11074-62984      Denied    2011-03-10 2020-06-17 07:50:52      N   \n",
       "\n",
       "  ORIG_FILE_DATE PREVIOUS_SWA_CASE_NUMBER_STATE SCHD_A_SHEEPHERDER  \\\n",
       "0            NaT                            NaN                  N   \n",
       "1     2000-09-15                       MARYLAND                  N   \n",
       "2            NaT                            NaN                  N   \n",
       "3            NaT                            NaN                  N   \n",
       "4            NaT                            NaN                  N   \n",
       "\n",
       "                 EMPLOYER_NAME        EMPLOYER_ADDRESS_1  ...  \\\n",
       "0       SATURN ENTERPRISES INC      2340 N WASHTENAW AVE  ...   \n",
       "1                   FIL PARONG         13528 JAMIESON PL  ...   \n",
       "2     GLENNS PLUMBING SERVICES         854 CUSTER STREET  ...   \n",
       "3      SKILLNET SOLUTIONS INC.  1901 SOUTH BASCOM AVENUE  ...   \n",
       "4  R    L  CONSTRUCTION,  INC.    904  NEPPERHAN  AVENUE  ...   \n",
       "\n",
       "  FOREIGN_WORKER_EXP_WITH_EMPL FOREIGN_WORKER_EMPL_PAY_FOR_ED  \\\n",
       "0                            N                              N   \n",
       "1                            N                              N   \n",
       "2                            N                              N   \n",
       "3                            N                              N   \n",
       "4                            N                              N   \n",
       "\n",
       "  FOREIGN_WORKER_CURR_EMPLOYED EMPLOYER_COMPLETED_APPLICATION  \\\n",
       "0                            N                              N   \n",
       "1                            N                              N   \n",
       "2                            N                              N   \n",
       "3                            Y                              N   \n",
       "4                            N                              N   \n",
       "\n",
       "            PREPARER_NAME   PREPARER_TITLE                 PREPARER_EMAIL  \\\n",
       "0  Christopher E Kurczaba         Attorney      kurczabalaw@sbcglobal.net   \n",
       "1          WINSTON W TSAI  ATTORNEY AT LAW            WINSTONTSAI@AOL.COM   \n",
       "2       DANIEL J SULLIVAN         ATTORNEY                   GWG8@AOL.COM   \n",
       "3           Sonal  Kinger  Attorney at Law  sonal.kinger@bakerlawcorp.com   \n",
       "4         DENISE S DUTTON      NONATTORNEY                            NaN   \n",
       "\n",
       "   EMP_INFO_DECL_NAME           EMP_INFO_DECL_TITLE CASE_STATUS_BINARY  \n",
       "0  Zygmunt  Oparowski                     President                  1  \n",
       "1         FIL  PARONG             HEAD OF HOUSEHOLD                  0  \n",
       "2        DAVID  GLENN                         OWNER                  1  \n",
       "3        Jack  Grover  VP of Finance and Operations                  0  \n",
       "4   RITA  O  SULLIVAN                       MANAGER                  1  \n",
       "\n",
       "[5 rows x 155 columns]"
      ]
     },
     "execution_count": 5,
     "metadata": {},
     "output_type": "execute_result"
    }
   ],
   "source": [
    "# create binary variables between cases that are denied vs certified\n",
    "# denied cases will have a binary variable of 1 while certified cases will have a binary variable of 0\n",
    "case_status = []\n",
    "case_status_binary = []\n",
    "for i in df['CASE_STATUS']:\n",
    "    if i == 'Denied':\n",
    "        case_status.append('Denied')\n",
    "        case_status_binary.append(1)\n",
    "    else:\n",
    "        case_status.append('Certified')\n",
    "        case_status_binary.append(0)\n",
    "        \n",
    "df['CASE_STATUS'] = case_status\n",
    "df['CASE_STATUS_BINARY'] = case_status_binary\n",
    "\n",
    "df.head()"
   ]
  },
  {
   "cell_type": "code",
   "execution_count": 7,
   "metadata": {},
   "outputs": [
    {
     "data": {
      "text/plain": [
       "0    66235\n",
       "1     2882\n",
       "Name: CASE_STATUS_BINARY, dtype: int64"
      ]
     },
     "execution_count": 7,
     "metadata": {},
     "output_type": "execute_result"
    }
   ],
   "source": [
    "df['CASE_STATUS_BINARY'].value_counts()"
   ]
  },
  {
   "cell_type": "markdown",
   "metadata": {},
   "source": [
    "Analysis of **REQUIRED_TRAINING** column"
   ]
  },
  {
   "cell_type": "code",
   "execution_count": 12,
   "metadata": {},
   "outputs": [
    {
     "data": {
      "text/plain": [
       "N    2730\n",
       "Y     150\n",
       "Name: REQUIRED_TRAINING, dtype: int64"
      ]
     },
     "execution_count": 12,
     "metadata": {},
     "output_type": "execute_result"
    }
   ],
   "source": [
    "df[df['CASE_STATUS_BINARY']==1]['REQUIRED_TRAINING'].value_counts()"
   ]
  },
  {
   "cell_type": "code",
   "execution_count": 66,
   "metadata": {},
   "outputs": [
    {
     "data": {
      "text/plain": [
       "N    65525\n",
       "Y      710\n",
       "Name: REQUIRED_TRAINING, dtype: int64"
      ]
     },
     "execution_count": 66,
     "metadata": {},
     "output_type": "execute_result"
    }
   ],
   "source": [
    "df[df['CASE_STATUS_BINARY']==0]['REQUIRED_TRAINING'].value_counts()"
   ]
  },
  {
   "cell_type": "code",
   "execution_count": 18,
   "metadata": {},
   "outputs": [
    {
     "data": {
      "text/plain": [
       "5.21"
      ]
     },
     "execution_count": 18,
     "metadata": {},
     "output_type": "execute_result"
    }
   ],
   "source": [
    "# percentage of training is required for the job for denied cases\n",
    "round(150/(150+2730)*100,2)"
   ]
  },
  {
   "cell_type": "code",
   "execution_count": 19,
   "metadata": {},
   "outputs": [
    {
     "data": {
      "text/plain": [
       "1.07"
      ]
     },
     "execution_count": 19,
     "metadata": {},
     "output_type": "execute_result"
    }
   ],
   "source": [
    "# percentage of training is required for the job for Certified cases\n",
    "round(710/(710+65525)*100,2)"
   ]
  },
  {
   "cell_type": "code",
   "execution_count": 131,
   "metadata": {},
   "outputs": [
    {
     "data": {
      "image/png": "[encoded data removed]",
      "text/plain": [
       "<Figure size 432x288 with 1 Axes>"
      ]
     },
     "metadata": {},
     "output_type": "display_data"
    }
   ],
   "source": [
    "# visualizing using matplotlib\n",
    "plt.bar(('Cases Denied','Cases Certified'),(5.21,1.07))\n",
    "plt.xlabel('Cases')\n",
    "plt.ylabel('Training Is Required Percentage')\n",
    "plt.show()"
   ]
  },
  {
   "cell_type": "code",
   "execution_count": 132,
   "metadata": {},
   "outputs": [
    {
     "data": {
      "text/plain": [
       "[Text(0, 0.5, 'Training Is Required Percentage'), Text(0.5, 0, 'Cases')]"
      ]
     },
     "execution_count": 132,
     "metadata": {},
     "output_type": "execute_result"
    },
    {
     "data": {
      "image/png": "[encoded data removed]",
      "text/plain": [
       "<Figure size 432x288 with 1 Axes>"
      ]
     },
     "metadata": {},
     "output_type": "display_data"
    }
   ],
   "source": [
    "# visualizing using seaborn\n",
    "ax = sns.barplot(x=['Cases Denied','Cases Certified'],y=[5.21,1.07])\n",
    "ax.set(xlabel='Cases', ylabel='Training Is Required Percentage')"
   ]
  },
  {
   "cell_type": "markdown",
   "metadata": {},
   "source": [
    "'Training is Required' percentage seems to be **higher** for Cases Denied than Cases Not Denied"
   ]
  },
  {
   "cell_type": "markdown",
   "metadata": {},
   "source": [
    "Analysis of **REQUIRED_TRAINING_MONTHS** column"
   ]
  },
  {
   "cell_type": "code",
   "execution_count": 68,
   "metadata": {},
   "outputs": [
    {
     "data": {
      "text/plain": [
       "0   NaN\n",
       "2   NaN\n",
       "4   NaN\n",
       "5   NaN\n",
       "8   NaN\n",
       "Name: REQUIRED_TRAINING_MONTHS, dtype: float64"
      ]
     },
     "execution_count": 68,
     "metadata": {},
     "output_type": "execute_result"
    }
   ],
   "source": [
    "df[df['CASE_STATUS_BINARY']==1]['REQUIRED_TRAINING_MONTHS'].head()"
   ]
  },
  {
   "cell_type": "markdown",
   "metadata": {},
   "source": [
    "This column will have a value if training is required. Since 'training is required' is very less percentage, we think this column is not that significant for deriving insights"
   ]
  },
  {
   "cell_type": "markdown",
   "metadata": {},
   "source": [
    "Analysis of **REQUIRED_FIELD_OF_TRAINING** column"
   ]
  },
  {
   "cell_type": "code",
   "execution_count": 69,
   "metadata": {},
   "outputs": [
    {
     "data": {
      "text/plain": [
       "0    NaN\n",
       "2    NaN\n",
       "4    NaN\n",
       "5    NaN\n",
       "8    NaN\n",
       "Name: REQUIRED_FIELD_OF_TRAINING, dtype: object"
      ]
     },
     "execution_count": 69,
     "metadata": {},
     "output_type": "execute_result"
    }
   ],
   "source": [
    "df[df['CASE_STATUS_BINARY']==1]['REQUIRED_FIELD_OF_TRAINING'].head()"
   ]
  },
  {
   "cell_type": "markdown",
   "metadata": {},
   "source": [
    "This column will have a value if training is required. Since 'training is required' is very less percentage, we think this column is not that significant for deriving insights"
   ]
  },
  {
   "cell_type": "markdown",
   "metadata": {},
   "source": [
    "Analysis of **REQUIRED_EXPERIENCE** column"
   ]
  },
  {
   "cell_type": "code",
   "execution_count": 71,
   "metadata": {},
   "outputs": [
    {
     "data": {
      "text/plain": [
       "Y    1497\n",
       "N    1383\n",
       "Name: REQUIRED_EXPERIENCE, dtype: int64"
      ]
     },
     "execution_count": 71,
     "metadata": {},
     "output_type": "execute_result"
    }
   ],
   "source": [
    "df[df['CASE_STATUS_BINARY']==1]['REQUIRED_EXPERIENCE'].value_counts()"
   ]
  },
  {
   "cell_type": "code",
   "execution_count": 72,
   "metadata": {},
   "outputs": [
    {
     "data": {
      "text/plain": [
       "Y    37898\n",
       "N    28337\n",
       "Name: REQUIRED_EXPERIENCE, dtype: int64"
      ]
     },
     "execution_count": 72,
     "metadata": {},
     "output_type": "execute_result"
    }
   ],
   "source": [
    "df[df['CASE_STATUS_BINARY']==0]['REQUIRED_EXPERIENCE'].value_counts()"
   ]
  },
  {
   "cell_type": "code",
   "execution_count": 75,
   "metadata": {},
   "outputs": [
    {
     "data": {
      "text/plain": [
       "51.98"
      ]
     },
     "execution_count": 75,
     "metadata": {},
     "output_type": "execute_result"
    }
   ],
   "source": [
    "# percentage of Experience Is Required for Denied Cases\n",
    "round(1497/(1497+1383)*100,2)"
   ]
  },
  {
   "cell_type": "code",
   "execution_count": 76,
   "metadata": {},
   "outputs": [
    {
     "data": {
      "text/plain": [
       "57.22"
      ]
     },
     "execution_count": 76,
     "metadata": {},
     "output_type": "execute_result"
    }
   ],
   "source": [
    "# percentage of Experience Is Required for Certified Cases\n",
    "round(37898/(37898+28337)*100,2)"
   ]
  },
  {
   "cell_type": "code",
   "execution_count": 133,
   "metadata": {},
   "outputs": [
    {
     "data": {
      "text/plain": [
       "[Text(0, 0.5, 'Experience Is Required Percentage'), Text(0.5, 0, 'Cases')]"
      ]
     },
     "execution_count": 133,
     "metadata": {},
     "output_type": "execute_result"
    },
    {
     "data": {
      "image/png": "[encoded data removed]",
      "text/plain": [
       "<Figure size 432x288 with 1 Axes>"
      ]
     },
     "metadata": {},
     "output_type": "display_data"
    }
   ],
   "source": [
    "# visualizing using seaborn\n",
    "ax = sns.barplot(x=['Cases Denied','Cases Certified'],y=[51.98,57.22])\n",
    "ax.set(xlabel='Cases', ylabel='Experience Is Required Percentage')"
   ]
  },
  {
   "cell_type": "markdown",
   "metadata": {},
   "source": [
    "Altough 'Experience Is Required Percentage' seems to be marginally higher for 'Cases Not Denied' than 'Cases Denied', they can be assumed to be roughly the same"
   ]
  },
  {
   "cell_type": "markdown",
   "metadata": {},
   "source": [
    "Analysis of **REQUIRED_EXPERIENCE_MONTHS** column"
   ]
  },
  {
   "cell_type": "code",
   "execution_count": 93,
   "metadata": {},
   "outputs": [
    {
     "data": {
      "text/plain": [
       "24.0"
      ]
     },
     "execution_count": 93,
     "metadata": {},
     "output_type": "execute_result"
    }
   ],
   "source": [
    "df[df['CASE_STATUS_BINARY']==1]['REQUIRED_EXPERIENCE_MONTHS'].value_counts().sort_values(ascending=False).head().index[0]"
   ]
  },
  {
   "cell_type": "code",
   "execution_count": 94,
   "metadata": {},
   "outputs": [
    {
     "data": {
      "text/plain": [
       "24.0"
      ]
     },
     "execution_count": 94,
     "metadata": {},
     "output_type": "execute_result"
    }
   ],
   "source": [
    "df[df['CASE_STATUS_BINARY']==0]['REQUIRED_EXPERIENCE_MONTHS'].value_counts().sort_values(ascending=False).head().index[0]"
   ]
  },
  {
   "cell_type": "markdown",
   "metadata": {},
   "source": [
    "We see here that **2 years** is the **most preferred experience** irrespective of weather Case is Denied or Not"
   ]
  },
  {
   "cell_type": "markdown",
   "metadata": {},
   "source": [
    "Analysis of **ACCEPT_ALT_FIELD_OF_STUDY** column"
   ]
  },
  {
   "cell_type": "code",
   "execution_count": 95,
   "metadata": {},
   "outputs": [
    {
     "data": {
      "text/plain": [
       "N    2360\n",
       "Y     519\n",
       "Name: ACCEPT_ALT_FIELD_OF_STUDY, dtype: int64"
      ]
     },
     "execution_count": 95,
     "metadata": {},
     "output_type": "execute_result"
    }
   ],
   "source": [
    "df[df['CASE_STATUS_BINARY']==1]['ACCEPT_ALT_FIELD_OF_STUDY'].value_counts()"
   ]
  },
  {
   "cell_type": "code",
   "execution_count": 96,
   "metadata": {},
   "outputs": [
    {
     "data": {
      "text/plain": [
       "N    37246\n",
       "Y    28989\n",
       "Name: ACCEPT_ALT_FIELD_OF_STUDY, dtype: int64"
      ]
     },
     "execution_count": 96,
     "metadata": {},
     "output_type": "execute_result"
    }
   ],
   "source": [
    "df[df['CASE_STATUS_BINARY']==0]['ACCEPT_ALT_FIELD_OF_STUDY'].value_counts()"
   ]
  },
  {
   "cell_type": "code",
   "execution_count": 97,
   "metadata": {},
   "outputs": [
    {
     "data": {
      "text/plain": [
       "81.97"
      ]
     },
     "execution_count": 97,
     "metadata": {},
     "output_type": "execute_result"
    }
   ],
   "source": [
    "# percentage of Alternate Field of study is NOT accepted for education requirement for Denied Cases\n",
    "round(2360/(2360+519)*100,2)"
   ]
  },
  {
   "cell_type": "code",
   "execution_count": 134,
   "metadata": {},
   "outputs": [
    {
     "data": {
      "text/plain": [
       "56.23"
      ]
     },
     "execution_count": 134,
     "metadata": {},
     "output_type": "execute_result"
    }
   ],
   "source": [
    "# percentage of Alternate Field of study is NOT accepted for education requirement for Certified Cases\n",
    "round(37246/(37246+28989)*100,2)"
   ]
  },
  {
   "cell_type": "code",
   "execution_count": 135,
   "metadata": {},
   "outputs": [
    {
     "data": {
      "text/plain": [
       "[Text(0, 0.5, 'Alternate Field of study is NOT accepted Percentage'),\n",
       " Text(0.5, 0, 'Cases')]"
      ]
     },
     "execution_count": 135,
     "metadata": {},
     "output_type": "execute_result"
    },
    {
     "data": {
      "image/png": "[encoded data removed]",
      "text/plain": [
       "<Figure size 432x288 with 1 Axes>"
      ]
     },
     "metadata": {},
     "output_type": "display_data"
    }
   ],
   "source": [
    "# visualizing using seaborn\n",
    "ax = sns.barplot(x=['Cases Denied','Cases Certified'],y=[81.97,56.23])\n",
    "ax.set(xlabel='Cases', ylabel='Alternate Field of study is NOT accepted Percentage')"
   ]
  },
  {
   "cell_type": "markdown",
   "metadata": {},
   "source": [
    "Here we can see the glaring difference. Of all the denied cases, a staggering **82% did not meet** the education requirement as their field of study was not acceptable. This might be a reason for the denial"
   ]
  },
  {
   "cell_type": "markdown",
   "metadata": {},
   "source": [
    "Analysis of **ACCEPT_ALT_MAJOR_FLD_OF_STUDY** column"
   ]
  },
  {
   "cell_type": "code",
   "execution_count": 103,
   "metadata": {},
   "outputs": [
    {
     "data": {
      "text/plain": [
       "Information Technology or Engineering or Business or Science or related    10\n",
       "Finance or investment related field                                         6\n",
       "ANY FIELD                                                                   6\n",
       "Finance                                                                     5\n",
       "Related field of study                                                      5\n",
       "Name: ACCEPT_ALT_MAJOR_FLD_OF_STUDY, dtype: int64"
      ]
     },
     "execution_count": 103,
     "metadata": {},
     "output_type": "execute_result"
    }
   ],
   "source": [
    "df[df['CASE_STATUS_BINARY']==1]['ACCEPT_ALT_MAJOR_FLD_OF_STUDY'].value_counts().head()"
   ]
  },
  {
   "cell_type": "code",
   "execution_count": 104,
   "metadata": {},
   "outputs": [
    {
     "data": {
      "text/plain": [
       "Engineering, Mathematics, or a related field                           1295\n",
       "See H.14 for complete list                                              641\n",
       "See H.14                                                                589\n",
       "Comp Sci, Comp SW, Comp Engg, App Sci, Math, Phys, or related field     403\n",
       "ENGINEERING, MATHEMATICS, OR A RELATED Field                            320\n",
       "Name: ACCEPT_ALT_MAJOR_FLD_OF_STUDY, dtype: int64"
      ]
     },
     "execution_count": 104,
     "metadata": {},
     "output_type": "execute_result"
    }
   ],
   "source": [
    "df[df['CASE_STATUS_BINARY']==0]['ACCEPT_ALT_MAJOR_FLD_OF_STUDY'].value_counts().head()"
   ]
  },
  {
   "cell_type": "markdown",
   "metadata": {},
   "source": [
    "It seems **Engineering, Information Technology, Mathematics** and related fields are hot favourites as Alternate field of study that will be acceptable for education requirement"
   ]
  },
  {
   "cell_type": "markdown",
   "metadata": {},
   "source": [
    "Analysis of **ACCEPT_ALT_COMBO** column"
   ]
  },
  {
   "cell_type": "code",
   "execution_count": 105,
   "metadata": {},
   "outputs": [
    {
     "data": {
      "text/plain": [
       "N    2560\n",
       "Y     317\n",
       "Name: ACCEPT_ALT_COMBO, dtype: int64"
      ]
     },
     "execution_count": 105,
     "metadata": {},
     "output_type": "execute_result"
    }
   ],
   "source": [
    "df[df['CASE_STATUS_BINARY']==1]['ACCEPT_ALT_COMBO'].value_counts()"
   ]
  },
  {
   "cell_type": "code",
   "execution_count": 106,
   "metadata": {},
   "outputs": [
    {
     "data": {
      "text/plain": [
       "N    46266\n",
       "Y    19968\n",
       "Name: ACCEPT_ALT_COMBO, dtype: int64"
      ]
     },
     "execution_count": 106,
     "metadata": {},
     "output_type": "execute_result"
    }
   ],
   "source": [
    "df[df['CASE_STATUS_BINARY']==0]['ACCEPT_ALT_COMBO'].value_counts()"
   ]
  },
  {
   "cell_type": "code",
   "execution_count": 130,
   "metadata": {},
   "outputs": [
    {
     "data": {
      "text/plain": [
       "88.98"
      ]
     },
     "execution_count": 130,
     "metadata": {},
     "output_type": "execute_result"
    }
   ],
   "source": [
    "# percentage of Alternate combination of education and experience will NOT be acceptable for Denied Cases\n",
    "round(2560/(2560+317)*100,2)"
   ]
  },
  {
   "cell_type": "code",
   "execution_count": 136,
   "metadata": {},
   "outputs": [
    {
     "data": {
      "text/plain": [
       "69.85"
      ]
     },
     "execution_count": 136,
     "metadata": {},
     "output_type": "execute_result"
    }
   ],
   "source": [
    "# percentage of Alternate combination of education and experience will NOT be acceptable for Certified Cases\n",
    "round(46266/(46266+19968)*100,2)"
   ]
  },
  {
   "cell_type": "code",
   "execution_count": 137,
   "metadata": {},
   "outputs": [
    {
     "data": {
      "text/plain": [
       "[Text(0, 0.5, 'Alternate Combo of edu and exp is NOT accepted Percentage'),\n",
       " Text(0.5, 0, 'Cases')]"
      ]
     },
     "execution_count": 137,
     "metadata": {},
     "output_type": "execute_result"
    },
    {
     "data": {
      "image/png": "[encoded data removed]",
      "text/plain": [
       "<Figure size 432x288 with 1 Axes>"
      ]
     },
     "metadata": {},
     "output_type": "display_data"
    }
   ],
   "source": [
    "# visualizing using seaborn\n",
    "ax = sns.barplot(x=['Cases Denied','Cases Certified'],y=[88.98,69.85])\n",
    "ax.set(xlabel='Cases', ylabel='Alternate Combo of edu and exp is NOT accepted Percentage')"
   ]
  },
  {
   "cell_type": "markdown",
   "metadata": {},
   "source": [
    "A similar picture is painted as **ACCEPT_ALT_FIELD_OF_STUDY** column"
   ]
  },
  {
   "cell_type": "markdown",
   "metadata": {},
   "source": [
    "Analysis of **ACCEPT_ALT_COMBO_EDUCATION** column"
   ]
  },
  {
   "cell_type": "code",
   "execution_count": 138,
   "metadata": {},
   "outputs": [
    {
     "data": {
      "text/plain": [
       "Bachelor's     185\n",
       "None            55\n",
       "Other           52\n",
       "Master's        40\n",
       "High School     18\n",
       "Associate's     13\n",
       "Name: ACCEPT_ALT_COMBO_EDUCATION, dtype: int64"
      ]
     },
     "execution_count": 138,
     "metadata": {},
     "output_type": "execute_result"
    }
   ],
   "source": [
    "df[df['CASE_STATUS_BINARY']==1]['ACCEPT_ALT_COMBO_EDUCATION'].value_counts()"
   ]
  },
  {
   "cell_type": "code",
   "execution_count": 139,
   "metadata": {},
   "outputs": [
    {
     "data": {
      "text/plain": [
       "Bachelor's     13401\n",
       "Master's        3749\n",
       "Other           1363\n",
       "None            1013\n",
       "Doctorate        398\n",
       "Associate's      101\n",
       "High School       36\n",
       "Name: ACCEPT_ALT_COMBO_EDUCATION, dtype: int64"
      ]
     },
     "execution_count": 139,
     "metadata": {},
     "output_type": "execute_result"
    }
   ],
   "source": [
    "df[df['CASE_STATUS_BINARY']==0]['ACCEPT_ALT_COMBO_EDUCATION'].value_counts()"
   ]
  },
  {
   "cell_type": "markdown",
   "metadata": {},
   "source": [
    "**Bachelor's** seems to be widely acceptable as an alternate level of education for both Denied and Certified cases"
   ]
  },
  {
   "cell_type": "markdown",
   "metadata": {},
   "source": [
    "Analysis of **ACCEPT_ALT_COMBO_ED_OTHER** column"
   ]
  },
  {
   "cell_type": "code",
   "execution_count": 142,
   "metadata": {},
   "outputs": [
    {
     "data": {
      "text/plain": [
       "6TH-8TH GRADE                                                                                      3\n",
       "GED                                                                                                3\n",
       "Please see H.14 below                                                                              2\n",
       "Extensive on the job training                                                                      2\n",
       "12 MONTHS OF TRAINING OR EDUCATION IN A MEDICAL RELATED FIELD CAN BE SUBSTITUTED FOR EXPERIENCE    2\n",
       "Name: ACCEPT_ALT_COMBO_ED_OTHER, dtype: int64"
      ]
     },
     "execution_count": 142,
     "metadata": {},
     "output_type": "execute_result"
    }
   ],
   "source": [
    "df[df['CASE_STATUS_BINARY']==1]['ACCEPT_ALT_COMBO_ED_OTHER'].value_counts().head()"
   ]
  },
  {
   "cell_type": "code",
   "execution_count": 143,
   "metadata": {},
   "outputs": [
    {
     "data": {
      "text/plain": [
       "3-yr post secondary education see H.14                                                166\n",
       "*See H.14 for alternate level of edu. required                                         94\n",
       "BachelorÆs Degree + five (5) years of progressive post-baccalaureate IT experience     51\n",
       "See H.14                                                                               38\n",
       "See box H.14                                                                           37\n",
       "Name: ACCEPT_ALT_COMBO_ED_OTHER, dtype: int64"
      ]
     },
     "execution_count": 143,
     "metadata": {},
     "output_type": "execute_result"
    }
   ],
   "source": [
    "df[df['CASE_STATUS_BINARY']==0]['ACCEPT_ALT_COMBO_ED_OTHER'].value_counts().head()"
   ]
  },
  {
   "cell_type": "markdown",
   "metadata": {},
   "source": [
    "No Critical insight from here"
   ]
  },
  {
   "cell_type": "markdown",
   "metadata": {},
   "source": [
    "Analysis of **ACCEPT_ALT_COMBO_EDUCATION_YRS** column"
   ]
  },
  {
   "cell_type": "code",
   "execution_count": 146,
   "metadata": {},
   "outputs": [
    {
     "data": {
      "text/plain": [
       "5.0     163\n",
       "2.0      40\n",
       "0.0      26\n",
       "1.0      18\n",
       "3.0      16\n",
       "7.0       9\n",
       "4.0       8\n",
       "10.0      6\n",
       "6.0       6\n",
       "12.0      6\n",
       "36.0      2\n",
       "24.0      2\n",
       "15.0      1\n",
       "9.0       1\n",
       "14.0      1\n",
       "8.0       1\n",
       "48.0      1\n",
       "60.0      1\n",
       "Name: ACCEPT_ALT_COMBO_EDUCATION_YRS, dtype: int64"
      ]
     },
     "execution_count": 146,
     "metadata": {},
     "output_type": "execute_result"
    }
   ],
   "source": [
    "df[df['CASE_STATUS_BINARY']==1]['ACCEPT_ALT_COMBO_EDUCATION_YRS'].value_counts()"
   ]
  },
  {
   "cell_type": "code",
   "execution_count": 147,
   "metadata": {},
   "outputs": [
    {
     "data": {
      "text/plain": [
       "5.0     12385\n",
       "3.0      2173\n",
       "0.0      1217\n",
       "2.0      1047\n",
       "4.0       927\n",
       "6.0       713\n",
       "1.0       560\n",
       "7.0       499\n",
       "8.0       204\n",
       "10.0       82\n",
       "60.0       48\n",
       "9.0        44\n",
       "24.0       24\n",
       "12.0       22\n",
       "36.0       18\n",
       "48.0        6\n",
       "11.0        4\n",
       "84.0        4\n",
       "96.0        3\n",
       "72.0        3\n",
       "15.0        2\n",
       "14.0        2\n",
       "18.0        1\n",
       "Name: ACCEPT_ALT_COMBO_EDUCATION_YRS, dtype: int64"
      ]
     },
     "execution_count": 147,
     "metadata": {},
     "output_type": "execute_result"
    }
   ],
   "source": [
    "df[df['CASE_STATUS_BINARY']==0]['ACCEPT_ALT_COMBO_EDUCATION_YRS'].value_counts()"
   ]
  },
  {
   "cell_type": "markdown",
   "metadata": {},
   "source": [
    "**5 years** seems popular for alternate combination of education"
   ]
  },
  {
   "cell_type": "markdown",
   "metadata": {},
   "source": [
    "Analysis of **ACCEPT_FOREIGN_EDUCATION** column"
   ]
  },
  {
   "cell_type": "code",
   "execution_count": 148,
   "metadata": {},
   "outputs": [
    {
     "data": {
      "text/plain": [
       "Y    1852\n",
       "N    1023\n",
       "Name: ACCEPT_FOREIGN_EDUCATION, dtype: int64"
      ]
     },
     "execution_count": 148,
     "metadata": {},
     "output_type": "execute_result"
    }
   ],
   "source": [
    "df[df['CASE_STATUS_BINARY']==1]['ACCEPT_FOREIGN_EDUCATION'].value_counts()"
   ]
  },
  {
   "cell_type": "code",
   "execution_count": 149,
   "metadata": {},
   "outputs": [
    {
     "data": {
      "text/plain": [
       "Y    59029\n",
       "N     7204\n",
       "Name: ACCEPT_FOREIGN_EDUCATION, dtype: int64"
      ]
     },
     "execution_count": 149,
     "metadata": {},
     "output_type": "execute_result"
    }
   ],
   "source": [
    "df[df['CASE_STATUS_BINARY']==0]['ACCEPT_FOREIGN_EDUCATION'].value_counts()"
   ]
  },
  {
   "cell_type": "code",
   "execution_count": 150,
   "metadata": {},
   "outputs": [
    {
     "data": {
      "text/plain": [
       "35.58"
      ]
     },
     "execution_count": 150,
     "metadata": {},
     "output_type": "execute_result"
    }
   ],
   "source": [
    "# percentage of Foreign educational equivalent is NOT accepted for Denied Cases\n",
    "round(1023/(1023+1852)*100,2)"
   ]
  },
  {
   "cell_type": "code",
   "execution_count": 151,
   "metadata": {},
   "outputs": [
    {
     "data": {
      "text/plain": [
       "10.88"
      ]
     },
     "execution_count": 151,
     "metadata": {},
     "output_type": "execute_result"
    }
   ],
   "source": [
    "# percentage of Foreign educational equivalent is NOT accepted for Certified Cases\n",
    "round(7204/(7204+59029)*100,2)"
   ]
  },
  {
   "cell_type": "code",
   "execution_count": 152,
   "metadata": {},
   "outputs": [
    {
     "data": {
      "text/plain": [
       "[Text(0, 0.5, 'Foreign educational equivalent is NOT accepted Percentage'),\n",
       " Text(0.5, 0, 'Cases')]"
      ]
     },
     "execution_count": 152,
     "metadata": {},
     "output_type": "execute_result"
    },
    {
     "data": {
      "image/png": "[encoded data removed]",
      "text/plain": [
       "<Figure size 432x288 with 1 Axes>"
      ]
     },
     "metadata": {},
     "output_type": "display_data"
    }
   ],
   "source": [
    "# visualizing using seaborn\n",
    "ax = sns.barplot(x=['Cases Denied','Cases Certified'],y=[35.58,10.88])\n",
    "ax.set(xlabel='Cases', ylabel='Foreign educational equivalent is NOT accepted Percentage')"
   ]
  },
  {
   "cell_type": "markdown",
   "metadata": {},
   "source": [
    "**Foreign Educational Equivalent** seems to be a factor in the Denied Cases as the percentage of Foreign educational equivalent is NOT accepted for Denied cases is very high in comparision to Certified Cases"
   ]
  },
  {
   "cell_type": "markdown",
   "metadata": {},
   "source": [
    "Analysis of **ACCEPT_ALT_OCCUPATION** column"
   ]
  },
  {
   "cell_type": "code",
   "execution_count": 153,
   "metadata": {},
   "outputs": [
    {
     "data": {
      "text/plain": [
       "N    1971\n",
       "Y     909\n",
       "Name: ACCEPT_ALT_OCCUPATION, dtype: int64"
      ]
     },
     "execution_count": 153,
     "metadata": {},
     "output_type": "execute_result"
    }
   ],
   "source": [
    "df[df['CASE_STATUS_BINARY']==1]['ACCEPT_ALT_OCCUPATION'].value_counts()"
   ]
  },
  {
   "cell_type": "code",
   "execution_count": 154,
   "metadata": {},
   "outputs": [
    {
     "data": {
      "text/plain": [
       "Y    46605\n",
       "N    19630\n",
       "Name: ACCEPT_ALT_OCCUPATION, dtype: int64"
      ]
     },
     "execution_count": 154,
     "metadata": {},
     "output_type": "execute_result"
    }
   ],
   "source": [
    "df[df['CASE_STATUS_BINARY']==0]['ACCEPT_ALT_OCCUPATION'].value_counts()"
   ]
  },
  {
   "cell_type": "code",
   "execution_count": 155,
   "metadata": {},
   "outputs": [
    {
     "data": {
      "text/plain": [
       "68.44"
      ]
     },
     "execution_count": 155,
     "metadata": {},
     "output_type": "execute_result"
    }
   ],
   "source": [
    "# percentage of alternate occupation is NOT acceptable for Denied Cases\n",
    "round(1971/(1971+909)*100,2)"
   ]
  },
  {
   "cell_type": "code",
   "execution_count": 156,
   "metadata": {},
   "outputs": [
    {
     "data": {
      "text/plain": [
       "29.64"
      ]
     },
     "execution_count": 156,
     "metadata": {},
     "output_type": "execute_result"
    }
   ],
   "source": [
    "# percentage of alternate occupation is NOT acceptable for Certified Cases\n",
    "round(19630/(19630+46605)*100,2)"
   ]
  },
  {
   "cell_type": "code",
   "execution_count": 158,
   "metadata": {},
   "outputs": [
    {
     "data": {
      "text/plain": [
       "[Text(0, 0.5, 'Alternate Occupation is NOT acceptable Percentage'),\n",
       " Text(0.5, 0, 'Cases')]"
      ]
     },
     "execution_count": 158,
     "metadata": {},
     "output_type": "execute_result"
    },
    {
     "data": {
      "image/png": "[encoded data removed]",
      "text/plain": [
       "<Figure size 432x288 with 1 Axes>"
      ]
     },
     "metadata": {},
     "output_type": "display_data"
    }
   ],
   "source": [
    "# visualizing using seaborn\n",
    "ax = sns.barplot(x=['Cases Denied','Cases Certified'],y=[68.44,29.64])\n",
    "ax.set(xlabel='Cases', ylabel='Alternate Occupation is NOT acceptable Percentage')"
   ]
  },
  {
   "cell_type": "markdown",
   "metadata": {},
   "source": [
    "Again, here also it seems if the **Alternate Occupation is NOT acceptable**, then the application is **more likely to be Denied**"
   ]
  },
  {
   "cell_type": "markdown",
   "metadata": {},
   "source": [
    "Analysis of **ACCEPT_ALT_OCCUPATION_MONTHS** column"
   ]
  },
  {
   "cell_type": "code",
   "execution_count": 161,
   "metadata": {},
   "outputs": [
    {
     "data": {
      "text/plain": [
       "24.0"
      ]
     },
     "execution_count": 161,
     "metadata": {},
     "output_type": "execute_result"
    }
   ],
   "source": [
    "df[df['CASE_STATUS_BINARY']==1]['ACCEPT_ALT_OCCUPATION_MONTHS'].value_counts().sort_values(ascending=False).head().index[0]"
   ]
  },
  {
   "cell_type": "code",
   "execution_count": 162,
   "metadata": {},
   "outputs": [
    {
     "data": {
      "text/plain": [
       "24.0"
      ]
     },
     "execution_count": 162,
     "metadata": {},
     "output_type": "execute_result"
    }
   ],
   "source": [
    "df[df['CASE_STATUS_BINARY']==0]['ACCEPT_ALT_OCCUPATION_MONTHS'].value_counts().sort_values(ascending=False).head().index[0]"
   ]
  },
  {
   "cell_type": "markdown",
   "metadata": {},
   "source": [
    "Just like REQUIRED_EXPERIENCE_MONTHS , here also **2 years is favourite** as Alternate Occupation experience"
   ]
  },
  {
   "cell_type": "markdown",
   "metadata": {},
   "source": [
    "Analysis of **ACCEPT_ALT_JOB_TITLE** column"
   ]
  },
  {
   "cell_type": "code",
   "execution_count": 165,
   "metadata": {},
   "outputs": [
    {
     "data": {
      "text/plain": [
       "Employment experience in any alternate occupation is acceptable.    35\n",
       "Computer Software Professional                                       8\n",
       "See H.14                                                             8\n",
       "Please see H.14 exp as required in 6A or 8C                          8\n",
       "24 months recent experience as Nursery Worker                        8\n",
       "Name: ACCEPT_ALT_JOB_TITLE, dtype: int64"
      ]
     },
     "execution_count": 165,
     "metadata": {},
     "output_type": "execute_result"
    }
   ],
   "source": [
    "df[df['CASE_STATUS_BINARY']==1]['ACCEPT_ALT_JOB_TITLE'].value_counts().head()"
   ]
  },
  {
   "cell_type": "code",
   "execution_count": 166,
   "metadata": {},
   "outputs": [
    {
     "data": {
      "text/plain": [
       "See H.14                             2562\n",
       "Job Offered or Related                925\n",
       "Computerrelated occupation            717\n",
       "Related Occupation                    711\n",
       "Job offered or related occupation     493\n",
       "Name: ACCEPT_ALT_JOB_TITLE, dtype: int64"
      ]
     },
     "execution_count": 166,
     "metadata": {},
     "output_type": "execute_result"
    }
   ],
   "source": [
    "df[df['CASE_STATUS_BINARY']==0]['ACCEPT_ALT_JOB_TITLE'].value_counts().head()"
   ]
  },
  {
   "cell_type": "markdown",
   "metadata": {},
   "source": [
    "No interesting insight here"
   ]
  },
  {
   "cell_type": "markdown",
   "metadata": {},
   "source": [
    "Analysis of **JOB_OPP_REQUIREMENTS_NORMAL** column"
   ]
  },
  {
   "cell_type": "code",
   "execution_count": 167,
   "metadata": {},
   "outputs": [
    {
     "data": {
      "text/plain": [
       "Y    2621\n",
       "N     261\n",
       "Name: JOB_OPP_REQUIREMENTS_NORMAL, dtype: int64"
      ]
     },
     "execution_count": 167,
     "metadata": {},
     "output_type": "execute_result"
    }
   ],
   "source": [
    "df[df['CASE_STATUS_BINARY']==1]['JOB_OPP_REQUIREMENTS_NORMAL'].value_counts()"
   ]
  },
  {
   "cell_type": "code",
   "execution_count": 168,
   "metadata": {},
   "outputs": [
    {
     "data": {
      "text/plain": [
       "Y    43771\n",
       "N    22464\n",
       "Name: JOB_OPP_REQUIREMENTS_NORMAL, dtype: int64"
      ]
     },
     "execution_count": 168,
     "metadata": {},
     "output_type": "execute_result"
    }
   ],
   "source": [
    "df[df['CASE_STATUS_BINARY']==0]['JOB_OPP_REQUIREMENTS_NORMAL'].value_counts()"
   ]
  },
  {
   "cell_type": "code",
   "execution_count": 169,
   "metadata": {},
   "outputs": [
    {
     "data": {
      "text/plain": [
       "9.06"
      ]
     },
     "execution_count": 169,
     "metadata": {},
     "output_type": "execute_result"
    }
   ],
   "source": [
    "# percentage of job opportunity’s requirements are NOT normal for Denied Cases\n",
    "round(261/(261+2621)*100,2)"
   ]
  },
  {
   "cell_type": "code",
   "execution_count": 170,
   "metadata": {},
   "outputs": [
    {
     "data": {
      "text/plain": [
       "33.92"
      ]
     },
     "execution_count": 170,
     "metadata": {},
     "output_type": "execute_result"
    }
   ],
   "source": [
    "# percentage of job opportunity’s requirements are NOT normal for Certified Cases\n",
    "round(22464/(22464+43771)*100,2)"
   ]
  },
  {
   "cell_type": "code",
   "execution_count": 174,
   "metadata": {},
   "outputs": [
    {
     "data": {
      "text/plain": [
       "[Text(0, 0.5, 'Job opportunity’s requirements are NOT normal Percentage'),\n",
       " Text(0.5, 0, 'Cases')]"
      ]
     },
     "execution_count": 174,
     "metadata": {},
     "output_type": "execute_result"
    },
    {
     "data": {
      "image/png": "[encoded data removed]",
      "text/plain": [
       "<Figure size 432x288 with 1 Axes>"
      ]
     },
     "metadata": {},
     "output_type": "display_data"
    }
   ],
   "source": [
    "# visualizing using seaborn\n",
    "ax = sns.barplot(x=['Cases Denied','Cases Certified'],y=[9.06,33.92])\n",
    "ax.set(xlabel='Cases', ylabel='Job opportunity’s requirements are NOT normal Percentage')"
   ]
  },
  {
   "cell_type": "markdown",
   "metadata": {},
   "source": [
    "This is actually an unsual insight, which suggests that the more abnormal the job opportunity's requirement, the more likely the case is to be certified"
   ]
  },
  {
   "cell_type": "code",
   "execution_count": null,
   "metadata": {},
   "outputs": [],
   "source": []
  }
 ],
 "metadata": {
  "kernelspec": {
   "display_name": "Python 3",
   "language": "python",
   "name": "python3"
  },
  "language_info": {
   "codemirror_mode": {
    "name": "ipython",
    "version": 3
   },
   "file_extension": ".py",
   "mimetype": "text/x-python",
   "name": "python",
   "nbconvert_exporter": "python",
   "pygments_lexer": "ipython3",
   "version": "3.7.3"
  }
 },
 "nbformat": 4,
 "nbformat_minor": 2
}
