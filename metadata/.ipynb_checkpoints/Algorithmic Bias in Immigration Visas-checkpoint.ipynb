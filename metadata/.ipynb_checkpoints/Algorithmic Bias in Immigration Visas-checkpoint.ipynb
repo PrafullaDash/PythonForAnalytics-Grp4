{
 "cells": [
  {
   "cell_type": "markdown",
   "metadata": {},
   "source": [
    "# Algorithmic Bias in Immigration Visas\n",
    "### Design Feature, Design Flaw, both or neither?\n",
    "Brandon Carp, Shyan DasMadan, Sam Gunther, Prafulla Ranjan Dash"
   ]
  },
  {
   "cell_type": "markdown",
   "metadata": {},
   "source": [
    "Can an algorithmic decision-making process ever be completely fair, even when it is designed to be? Black-box systems rule the world. People provide data, the system produces an output, and many pay little to no attention to how the system arrived at the answer. For most systems, the outputs fall somewhere on the spectrum of \"that's weird\" to \"how did it know that, that's creepy\". But in the case of immigration, the results can be dream-shattering or life-threatening."
   ]
  },
  {
   "cell_type": "markdown",
   "metadata": {},
   "source": [
    "Since March 2005, the US Department of Labor has used an electronic labor certification system known as PERM to reduce labor certification times (https://www.dol.gov/agencies/eta/foreign-labor/news/archive). With any electronic approval system, there would be concerns of potential bias. These concerns are only heightened when dealing with a controversial policy topic such as immigration."
   ]
  },
  {
   "cell_type": "markdown",
   "metadata": {},
   "source": [
    "Our team was asked to conduct a preliminary analysis of data from the PERM system from the Office of Foreign Labor Certification (https://www.dol.gov/agencies/eta/foreign-labor/performance#dis). Based on the 2020 disclosure file, we reviewed the feature set and performed exploratory analysis on the data to draw insights into the program and system. This system, which is designed to conduct a screening to determine whether someone is certified for the visa they applied for, is not the final determining factor, but instead an input used to further filter out ineligible applicants. "
   ]
  },
  {
   "cell_type": "code",
   "execution_count": null,
   "metadata": {},
   "outputs": [],
   "source": []
  }
 ],
 "metadata": {
  "kernelspec": {
   "display_name": "Python [conda env:DataScience] *",
   "language": "python",
   "name": "conda-env-DataScience-py"
  },
  "language_info": {
   "codemirror_mode": {
    "name": "ipython",
    "version": 3
   },
   "file_extension": ".py",
   "mimetype": "text/x-python",
   "name": "python",
   "nbconvert_exporter": "python",
   "pygments_lexer": "ipython3",
   "version": "3.7.1"
  },
  "toc": {
   "base_numbering": 1,
   "nav_menu": {},
   "number_sections": false,
   "sideBar": true,
   "skip_h1_title": true,
   "title_cell": "Table of Contents",
   "title_sidebar": "Contents",
   "toc_cell": false,
   "toc_position": {},
   "toc_section_display": true,
   "toc_window_display": true
  },
  "varInspector": {
   "cols": {
    "lenName": 16,
    "lenType": 16,
    "lenVar": 40
   },
   "kernels_config": {
    "python": {
     "delete_cmd_postfix": "",
     "delete_cmd_prefix": "del ",
     "library": "var_list.py",
     "varRefreshCmd": "print(var_dic_list())"
    },
    "r": {
     "delete_cmd_postfix": ") ",
     "delete_cmd_prefix": "rm(",
     "library": "var_list.r",
     "varRefreshCmd": "cat(var_dic_list()) "
    }
   },
   "types_to_exclude": [
    "module",
    "function",
    "builtin_function_or_method",
    "instance",
    "_Feature"
   ],
   "window_display": false
  }
 },
 "nbformat": 4,
 "nbformat_minor": 4
}
