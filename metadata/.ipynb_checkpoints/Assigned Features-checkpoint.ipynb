{
 "cells": [
  {
   "cell_type": "markdown",
   "metadata": {},
   "source": [
    "# Assigned Features"
   ]
  },
  {
   "cell_type": "markdown",
   "metadata": {},
   "source": [
    "https://github.com/samgunther/PythonForAnalytics-Grp4"
   ]
  },
  {
   "cell_type": "markdown",
   "metadata": {},
   "source": [
    "## Setup"
   ]
  },
  {
   "cell_type": "code",
   "execution_count": 9,
   "metadata": {},
   "outputs": [],
   "source": [
    "# Read data from reference spreadsheet into dataframe\n",
    "df = pd.read_excel('PERM_FY2020_Q3_feature_list.xlsx', skiprows=4, header=None)[[0,3,4]]"
   ]
  },
  {
   "cell_type": "code",
   "execution_count": 24,
   "metadata": {},
   "outputs": [],
   "source": [
    "# Define function to slice dataframe based on assignee\n",
    "def feature_list_slicer(name):\n",
    "    return df[df[3]==name][0].append(df[df[4]==name][0], ignore_index=True) "
   ]
  },
  {
   "cell_type": "markdown",
   "metadata": {},
   "source": [
    "## Shyan DasMadan"
   ]
  },
  {
   "cell_type": "markdown",
   "metadata": {},
   "source": [
    "`Labor Analysis - DasMadan.ipynb`"
   ]
  },
  {
   "cell_type": "code",
   "execution_count": 25,
   "metadata": {},
   "outputs": [
    {
     "data": {
      "text/plain": [
       "0                               REFILE\n",
       "1                       ORIG_FILE_DATE\n",
       "2       PREVIOUS_SWA_CASE_NUMBER_STATE\n",
       "3                   SCHD_A_SHEEPHERDER\n",
       "4                        EMPLOYER_NAME\n",
       "5                   EMPLOYER_ADDRESS_1\n",
       "6                   EMPLOYER_ADDRESS_2\n",
       "7                        EMPLOYER_CITY\n",
       "8              EMPLOYER_STATE_PROVINCE\n",
       "9                     EMPLOYER_COUNTRY\n",
       "10                EMPLOYER_POSTAL_CODE\n",
       "11                      EMPLOYER_PHONE\n",
       "12                  EMPLOYER_PHONE_EXT\n",
       "13              EMPLOYER_NUM_EMPLOYEES\n",
       "14    EMPLOYER_YEAR_COMMENCED_BUSINESS\n",
       "15                          NAICS_CODE\n",
       "16               FW_OWNERSHIP_INTEREST\n",
       "17                    EMP_CONTACT_NAME\n",
       "18               EMP_CONTACT_ADDRESS_1\n",
       "19               EMP_CONTACT_ADDRESS_2\n",
       "20                    EMP_CONTACT_CITY\n",
       "21          EMP_CONTACT_STATE_PROVINCE\n",
       "22                 EMP_CONTACT_COUNTRY\n",
       "23             EMP_CONTACT_POSTAL_CODE\n",
       "24                   EMP_CONTACT_PHONE\n",
       "25                   EMP_CONTACT_EMAIL\n",
       "26                 AGENT_ATTORNEY_NAME\n",
       "27            AGENT_ATTORNEY_FIRM_NAME\n",
       "28                AGENT_ATTORNEY_PHONE\n",
       "29            AGENT_ATTORNEY_PHONE_EXT\n",
       "30            AGENT_ATTORNEY_ADDRESS_1\n",
       "31            AGENT_ATTORNEY_ADDRESS_2\n",
       "32                 AGENT_ATTORNEY_CITY\n",
       "33       AGENT_ATTORNEY_STATE_PROVINCE\n",
       "34              AGENT_ATTORNEY_COUNTRY\n",
       "35          AGENT_ATTORNEY_POSTAL_CODE\n",
       "36                AGENT_ATTORNEY_EMAIL\n",
       "Name: 0, dtype: object"
      ]
     },
     "execution_count": 25,
     "metadata": {},
     "output_type": "execute_result"
    }
   ],
   "source": [
    "#Return feature names for each\n",
    "feature_list_slicer(\"Shyan\")"
   ]
  },
  {
   "cell_type": "markdown",
   "metadata": {},
   "source": [
    "## Sam Gunther"
   ]
  },
  {
   "cell_type": "markdown",
   "metadata": {},
   "source": [
    "`Labor Analysis - Sam Gunther.ipynb`"
   ]
  },
  {
   "cell_type": "code",
   "execution_count": 26,
   "metadata": {},
   "outputs": [
    {
     "data": {
      "text/plain": [
       "0                    PW_TRACK_NUMBER\n",
       "1                        PW_SOC_CODE\n",
       "2                       PW_SOC_TITLE\n",
       "3                     PW_SKILL_LEVEL\n",
       "4                            PW_WAGE\n",
       "5                     PW_UNIT_OF_PAY\n",
       "6                     PW_WAGE_SOURCE\n",
       "7               PW_SOURCE_NAME_OTHER\n",
       "8              PW_DETERMINATION_DATE\n",
       "9                 PW_EXPIRATION_DATE\n",
       "10                   WAGE_OFFER_FROM\n",
       "11                     WAGE_OFFER_TO\n",
       "12            WAGE_OFFER_UNIT_OF_PAY\n",
       "13                WORKSITE_ADDRESS_1\n",
       "14                WORKSITE_ADDRESS_2\n",
       "15                     WORKSITE_CITY\n",
       "16                    WORKSITE_STATE\n",
       "17              WORKSITE_POSTAL_CODE\n",
       "18                         JOB_TITLE\n",
       "19          FOREIGN_WORKER_EDUCATION\n",
       "20    FOREIGN_WORKER_EDUCATION_OTHER\n",
       "21         FOREIGN_WORKER_INFO_MAJOR\n",
       "22        FOREIGN_WORKER_YRS_ED_COMP\n",
       "23         FOREIGN_WORKER_INST_OF_ED\n",
       "24      FOREIGN_WORKER_ED_INST_ADD_1\n",
       "25      FOREIGN_WORKER_ED_INST_ADD_2\n",
       "26       FOREIGN_WORKER_ED_INST_CITY\n",
       "27    FOREIGN_WORKER_ED_INST_STATE_P\n",
       "28    FOREIGN_WORKER_ED_INST_COUNTRY\n",
       "29    FOREIGN_WORKER_ED_INST_POST_CD\n",
       "30                 MINIMUM_EDUCATION\n",
       "31           JOB_EDUCATION_MIN_OTHER\n",
       "32              MAJOR_FIELD_OF_STUDY\n",
       "Name: 0, dtype: object"
      ]
     },
     "execution_count": 26,
     "metadata": {},
     "output_type": "execute_result"
    }
   ],
   "source": [
    "#Return feature names for each\n",
    "feature_list_slicer(\"Sam\")"
   ]
  },
  {
   "cell_type": "markdown",
   "metadata": {},
   "source": [
    "## Prafulla Ranjan Dash"
   ]
  },
  {
   "cell_type": "markdown",
   "metadata": {},
   "source": [
    "`Training and Skills Analysis - Prafulla.ipynb`"
   ]
  },
  {
   "cell_type": "code",
   "execution_count": 27,
   "metadata": {},
   "outputs": [
    {
     "data": {
      "text/plain": [
       "0                  MINIMUM_EDUCATION\n",
       "1            JOB_EDUCATION_MIN_OTHER\n",
       "2               MAJOR_FIELD_OF_STUDY\n",
       "3                  REQUIRED_TRAINING\n",
       "4           REQUIRED_TRAINING_MONTHS\n",
       "5         REQUIRED_FIELD_OF_TRAINING\n",
       "6                REQUIRED_EXPERIENCE\n",
       "7         REQUIRED_EXPERIENCE_MONTHS\n",
       "8          ACCEPT_ALT_FIELD_OF_STUDY\n",
       "9      ACCEPT_ALT_MAJOR_FLD_OF_STUDY\n",
       "10                  ACCEPT_ALT_COMBO\n",
       "11        ACCEPT_ALT_COMBO_EDUCATION\n",
       "12         ACCEPT_ALT_COMBO_ED_OTHER\n",
       "13    ACCEPT_ALT_COMBO_EDUCATION_YRS\n",
       "14          ACCEPT_FOREIGN_EDUCATION\n",
       "15             ACCEPT_ALT_OCCUPATION\n",
       "16      ACCEPT_ALT_OCCUPATION_MONTHS\n",
       "17              ACCEPT_ALT_JOB_TITLE\n",
       "18       JOB_OPP_REQUIREMENTS_NORMAL\n",
       "19         FOREIGN_LANGUAGE_REQUIRED\n",
       "20                   SPECIFIC_SKILLS\n",
       "21            COMBINATION_OCCUPATION\n",
       "22    OFFERED_TO_APPL_FOREIGN_WORKER\n",
       "23       FOREIGN_WORKER_LIVE_ON_PREM\n",
       "24    FOREIGN_WORKER_LIVE_IN_DOM_SER\n",
       "25    FOREIGN_WORKER_LIVE_IN_DOM_CNT\n",
       "26           PROFESSIONAL_OCCUPATION\n",
       "27         APP_FOR_COLLEGE_U_TEACHER\n",
       "28               COMPETITIVE_PROCESS\n",
       "29         BASIC_RECRUITMENT_PROCESS\n",
       "30               TEACHER_SELECT_DATE\n",
       "31          TEACHER_PUB_JOURNAL_NAME\n",
       "32           ADD_RECRUIT_INFORMATION\n",
       "Name: 0, dtype: object"
      ]
     },
     "execution_count": 27,
     "metadata": {},
     "output_type": "execute_result"
    }
   ],
   "source": [
    "#Return feature names for each\n",
    "feature_list_slicer(\"Prafulla\")"
   ]
  },
  {
   "cell_type": "markdown",
   "metadata": {},
   "source": [
    "## Brandon Carp"
   ]
  },
  {
   "cell_type": "markdown",
   "metadata": {},
   "source": [
    "`PERM Analysis - Brandon Carp.ipynb`"
   ]
  },
  {
   "cell_type": "code",
   "execution_count": 28,
   "metadata": {},
   "outputs": [
    {
     "data": {
      "text/plain": [
       "0           SWA_JOB_ORDER_START_DATE\n",
       "1             SWA_JOB_ORDER_END_DATE\n",
       "2           SUNDAY_EDITION_NEWSPAPER\n",
       "3               FIRST_NEWSPAPER_NAME\n",
       "4     FIRST_ADVERTISEMENT_START_DATE\n",
       "5           SECOND_NEWSPAPER_AD_NAME\n",
       "6          SECOND_ADVERTISEMENT_TYPE\n",
       "7               SECOND_AD_START_DATE\n",
       "8                 JOB_FAIR_FROM_DATE\n",
       "9                   JOB_FAIR_TO_DATE\n",
       "10    ON_CAMPUS_RECRUITING_FROM_DATE\n",
       "11      ON_CAMPUS_RECRUITING_TO_DATE\n",
       "12        EMPLOYER_WEBSITE_FROM_DATE\n",
       "13          EMPLOYER_WEBSITE_TO_DATE\n",
       "14              PRO_ORG_AD_FROM_DATE\n",
       "15     PRO_ORG_ADVERTISEMENT_TO_DATE\n",
       "16      JOB_SEARCH_WEBSITE_FROM_DATE\n",
       "17        JOB_SEARCH_WEBSITE_TO_DATE\n",
       "18     PVT_EMPLOYMENT_FIRM_FROM_DATE\n",
       "19       PVT_EMPLOYMENT_FIRM_TO_DATE\n",
       "20       EMPLOYEE_REF_PROG_FROM_DATE\n",
       "21    EMPLOYEE_REFERRAL_PROG_TO_DATE\n",
       "22        CAMPUS_PLACEMENT_FROM_DATE\n",
       "23          CAMPUS_PLACEMENT_TO_DATE\n",
       "24      LOCAL_ETHNIC_PAPER_FROM_DATE\n",
       "25        LOCAL_ETHNIC_PAPER_TO_DATE\n",
       "26             RADIO_TV_AD_FROM_DATE\n",
       "27               RADIO_TV_AD_TO_DATE\n",
       "28              EMP_RECEIVED_PAYMENT\n",
       "29                   PAYMENT_DETAILS\n",
       "30           BARGAINING_REP_NOTIFIED\n",
       "31         POSTED_NOTICE_AT_WORKSITE\n",
       "32         LAYOFF_IN_PAST_SIX_MONTHS\n",
       "33             US_WORKERS_CONSIDERED\n",
       "34            COUNTRY_OF_CITIZENSHIP\n",
       "35      FOREIGN_WORKER_BIRTH_COUNTRY\n",
       "36                CLASS_OF_ADMISSION\n",
       "37      FOREIGN_WORKER_TRAINING_COMP\n",
       "38     FOREIGN_WORKER_REQ_EXPERIENCE\n",
       "39         FOREIGN_WORKER_ALT_ED_EXP\n",
       "40        FOREIGN_WORKER_ALT_OCC_EXP\n",
       "41      FOREIGN_WORKER_EXP_WITH_EMPL\n",
       "42    FOREIGN_WORKER_EMPL_PAY_FOR_ED\n",
       "43      FOREIGN_WORKER_CURR_EMPLOYED\n",
       "44    EMPLOYER_COMPLETED_APPLICATION\n",
       "45                     PREPARER_NAME\n",
       "46                    PREPARER_TITLE\n",
       "47                    PREPARER_EMAIL\n",
       "48                EMP_INFO_DECL_NAME\n",
       "49               EMP_INFO_DECL_TITLE\n",
       "Name: 0, dtype: object"
      ]
     },
     "execution_count": 28,
     "metadata": {},
     "output_type": "execute_result"
    }
   ],
   "source": [
    "#Return feature names for each\n",
    "feature_list_slicer(\"Brandon\")"
   ]
  }
 ],
 "metadata": {
  "kernelspec": {
   "display_name": "Python [conda env:DataScience] *",
   "language": "python",
   "name": "conda-env-DataScience-py"
  },
  "language_info": {
   "codemirror_mode": {
    "name": "ipython",
    "version": 3
   },
   "file_extension": ".py",
   "mimetype": "text/x-python",
   "name": "python",
   "nbconvert_exporter": "python",
   "pygments_lexer": "ipython3",
   "version": "3.7.1"
  },
  "toc": {
   "base_numbering": 1,
   "nav_menu": {},
   "number_sections": false,
   "sideBar": true,
   "skip_h1_title": false,
   "title_cell": "Table of Contents",
   "title_sidebar": "Contents",
   "toc_cell": false,
   "toc_position": {
    "height": "calc(100% - 180px)",
    "left": "10px",
    "top": "150px",
    "width": "186.344px"
   },
   "toc_section_display": true,
   "toc_window_display": true
  },
  "varInspector": {
   "cols": {
    "lenName": 16,
    "lenType": 16,
    "lenVar": 40
   },
   "kernels_config": {
    "python": {
     "delete_cmd_postfix": "",
     "delete_cmd_prefix": "del ",
     "library": "var_list.py",
     "varRefreshCmd": "print(var_dic_list())"
    },
    "r": {
     "delete_cmd_postfix": ") ",
     "delete_cmd_prefix": "rm(",
     "library": "var_list.r",
     "varRefreshCmd": "cat(var_dic_list()) "
    }
   },
   "types_to_exclude": [
    "module",
    "function",
    "builtin_function_or_method",
    "instance",
    "_Feature"
   ],
   "window_display": false
  }
 },
 "nbformat": 4,
 "nbformat_minor": 4
}
