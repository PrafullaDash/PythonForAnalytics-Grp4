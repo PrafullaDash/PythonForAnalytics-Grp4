{
 "cells": [
  {
   "cell_type": "markdown",
   "metadata": {
    "toc": true
   },
   "source": [
    "<h1>Table of Contents<span class=\"tocSkip\"></span></h1>\n",
    "<div class=\"toc\"><ul class=\"toc-item\"><li><span><a href=\"#0---Package-Setup\" data-toc-modified-id=\"0---Package-Setup-1\">0 - Package Setup</a></span></li><li><span><a href=\"#1---Read-Data\" data-toc-modified-id=\"1---Read-Data-2\">1 - Read Data</a></span></li></ul></div>"
   ]
  },
  {
   "cell_type": "markdown",
   "metadata": {},
   "source": [
    "## 0 - Package Setup"
   ]
  },
  {
   "cell_type": "code",
   "execution_count": 23,
   "metadata": {},
   "outputs": [],
   "source": [
    "%matplotlib inline\n",
    "import numpy as np\n",
    "import pandas as pd\n",
    "import matplotlib.pyplot as plt\n",
    "import seaborn as sns"
   ]
  },
  {
   "cell_type": "markdown",
   "metadata": {},
   "source": [
    "## 1 - Read Data"
   ]
  },
  {
   "cell_type": "code",
   "execution_count": 24,
   "metadata": {},
   "outputs": [],
   "source": [
    "df = pd.read_excel('PERM_FY2020_Q3.xlsx') #Read data into df"
   ]
  },
  {
   "cell_type": "code",
   "execution_count": 25,
   "metadata": {},
   "outputs": [
    {
     "data": {
      "text/html": [
       "<div>\n",
       "<style scoped>\n",
       "    .dataframe tbody tr th:only-of-type {\n",
       "        vertical-align: middle;\n",
       "    }\n",
       "\n",
       "    .dataframe tbody tr th {\n",
       "        vertical-align: top;\n",
       "    }\n",
       "\n",
       "    .dataframe thead th {\n",
       "        text-align: right;\n",
       "    }\n",
       "</style>\n",
       "<table border=\"1\" class=\"dataframe\">\n",
       "  <thead>\n",
       "    <tr style=\"text-align: right;\">\n",
       "      <th></th>\n",
       "      <th>CASE_NUMBER</th>\n",
       "      <th>CASE_STATUS</th>\n",
       "      <th>RECEIVED_DATE</th>\n",
       "      <th>DECISION_DATE</th>\n",
       "      <th>REFILE</th>\n",
       "      <th>ORIG_FILE_DATE</th>\n",
       "      <th>PREVIOUS_SWA_CASE_NUMBER_STATE</th>\n",
       "      <th>SCHD_A_SHEEPHERDER</th>\n",
       "      <th>EMPLOYER_NAME</th>\n",
       "      <th>EMPLOYER_ADDRESS_1</th>\n",
       "      <th>...</th>\n",
       "      <th>FOREIGN_WORKER_EXP_WITH_EMPL</th>\n",
       "      <th>FOREIGN_WORKER_EMPL_PAY_FOR_ED</th>\n",
       "      <th>FOREIGN_WORKER_CURR_EMPLOYED</th>\n",
       "      <th>EMPLOYER_COMPLETED_APPLICATION</th>\n",
       "      <th>PREPARER_NAME</th>\n",
       "      <th>PREPARER_TITLE</th>\n",
       "      <th>PREPARER_EMAIL</th>\n",
       "      <th>EMP_INFO_DECL_NAME</th>\n",
       "      <th>EMP_INFO_DECL_TITLE</th>\n",
       "      <th>CASE_STATUS_BINARY</th>\n",
       "    </tr>\n",
       "  </thead>\n",
       "  <tbody>\n",
       "    <tr>\n",
       "      <th>0</th>\n",
       "      <td>A-09245-62715</td>\n",
       "      <td>Denied</td>\n",
       "      <td>2009-09-03</td>\n",
       "      <td>2020-04-30 14:50:29</td>\n",
       "      <td>N</td>\n",
       "      <td>NaT</td>\n",
       "      <td>NaN</td>\n",
       "      <td>N</td>\n",
       "      <td>SATURN ENTERPRISES INC</td>\n",
       "      <td>2340 N WASHTENAW AVE</td>\n",
       "      <td>...</td>\n",
       "      <td>N</td>\n",
       "      <td>N</td>\n",
       "      <td>N</td>\n",
       "      <td>N</td>\n",
       "      <td>Christopher E Kurczaba</td>\n",
       "      <td>Attorney</td>\n",
       "      <td>kurczabalaw@sbcglobal.net</td>\n",
       "      <td>Zygmunt  Oparowski</td>\n",
       "      <td>President</td>\n",
       "      <td>1</td>\n",
       "    </tr>\n",
       "    <tr>\n",
       "      <th>1</th>\n",
       "      <td>A-10119-96737</td>\n",
       "      <td>Certified</td>\n",
       "      <td>2010-03-29</td>\n",
       "      <td>2019-10-18 11:34:37</td>\n",
       "      <td>Y</td>\n",
       "      <td>2000-09-15</td>\n",
       "      <td>MARYLAND</td>\n",
       "      <td>N</td>\n",
       "      <td>FIL PARONG</td>\n",
       "      <td>13528 JAMIESON PL</td>\n",
       "      <td>...</td>\n",
       "      <td>N</td>\n",
       "      <td>N</td>\n",
       "      <td>N</td>\n",
       "      <td>N</td>\n",
       "      <td>WINSTON W TSAI</td>\n",
       "      <td>ATTORNEY AT LAW</td>\n",
       "      <td>WINSTONTSAI@AOL.COM</td>\n",
       "      <td>FIL  PARONG</td>\n",
       "      <td>HEAD OF HOUSEHOLD</td>\n",
       "      <td>0</td>\n",
       "    </tr>\n",
       "    <tr>\n",
       "      <th>2</th>\n",
       "      <td>A-10225-13679</td>\n",
       "      <td>Denied</td>\n",
       "      <td>2010-08-10</td>\n",
       "      <td>2020-04-30 07:55:08</td>\n",
       "      <td>N</td>\n",
       "      <td>NaT</td>\n",
       "      <td>NaN</td>\n",
       "      <td>N</td>\n",
       "      <td>GLENNS PLUMBING SERVICES</td>\n",
       "      <td>854 CUSTER STREET</td>\n",
       "      <td>...</td>\n",
       "      <td>N</td>\n",
       "      <td>N</td>\n",
       "      <td>N</td>\n",
       "      <td>N</td>\n",
       "      <td>DANIEL J SULLIVAN</td>\n",
       "      <td>ATTORNEY</td>\n",
       "      <td>GWG8@AOL.COM</td>\n",
       "      <td>DAVID  GLENN</td>\n",
       "      <td>OWNER</td>\n",
       "      <td>1</td>\n",
       "    </tr>\n",
       "    <tr>\n",
       "      <th>3</th>\n",
       "      <td>A-11033-51540</td>\n",
       "      <td>Certified</td>\n",
       "      <td>2011-02-03</td>\n",
       "      <td>2020-05-28 08:38:56</td>\n",
       "      <td>N</td>\n",
       "      <td>NaT</td>\n",
       "      <td>NaN</td>\n",
       "      <td>N</td>\n",
       "      <td>SKILLNET SOLUTIONS INC.</td>\n",
       "      <td>1901 SOUTH BASCOM AVENUE</td>\n",
       "      <td>...</td>\n",
       "      <td>N</td>\n",
       "      <td>N</td>\n",
       "      <td>Y</td>\n",
       "      <td>N</td>\n",
       "      <td>Sonal  Kinger</td>\n",
       "      <td>Attorney at Law</td>\n",
       "      <td>sonal.kinger@bakerlawcorp.com</td>\n",
       "      <td>Jack  Grover</td>\n",
       "      <td>VP of Finance and Operations</td>\n",
       "      <td>0</td>\n",
       "    </tr>\n",
       "    <tr>\n",
       "      <th>4</th>\n",
       "      <td>A-11074-62984</td>\n",
       "      <td>Denied</td>\n",
       "      <td>2011-03-10</td>\n",
       "      <td>2020-06-17 07:50:52</td>\n",
       "      <td>N</td>\n",
       "      <td>NaT</td>\n",
       "      <td>NaN</td>\n",
       "      <td>N</td>\n",
       "      <td>R    L  CONSTRUCTION,  INC.</td>\n",
       "      <td>904  NEPPERHAN  AVENUE</td>\n",
       "      <td>...</td>\n",
       "      <td>N</td>\n",
       "      <td>N</td>\n",
       "      <td>N</td>\n",
       "      <td>N</td>\n",
       "      <td>DENISE S DUTTON</td>\n",
       "      <td>NONATTORNEY</td>\n",
       "      <td>NaN</td>\n",
       "      <td>RITA  O  SULLIVAN</td>\n",
       "      <td>MANAGER</td>\n",
       "      <td>1</td>\n",
       "    </tr>\n",
       "  </tbody>\n",
       "</table>\n",
       "<p>5 rows × 155 columns</p>\n",
       "</div>"
      ],
      "text/plain": [
       "     CASE_NUMBER CASE_STATUS RECEIVED_DATE       DECISION_DATE REFILE  \\\n",
       "0  A-09245-62715      Denied    2009-09-03 2020-04-30 14:50:29      N   \n",
       "1  A-10119-96737   Certified    2010-03-29 2019-10-18 11:34:37      Y   \n",
       "2  A-10225-13679      Denied    2010-08-10 2020-04-30 07:55:08      N   \n",
       "3  A-11033-51540   Certified    2011-02-03 2020-05-28 08:38:56      N   \n",
       "4  A-11074-62984      Denied    2011-03-10 2020-06-17 07:50:52      N   \n",
       "\n",
       "  ORIG_FILE_DATE PREVIOUS_SWA_CASE_NUMBER_STATE SCHD_A_SHEEPHERDER  \\\n",
       "0            NaT                            NaN                  N   \n",
       "1     2000-09-15                       MARYLAND                  N   \n",
       "2            NaT                            NaN                  N   \n",
       "3            NaT                            NaN                  N   \n",
       "4            NaT                            NaN                  N   \n",
       "\n",
       "                 EMPLOYER_NAME        EMPLOYER_ADDRESS_1  ...  \\\n",
       "0       SATURN ENTERPRISES INC      2340 N WASHTENAW AVE  ...   \n",
       "1                   FIL PARONG         13528 JAMIESON PL  ...   \n",
       "2     GLENNS PLUMBING SERVICES         854 CUSTER STREET  ...   \n",
       "3      SKILLNET SOLUTIONS INC.  1901 SOUTH BASCOM AVENUE  ...   \n",
       "4  R    L  CONSTRUCTION,  INC.    904  NEPPERHAN  AVENUE  ...   \n",
       "\n",
       "  FOREIGN_WORKER_EXP_WITH_EMPL FOREIGN_WORKER_EMPL_PAY_FOR_ED  \\\n",
       "0                            N                              N   \n",
       "1                            N                              N   \n",
       "2                            N                              N   \n",
       "3                            N                              N   \n",
       "4                            N                              N   \n",
       "\n",
       "  FOREIGN_WORKER_CURR_EMPLOYED EMPLOYER_COMPLETED_APPLICATION  \\\n",
       "0                            N                              N   \n",
       "1                            N                              N   \n",
       "2                            N                              N   \n",
       "3                            Y                              N   \n",
       "4                            N                              N   \n",
       "\n",
       "            PREPARER_NAME   PREPARER_TITLE                 PREPARER_EMAIL  \\\n",
       "0  Christopher E Kurczaba         Attorney      kurczabalaw@sbcglobal.net   \n",
       "1          WINSTON W TSAI  ATTORNEY AT LAW            WINSTONTSAI@AOL.COM   \n",
       "2       DANIEL J SULLIVAN         ATTORNEY                   GWG8@AOL.COM   \n",
       "3           Sonal  Kinger  Attorney at Law  sonal.kinger@bakerlawcorp.com   \n",
       "4         DENISE S DUTTON      NONATTORNEY                            NaN   \n",
       "\n",
       "   EMP_INFO_DECL_NAME           EMP_INFO_DECL_TITLE CASE_STATUS_BINARY  \n",
       "0  Zygmunt  Oparowski                     President                  1  \n",
       "1         FIL  PARONG             HEAD OF HOUSEHOLD                  0  \n",
       "2        DAVID  GLENN                         OWNER                  1  \n",
       "3        Jack  Grover  VP of Finance and Operations                  0  \n",
       "4   RITA  O  SULLIVAN                       MANAGER                  1  \n",
       "\n",
       "[5 rows x 155 columns]"
      ]
     },
     "execution_count": 25,
     "metadata": {},
     "output_type": "execute_result"
    }
   ],
   "source": [
    "# filter case statuses that are not withdrawn as including them could lead to misleading insights\n",
    "df = df[df.CASE_STATUS != 'Withdrawn']\n",
    "\n",
    "# create binary variables between cases that are denied vs certified\n",
    "# denied cases will have a binary variable of 1 while certified cases will have a binary variable of 0\n",
    "case_status = []\n",
    "case_status_binary = []\n",
    "for i in df.CASE_STATUS:\n",
    "    if i == 'Denied':\n",
    "        case_status.append('Denied')\n",
    "        case_status_binary.append(1)\n",
    "    else:\n",
    "        case_status.append('Certified')\n",
    "        case_status_binary.append(0)\n",
    "       \n",
    "df['CASE_STATUS'] = case_status\n",
    "df['CASE_STATUS_BINARY'] = case_status_binary\n",
    "\n",
    "df.head()"
   ]
  },
  {
   "cell_type": "code",
   "execution_count": 26,
   "metadata": {},
   "outputs": [],
   "source": [
    "# Filter out columns assigned to me\n",
    "df = df[[\"CASE_NUMBER\",\"CASE_STATUS\",\"CASE_STATUS_BINARY\",\"RECEIVED_DATE\",\"DECISION_DATE\",\n",
    "         \"SWA_JOB_ORDER_START_DATE\",\"SWA_JOB_ORDER_END_DATE\",\"SUNDAY_EDITION_NEWSPAPER\",\n",
    "         \"FIRST_NEWSPAPER_NAME\",\"FIRST_ADVERTISEMENT_START_DATE\",\n",
    "         \"SECOND_NEWSPAPER_AD_NAME\",\"SECOND_ADVERTISEMENT_TYPE\",\"SECOND_AD_START_DATE\",\n",
    "         \"JOB_FAIR_FROM_DATE\",\"JOB_FAIR_TO_DATE\",\"ON_CAMPUS_RECRUITING_FROM_DATE\",\n",
    "         \"ON_CAMPUS_RECRUITING_TO_DATE\",\"EMPLOYER_WEBSITE_FROM_DATE\",\n",
    "         \"EMPLOYER_WEBSITE_TO_DATE\",\"PRO_ORG_AD_FROM_DATE\",\"PRO_ORG_ADVERTISEMENT_TO_DATE\",\n",
    "         \"JOB_SEARCH_WEBSITE_FROM_DATE\",\"JOB_SEARCH_WEBSITE_TO_DATE\",\n",
    "         \"PVT_EMPLOYMENT_FIRM_FROM_DATE\",\"PVT_EMPLOYMENT_FIRM_TO_DATE\",\n",
    "         \"EMPLOYEE_REF_PROG_FROM_DATE\",\"EMPLOYEE_REFERRAL_PROG_TO_DATE\",\n",
    "         \"CAMPUS_PLACEMENT_FROM_DATE\",\"CAMPUS_PLACEMENT_TO_DATE\",\n",
    "         \"LOCAL_ETHNIC_PAPER_FROM_DATE\",\"LOCAL_ETHNIC_PAPER_TO_DATE\",\n",
    "         \"RADIO_TV_AD_FROM_DATE\",\"RADIO_TV_AD_TO_DATE\",\"EMP_RECEIVED_PAYMENT\",\n",
    "         \"PAYMENT_DETAILS\",\"BARGAINING_REP_NOTIFIED\",\"POSTED_NOTICE_AT_WORKSITE\",\n",
    "         \"LAYOFF_IN_PAST_SIX_MONTHS\",\"US_WORKERS_CONSIDERED\",\"COUNTRY_OF_CITIZENSHIP\",\n",
    "         \"FOREIGN_WORKER_BIRTH_COUNTRY\",\"CLASS_OF_ADMISSION\",\"FOREIGN_WORKER_TRAINING_COMP\",\n",
    "         \"FOREIGN_WORKER_REQ_EXPERIENCE\",\"FOREIGN_WORKER_ALT_ED_EXP\",\n",
    "         \"FOREIGN_WORKER_ALT_OCC_EXP\",\"FOREIGN_WORKER_EXP_WITH_EMPL\",\n",
    "         \"FOREIGN_WORKER_EMPL_PAY_FOR_ED\",\"FOREIGN_WORKER_CURR_EMPLOYED\",\n",
    "         \"EMPLOYER_COMPLETED_APPLICATION\",\"PREPARER_NAME\",\"PREPARER_TITLE\",\n",
    "         \"PREPARER_EMAIL\",\"EMP_INFO_DECL_NAME\",\"EMP_INFO_DECL_TITLE\"]]"
   ]
  },
  {
   "cell_type": "code",
   "execution_count": 27,
   "metadata": {},
   "outputs": [
    {
     "name": "stdout",
     "output_type": "stream",
     "text": [
      "<class 'pandas.core.frame.DataFrame'>\n",
      "Int64Index: 69117 entries, 0 to 71650\n",
      "Data columns (total 55 columns):\n",
      " #   Column                          Non-Null Count  Dtype         \n",
      "---  ------                          --------------  -----         \n",
      " 0   CASE_NUMBER                     69117 non-null  object        \n",
      " 1   CASE_STATUS                     69117 non-null  object        \n",
      " 2   CASE_STATUS_BINARY              69117 non-null  int64         \n",
      " 3   RECEIVED_DATE                   69117 non-null  datetime64[ns]\n",
      " 4   DECISION_DATE                   69117 non-null  datetime64[ns]\n",
      " 5   SWA_JOB_ORDER_START_DATE        67546 non-null  object        \n",
      " 6   SWA_JOB_ORDER_END_DATE          67541 non-null  object        \n",
      " 7   SUNDAY_EDITION_NEWSPAPER        67561 non-null  object        \n",
      " 8   FIRST_NEWSPAPER_NAME            67538 non-null  object        \n",
      " 9   FIRST_ADVERTISEMENT_START_DATE  67542 non-null  object        \n",
      " 10  SECOND_NEWSPAPER_AD_NAME        67527 non-null  object        \n",
      " 11  SECOND_ADVERTISEMENT_TYPE       67540 non-null  object        \n",
      " 12  SECOND_AD_START_DATE            67538 non-null  object        \n",
      " 13  JOB_FAIR_FROM_DATE              290 non-null    datetime64[ns]\n",
      " 14  JOB_FAIR_TO_DATE                290 non-null    datetime64[ns]\n",
      " 15  ON_CAMPUS_RECRUITING_FROM_DATE  318 non-null    datetime64[ns]\n",
      " 16  ON_CAMPUS_RECRUITING_TO_DATE    318 non-null    datetime64[ns]\n",
      " 17  EMPLOYER_WEBSITE_FROM_DATE      28237 non-null  datetime64[ns]\n",
      " 18  EMPLOYER_WEBSITE_TO_DATE        28237 non-null  datetime64[ns]\n",
      " 19  PRO_ORG_AD_FROM_DATE            12546 non-null  datetime64[ns]\n",
      " 20  PRO_ORG_ADVERTISEMENT_TO_DATE   12546 non-null  datetime64[ns]\n",
      " 21  JOB_SEARCH_WEBSITE_FROM_DATE    55280 non-null  object        \n",
      " 22  JOB_SEARCH_WEBSITE_TO_DATE      55280 non-null  datetime64[ns]\n",
      " 23  PVT_EMPLOYMENT_FIRM_FROM_DATE   2781 non-null   datetime64[ns]\n",
      " 24  PVT_EMPLOYMENT_FIRM_TO_DATE     2781 non-null   datetime64[ns]\n",
      " 25  EMPLOYEE_REF_PROG_FROM_DATE     17610 non-null  object        \n",
      " 26  EMPLOYEE_REFERRAL_PROG_TO_DATE  17610 non-null  datetime64[ns]\n",
      " 27  CAMPUS_PLACEMENT_FROM_DATE      6589 non-null   datetime64[ns]\n",
      " 28  CAMPUS_PLACEMENT_TO_DATE        6589 non-null   datetime64[ns]\n",
      " 29  LOCAL_ETHNIC_PAPER_FROM_DATE    42905 non-null  object        \n",
      " 30  LOCAL_ETHNIC_PAPER_TO_DATE      42904 non-null  datetime64[ns]\n",
      " 31  RADIO_TV_AD_FROM_DATE           9309 non-null   datetime64[ns]\n",
      " 32  RADIO_TV_AD_TO_DATE             9309 non-null   datetime64[ns]\n",
      " 33  EMP_RECEIVED_PAYMENT            69116 non-null  object        \n",
      " 34  PAYMENT_DETAILS                 1 non-null      object        \n",
      " 35  BARGAINING_REP_NOTIFIED         1687 non-null   object        \n",
      " 36  POSTED_NOTICE_AT_WORKSITE       68382 non-null  object        \n",
      " 37  LAYOFF_IN_PAST_SIX_MONTHS       69115 non-null  object        \n",
      " 38  US_WORKERS_CONSIDERED           3261 non-null   object        \n",
      " 39  COUNTRY_OF_CITIZENSHIP          69111 non-null  object        \n",
      " 40  FOREIGN_WORKER_BIRTH_COUNTRY    69112 non-null  object        \n",
      " 41  CLASS_OF_ADMISSION              63650 non-null  object        \n",
      " 42  FOREIGN_WORKER_TRAINING_COMP    1035 non-null   object        \n",
      " 43  FOREIGN_WORKER_REQ_EXPERIENCE   39629 non-null  object        \n",
      " 44  FOREIGN_WORKER_ALT_ED_EXP       19490 non-null  object        \n",
      " 45  FOREIGN_WORKER_ALT_OCC_EXP      47179 non-null  object        \n",
      " 46  FOREIGN_WORKER_EXP_WITH_EMPL    57692 non-null  object        \n",
      " 47  FOREIGN_WORKER_EMPL_PAY_FOR_ED  69113 non-null  object        \n",
      " 48  FOREIGN_WORKER_CURR_EMPLOYED    69111 non-null  object        \n",
      " 49  EMPLOYER_COMPLETED_APPLICATION  69110 non-null  object        \n",
      " 50  PREPARER_NAME                   69117 non-null  object        \n",
      " 51  PREPARER_TITLE                  64348 non-null  object        \n",
      " 52  PREPARER_EMAIL                  64329 non-null  object        \n",
      " 53  EMP_INFO_DECL_NAME              69117 non-null  object        \n",
      " 54  EMP_INFO_DECL_TITLE             69111 non-null  object        \n",
      "dtypes: datetime64[ns](19), int64(1), object(35)\n",
      "memory usage: 29.5+ MB\n"
     ]
    }
   ],
   "source": [
    "#Check columns and data types in df\n",
    "df.info(verbose=1,null_counts=1)"
   ]
  },
  {
   "cell_type": "code",
   "execution_count": 28,
   "metadata": {},
   "outputs": [],
   "source": [
    "# Dropping the following columns due to lack of data\n",
    "df = df.drop([\"PAYMENT_DETAILS\",\"JOB_FAIR_FROM_DATE\",\"JOB_FAIR_TO_DATE\",\n",
    "              \"ON_CAMPUS_RECRUITING_FROM_DATE\",\"ON_CAMPUS_RECRUITING_TO_DATE\"], axis=1)\n",
    "\n",
    "# Dropping the following columns related to State Workforce Agency job order, \n",
    "#     since it only tracks the corresponding state-level application\n",
    "df = df.drop([\"SWA_JOB_ORDER_START_DATE\",\"SWA_JOB_ORDER_END_DATE\"], axis=1)\n",
    "\n",
    "# Dropping the following columns because they contain PII\n",
    "df = df.drop([\"PREPARER_NAME\",\"PREPARER_TITLE\",\"PREPARER_EMAIL\",\n",
    "             \"EMP_INFO_DECL_NAME\",\"EMP_INFO_DECL_TITLE\"], axis=1)"
   ]
  },
  {
   "cell_type": "code",
   "execution_count": 29,
   "metadata": {},
   "outputs": [
    {
     "data": {
      "text/html": [
       "<div>\n",
       "<style scoped>\n",
       "    .dataframe tbody tr th:only-of-type {\n",
       "        vertical-align: middle;\n",
       "    }\n",
       "\n",
       "    .dataframe tbody tr th {\n",
       "        vertical-align: top;\n",
       "    }\n",
       "\n",
       "    .dataframe thead th {\n",
       "        text-align: right;\n",
       "    }\n",
       "</style>\n",
       "<table border=\"1\" class=\"dataframe\">\n",
       "  <thead>\n",
       "    <tr style=\"text-align: right;\">\n",
       "      <th>SUNDAY_EDITION_NEWSPAPER</th>\n",
       "      <th>N</th>\n",
       "      <th>Y</th>\n",
       "    </tr>\n",
       "    <tr>\n",
       "      <th>CASE_STATUS_BINARY</th>\n",
       "      <th></th>\n",
       "      <th></th>\n",
       "    </tr>\n",
       "  </thead>\n",
       "  <tbody>\n",
       "    <tr>\n",
       "      <th>0</th>\n",
       "      <td>0.003213</td>\n",
       "      <td>0.996787</td>\n",
       "    </tr>\n",
       "    <tr>\n",
       "      <th>1</th>\n",
       "      <td>0.030432</td>\n",
       "      <td>0.969568</td>\n",
       "    </tr>\n",
       "  </tbody>\n",
       "</table>\n",
       "</div>"
      ],
      "text/plain": [
       "SUNDAY_EDITION_NEWSPAPER         N         Y\n",
       "CASE_STATUS_BINARY                          \n",
       "0                         0.003213  0.996787\n",
       "1                         0.030432  0.969568"
      ]
     },
     "execution_count": 29,
     "metadata": {},
     "output_type": "execute_result"
    }
   ],
   "source": [
    "# Looking at SUNDAY_ADDITION_NEWSPAPER, notice that denied cases are 100x more likely to\n",
    "#     not have a Sunday edition newspaper, suggesting potential skew against rural areas\n",
    "pd.crosstab(df[\"CASE_STATUS_BINARY\"],df[\"SUNDAY_EDITION_NEWSPAPER\"], normalize='index')"
   ]
  },
  {
   "cell_type": "code",
   "execution_count": 30,
   "metadata": {},
   "outputs": [],
   "source": [
    "# Looking at the duration employer posted job on website\n",
    "df[\"EMPLOYER_WEBSITE_DURATION\"] = df.EMPLOYER_WEBSITE_TO_DATE - df.EMPLOYER_WEBSITE_FROM_DATE"
   ]
  },
  {
   "cell_type": "code",
   "execution_count": 31,
   "metadata": {},
   "outputs": [
    {
     "data": {
      "text/plain": [
       "<matplotlib.axes._subplots.AxesSubplot at 0x251558f3828>"
      ]
     },
     "execution_count": 31,
     "metadata": {},
     "output_type": "execute_result"
    },
    {
     "data": {
      "image/png": "[encoded data removed]",
      "text/plain": [
       "<Figure size 432x288 with 1 Axes>"
      ]
     },
     "metadata": {
      "needs_background": "light"
     },
     "output_type": "display_data"
    }
   ],
   "source": [
    "# Histogram with NaT values coerced to 0\n",
    "df[\"EMPLOYER_WEBSITE_DURATION\"].fillna(pd.Timedelta(seconds=0)).apply(pd.Timedelta.total_seconds).hist()"
   ]
  },
  {
   "cell_type": "code",
   "execution_count": 32,
   "metadata": {},
   "outputs": [
    {
     "data": {
      "text/plain": [
       "<matplotlib.axes._subplots.AxesSubplot at 0x25167488d30>"
      ]
     },
     "execution_count": 32,
     "metadata": {},
     "output_type": "execute_result"
    },
    {
     "data": {
      "image/png": "[encoded data removed]",
      "text/plain": [
       "<Figure size 432x288 with 1 Axes>"
      ]
     },
     "metadata": {
      "needs_background": "light"
     },
     "output_type": "display_data"
    }
   ],
   "source": [
    "# Histogram with NaT values dropped and influencing variables removed\n",
    "df[\"EMPLOYER_WEBSITE_DURATION\"].dropna().apply(pd.Timedelta.total_seconds).hist(range=[1,15000000])"
   ]
  },
  {
   "cell_type": "code",
   "execution_count": 33,
   "metadata": {},
   "outputs": [
    {
     "data": {
      "text/plain": [
       "count    2.823700e+04\n",
       "mean     2.568914e+06\n",
       "std      4.658935e+06\n",
       "min      0.000000e+00\n",
       "25%      1.209600e+06\n",
       "50%      1.900800e+06\n",
       "75%      2.851200e+06\n",
       "max      3.189024e+08\n",
       "Name: EMPLOYER_WEBSITE_DURATION, dtype: float64"
      ]
     },
     "execution_count": 33,
     "metadata": {},
     "output_type": "execute_result"
    }
   ],
   "source": [
    "# Histogram with 0 values dropped\n",
    "df[\"EMPLOYER_WEBSITE_DURATION\"].dropna().apply(pd.Timedelta.total_seconds).describe()"
   ]
  },
  {
   "cell_type": "code",
   "execution_count": 34,
   "metadata": {},
   "outputs": [],
   "source": [
    "# Dropping the following columns related to job posting timings, due to lack\n",
    "#     of time. With more time would explore duration and reach of job postings\n",
    "df = df.drop([\"FIRST_NEWSPAPER_NAME\",\"FIRST_ADVERTISEMENT_START_DATE\",\n",
    "                 \"SECOND_NEWSPAPER_AD_NAME\",\"SECOND_ADVERTISEMENT_TYPE\",\"SECOND_AD_START_DATE\",\n",
    "                 \"EMPLOYER_WEBSITE_FROM_DATE\",\"EMPLOYER_WEBSITE_TO_DATE\",\n",
    "                 \"PRO_ORG_AD_FROM_DATE\",\"PRO_ORG_ADVERTISEMENT_TO_DATE\",\n",
    "                 \"JOB_SEARCH_WEBSITE_FROM_DATE\",\"JOB_SEARCH_WEBSITE_TO_DATE\",\n",
    "                 \"PVT_EMPLOYMENT_FIRM_FROM_DATE\",\"PVT_EMPLOYMENT_FIRM_TO_DATE\",\n",
    "                 \"EMPLOYEE_REF_PROG_FROM_DATE\",\"EMPLOYEE_REFERRAL_PROG_TO_DATE\",\n",
    "                 \"CAMPUS_PLACEMENT_FROM_DATE\",\"CAMPUS_PLACEMENT_TO_DATE\",\n",
    "                 \"LOCAL_ETHNIC_PAPER_FROM_DATE\",\"LOCAL_ETHNIC_PAPER_TO_DATE\",\n",
    "                 \"RADIO_TV_AD_FROM_DATE\",\"RADIO_TV_AD_TO_DATE\"], axis=1)"
   ]
  },
  {
   "cell_type": "code",
   "execution_count": 35,
   "metadata": {},
   "outputs": [
    {
     "data": {
      "text/html": [
       "<div>\n",
       "<style scoped>\n",
       "    .dataframe tbody tr th:only-of-type {\n",
       "        vertical-align: middle;\n",
       "    }\n",
       "\n",
       "    .dataframe tbody tr th {\n",
       "        vertical-align: top;\n",
       "    }\n",
       "\n",
       "    .dataframe thead th {\n",
       "        text-align: right;\n",
       "    }\n",
       "</style>\n",
       "<table border=\"1\" class=\"dataframe\">\n",
       "  <thead>\n",
       "    <tr style=\"text-align: right;\">\n",
       "      <th>EMP_RECEIVED_PAYMENT</th>\n",
       "      <th>N</th>\n",
       "    </tr>\n",
       "    <tr>\n",
       "      <th>CASE_STATUS_BINARY</th>\n",
       "      <th></th>\n",
       "    </tr>\n",
       "  </thead>\n",
       "  <tbody>\n",
       "    <tr>\n",
       "      <th>0</th>\n",
       "      <td>66235</td>\n",
       "    </tr>\n",
       "    <tr>\n",
       "      <th>1</th>\n",
       "      <td>2881</td>\n",
       "    </tr>\n",
       "  </tbody>\n",
       "</table>\n",
       "</div>"
      ],
      "text/plain": [
       "EMP_RECEIVED_PAYMENT      N\n",
       "CASE_STATUS_BINARY         \n",
       "0                     66235\n",
       "1                      2881"
      ]
     },
     "execution_count": 35,
     "metadata": {},
     "output_type": "execute_result"
    }
   ],
   "source": [
    "pd.crosstab(df[\"CASE_STATUS_BINARY\"],df[\"EMP_RECEIVED_PAYMENT\"])"
   ]
  },
  {
   "cell_type": "code",
   "execution_count": 36,
   "metadata": {},
   "outputs": [],
   "source": [
    "# Dropping the following columns since no employers received payment\n",
    "df = df.drop([\"EMP_RECEIVED_PAYMENT\"], axis=1)"
   ]
  },
  {
   "cell_type": "code",
   "execution_count": 37,
   "metadata": {},
   "outputs": [
    {
     "data": {
      "text/html": [
       "<div>\n",
       "<style scoped>\n",
       "    .dataframe tbody tr th:only-of-type {\n",
       "        vertical-align: middle;\n",
       "    }\n",
       "\n",
       "    .dataframe tbody tr th {\n",
       "        vertical-align: top;\n",
       "    }\n",
       "\n",
       "    .dataframe thead th {\n",
       "        text-align: right;\n",
       "    }\n",
       "</style>\n",
       "<table border=\"1\" class=\"dataframe\">\n",
       "  <thead>\n",
       "    <tr style=\"text-align: right;\">\n",
       "      <th>BARGAINING_REP_NOTIFIED</th>\n",
       "      <th>N</th>\n",
       "      <th>Y</th>\n",
       "    </tr>\n",
       "    <tr>\n",
       "      <th>CASE_STATUS_BINARY</th>\n",
       "      <th></th>\n",
       "      <th></th>\n",
       "    </tr>\n",
       "  </thead>\n",
       "  <tbody>\n",
       "    <tr>\n",
       "      <th>0</th>\n",
       "      <td>0.579902</td>\n",
       "      <td>0.420098</td>\n",
       "    </tr>\n",
       "    <tr>\n",
       "      <th>1</th>\n",
       "      <td>0.464567</td>\n",
       "      <td>0.535433</td>\n",
       "    </tr>\n",
       "  </tbody>\n",
       "</table>\n",
       "</div>"
      ],
      "text/plain": [
       "BARGAINING_REP_NOTIFIED         N         Y\n",
       "CASE_STATUS_BINARY                         \n",
       "0                        0.579902  0.420098\n",
       "1                        0.464567  0.535433"
      ]
     },
     "execution_count": 37,
     "metadata": {},
     "output_type": "execute_result"
    }
   ],
   "source": [
    "# In cases where the bargaining rep for the occupation was notified\n",
    "#     within 30-180 days, 11% more likely for denied than not\n",
    "pd.crosstab(df[\"CASE_STATUS_BINARY\"],df[\"BARGAINING_REP_NOTIFIED\"], normalize='index')"
   ]
  },
  {
   "cell_type": "code",
   "execution_count": 38,
   "metadata": {},
   "outputs": [
    {
     "data": {
      "text/html": [
       "<div>\n",
       "<style scoped>\n",
       "    .dataframe tbody tr th:only-of-type {\n",
       "        vertical-align: middle;\n",
       "    }\n",
       "\n",
       "    .dataframe tbody tr th {\n",
       "        vertical-align: top;\n",
       "    }\n",
       "\n",
       "    .dataframe thead th {\n",
       "        text-align: right;\n",
       "    }\n",
       "</style>\n",
       "<table border=\"1\" class=\"dataframe\">\n",
       "  <thead>\n",
       "    <tr style=\"text-align: right;\">\n",
       "      <th>POSTED_NOTICE_AT_WORKSITE</th>\n",
       "      <th>N</th>\n",
       "      <th>Y</th>\n",
       "    </tr>\n",
       "    <tr>\n",
       "      <th>CASE_STATUS_BINARY</th>\n",
       "      <th></th>\n",
       "      <th></th>\n",
       "    </tr>\n",
       "  </thead>\n",
       "  <tbody>\n",
       "    <tr>\n",
       "      <th>0</th>\n",
       "      <td>0.000152</td>\n",
       "      <td>0.999848</td>\n",
       "    </tr>\n",
       "    <tr>\n",
       "      <th>1</th>\n",
       "      <td>0.004044</td>\n",
       "      <td>0.995956</td>\n",
       "    </tr>\n",
       "  </tbody>\n",
       "</table>\n",
       "</div>"
      ],
      "text/plain": [
       "POSTED_NOTICE_AT_WORKSITE         N         Y\n",
       "CASE_STATUS_BINARY                           \n",
       "0                          0.000152  0.999848\n",
       "1                          0.004044  0.995956"
      ]
     },
     "execution_count": 38,
     "metadata": {},
     "output_type": "execute_result"
    }
   ],
   "source": [
    "# In cases where notice was not posted conspicuously at worksite, 40x more likely denied than not\n",
    "pd.crosstab(df[\"CASE_STATUS_BINARY\"],df[\"POSTED_NOTICE_AT_WORKSITE\"], normalize='index')"
   ]
  },
  {
   "cell_type": "code",
   "execution_count": 39,
   "metadata": {},
   "outputs": [
    {
     "data": {
      "text/html": [
       "<div>\n",
       "<style scoped>\n",
       "    .dataframe tbody tr th:only-of-type {\n",
       "        vertical-align: middle;\n",
       "    }\n",
       "\n",
       "    .dataframe tbody tr th {\n",
       "        vertical-align: top;\n",
       "    }\n",
       "\n",
       "    .dataframe thead th {\n",
       "        text-align: right;\n",
       "    }\n",
       "</style>\n",
       "<table border=\"1\" class=\"dataframe\">\n",
       "  <thead>\n",
       "    <tr style=\"text-align: right;\">\n",
       "      <th>LAYOFF_IN_PAST_SIX_MONTHS</th>\n",
       "      <th>N</th>\n",
       "      <th>Y</th>\n",
       "    </tr>\n",
       "    <tr>\n",
       "      <th>CASE_STATUS_BINARY</th>\n",
       "      <th></th>\n",
       "      <th></th>\n",
       "    </tr>\n",
       "  </thead>\n",
       "  <tbody>\n",
       "    <tr>\n",
       "      <th>0</th>\n",
       "      <td>0.949060</td>\n",
       "      <td>0.050940</td>\n",
       "    </tr>\n",
       "    <tr>\n",
       "      <th>1</th>\n",
       "      <td>0.983681</td>\n",
       "      <td>0.016319</td>\n",
       "    </tr>\n",
       "  </tbody>\n",
       "</table>\n",
       "</div>"
      ],
      "text/plain": [
       "LAYOFF_IN_PAST_SIX_MONTHS         N         Y\n",
       "CASE_STATUS_BINARY                           \n",
       "0                          0.949060  0.050940\n",
       "1                          0.983681  0.016319"
      ]
     },
     "execution_count": 39,
     "metadata": {},
     "output_type": "execute_result"
    }
   ],
   "source": [
    "# In cases where employer had layoff in last six months, 3x more likely denied than not\n",
    "pd.crosstab(df[\"CASE_STATUS_BINARY\"],df[\"LAYOFF_IN_PAST_SIX_MONTHS\"], normalize='index')"
   ]
  },
  {
   "cell_type": "code",
   "execution_count": 40,
   "metadata": {},
   "outputs": [
    {
     "data": {
      "text/html": [
       "<div>\n",
       "<style scoped>\n",
       "    .dataframe tbody tr th:only-of-type {\n",
       "        vertical-align: middle;\n",
       "    }\n",
       "\n",
       "    .dataframe tbody tr th {\n",
       "        vertical-align: top;\n",
       "    }\n",
       "\n",
       "    .dataframe thead th {\n",
       "        text-align: right;\n",
       "    }\n",
       "</style>\n",
       "<table border=\"1\" class=\"dataframe\">\n",
       "  <thead>\n",
       "    <tr style=\"text-align: right;\">\n",
       "      <th>US_WORKERS_CONSIDERED</th>\n",
       "      <th>N</th>\n",
       "      <th>Y</th>\n",
       "    </tr>\n",
       "    <tr>\n",
       "      <th>CASE_STATUS_BINARY</th>\n",
       "      <th></th>\n",
       "      <th></th>\n",
       "    </tr>\n",
       "  </thead>\n",
       "  <tbody>\n",
       "    <tr>\n",
       "      <th>0</th>\n",
       "      <td>0.000622</td>\n",
       "      <td>0.999378</td>\n",
       "    </tr>\n",
       "    <tr>\n",
       "      <th>1</th>\n",
       "      <td>0.068182</td>\n",
       "      <td>0.931818</td>\n",
       "    </tr>\n",
       "  </tbody>\n",
       "</table>\n",
       "</div>"
      ],
      "text/plain": [
       "US_WORKERS_CONSIDERED         N         Y\n",
       "CASE_STATUS_BINARY                       \n",
       "0                      0.000622  0.999378\n",
       "1                      0.068182  0.931818"
      ]
     },
     "execution_count": 40,
     "metadata": {},
     "output_type": "execute_result"
    }
   ],
   "source": [
    "# In cases where US workers not considered, over 100x more likely denied than not\n",
    "pd.crosstab(df[\"CASE_STATUS_BINARY\"],df[\"US_WORKERS_CONSIDERED\"], normalize='index')"
   ]
  },
  {
   "cell_type": "code",
   "execution_count": 41,
   "metadata": {
    "scrolled": false
   },
   "outputs": [
    {
     "data": {
      "text/plain": [
       "<matplotlib.axes._subplots.AxesSubplot at 0x2516880bef0>"
      ]
     },
     "execution_count": 41,
     "metadata": {},
     "output_type": "execute_result"
    },
    {
     "data": {
      "image/png": "[encoded data removed]",
      "text/plain": [
       "<Figure size 1080x864 with 1 Axes>"
      ]
     },
     "metadata": {
      "needs_background": "light"
     },
     "output_type": "display_data"
    }
   ],
   "source": [
    "# Plotting DENIAL rates, note the high rate of denial in African\n",
    "#     and South/Central/Caribbean American Countries, especially\n",
    "#     the guaranteed denial from Cuba\n",
    "plt.figure(figsize=(15,12))\n",
    "pd.crosstab(df[\"COUNTRY_OF_CITIZENSHIP\"],df[\"CASE_STATUS_BINARY\"],\n",
    "            normalize='index')[1].sort_values().tail(15).plot.barh()"
   ]
  },
  {
   "cell_type": "code",
   "execution_count": 42,
   "metadata": {
    "scrolled": false
   },
   "outputs": [
    {
     "data": {
      "text/plain": [
       "<matplotlib.axes._subplots.AxesSubplot at 0x251674692b0>"
      ]
     },
     "execution_count": 42,
     "metadata": {},
     "output_type": "execute_result"
    },
    {
     "data": {
      "image/png": "[encoded data removed]",
      "text/plain": [
       "<Figure size 1080x432 with 1 Axes>"
      ]
     },
     "metadata": {
      "needs_background": "light"
     },
     "output_type": "display_data"
    }
   ],
   "source": [
    "# Plotting APPROVAL rates top 5, note the extreme concentration towards \n",
    "#     India and China, who have huge populations and supply of the\n",
    "#     the most in demand white collar technical skills\n",
    "plt.figure(figsize=(15,6))\n",
    "pd.crosstab(df[\"COUNTRY_OF_CITIZENSHIP\"],df[\"CASE_STATUS_BINARY\"])[0].sort_values().tail().plot.barh()"
   ]
  },
  {
   "cell_type": "code",
   "execution_count": 43,
   "metadata": {},
   "outputs": [
    {
     "name": "stdout",
     "output_type": "stream",
     "text": [
      "<class 'pandas.core.frame.DataFrame'>\n",
      "Int64Index: 69117 entries, 0 to 71650\n",
      "Data columns (total 22 columns):\n",
      " #   Column                          Non-Null Count  Dtype          \n",
      "---  ------                          --------------  -----          \n",
      " 0   CASE_NUMBER                     69117 non-null  object         \n",
      " 1   CASE_STATUS                     69117 non-null  object         \n",
      " 2   CASE_STATUS_BINARY              69117 non-null  int64          \n",
      " 3   RECEIVED_DATE                   69117 non-null  datetime64[ns] \n",
      " 4   DECISION_DATE                   69117 non-null  datetime64[ns] \n",
      " 5   SUNDAY_EDITION_NEWSPAPER        67561 non-null  object         \n",
      " 6   BARGAINING_REP_NOTIFIED         1687 non-null   object         \n",
      " 7   POSTED_NOTICE_AT_WORKSITE       68382 non-null  object         \n",
      " 8   LAYOFF_IN_PAST_SIX_MONTHS       69115 non-null  object         \n",
      " 9   US_WORKERS_CONSIDERED           3261 non-null   object         \n",
      " 10  COUNTRY_OF_CITIZENSHIP          69111 non-null  object         \n",
      " 11  FOREIGN_WORKER_BIRTH_COUNTRY    69112 non-null  object         \n",
      " 12  CLASS_OF_ADMISSION              63650 non-null  object         \n",
      " 13  FOREIGN_WORKER_TRAINING_COMP    1035 non-null   object         \n",
      " 14  FOREIGN_WORKER_REQ_EXPERIENCE   39629 non-null  object         \n",
      " 15  FOREIGN_WORKER_ALT_ED_EXP       19490 non-null  object         \n",
      " 16  FOREIGN_WORKER_ALT_OCC_EXP      47179 non-null  object         \n",
      " 17  FOREIGN_WORKER_EXP_WITH_EMPL    57692 non-null  object         \n",
      " 18  FOREIGN_WORKER_EMPL_PAY_FOR_ED  69113 non-null  object         \n",
      " 19  FOREIGN_WORKER_CURR_EMPLOYED    69111 non-null  object         \n",
      " 20  EMPLOYER_COMPLETED_APPLICATION  69110 non-null  object         \n",
      " 21  EMPLOYER_WEBSITE_DURATION       28237 non-null  timedelta64[ns]\n",
      "dtypes: datetime64[ns](2), int64(1), object(18), timedelta64[ns](1)\n",
      "memory usage: 12.1+ MB\n"
     ]
    }
   ],
   "source": [
    "df.info(verbose=1,null_counts=1)"
   ]
  },
  {
   "cell_type": "code",
   "execution_count": 46,
   "metadata": {},
   "outputs": [
    {
     "data": {
      "text/plain": [
       "<matplotlib.axes._subplots.AxesSubplot at 0x251674df828>"
      ]
     },
     "execution_count": 46,
     "metadata": {},
     "output_type": "execute_result"
    },
    {
     "data": {
      "image/png": "[encoded data removed]",
      "text/plain": [
       "<Figure size 1080x864 with 1 Axes>"
      ]
     },
     "metadata": {
      "needs_background": "light"
     },
     "output_type": "display_data"
    }
   ],
   "source": [
    "# Plotting DENIAL rates, note the high rate of denial in African\n",
    "#     and South/Central/Caribbean American Countries, especially\n",
    "#     the guaranteed denial from Cuba\n",
    "plt.figure(figsize=(15,12))\n",
    "pd.crosstab(df[\"FOREIGN_WORKER_BIRTH_COUNTRY\"],df[\"CASE_STATUS_BINARY\"],\n",
    "            normalize='index')[1].sort_values().tail(30).plot.barh()"
   ]
  },
  {
   "cell_type": "code",
   "execution_count": 47,
   "metadata": {},
   "outputs": [
    {
     "data": {
      "text/plain": [
       "<matplotlib.axes._subplots.AxesSubplot at 0x2516752dd68>"
      ]
     },
     "execution_count": 47,
     "metadata": {},
     "output_type": "execute_result"
    },
    {
     "data": {
      "image/png": "[encoded data removed]",
      "text/plain": [
       "<Figure size 1080x432 with 1 Axes>"
      ]
     },
     "metadata": {
      "needs_background": "light"
     },
     "output_type": "display_data"
    }
   ],
   "source": [
    "# Plotting APPROVAL rates top 5, note the extreme concentration towards \n",
    "#     India and China, who have huge populations and supply of the\n",
    "#     the most in demand white collar technical skills\n",
    "plt.figure(figsize=(15,6))\n",
    "pd.crosstab(df[\"FOREIGN_WORKER_BIRTH_COUNTRY\"],df[\"CASE_STATUS_BINARY\"])[0].sort_values().tail().plot.barh()"
   ]
  },
  {
   "cell_type": "code",
   "execution_count": 57,
   "metadata": {},
   "outputs": [
    {
     "data": {
      "text/plain": [
       "<matplotlib.axes._subplots.AxesSubplot at 0x251655d6978>"
      ]
     },
     "execution_count": 57,
     "metadata": {},
     "output_type": "execute_result"
    },
    {
     "data": {
      "image/png": "[encoded data removed]",
      "text/plain": [
       "<Figure size 1080x432 with 1 Axes>"
      ]
     },
     "metadata": {
      "needs_background": "light"
     },
     "output_type": "display_data"
    }
   ],
   "source": [
    "#Note the bottom approval rates are concentrated in religion, arts and non-workers, also EWI\n",
    "plt.figure(figsize=(15,6))\n",
    "pd.crosstab(df[\"CLASS_OF_ADMISSION\"],df[\"CASE_STATUS_BINARY\"], normalize='index')[0].sort_values().head(10).plot.bar()"
   ]
  },
  {
   "cell_type": "code",
   "execution_count": 60,
   "metadata": {},
   "outputs": [
    {
     "data": {
      "text/html": [
       "<div>\n",
       "<style scoped>\n",
       "    .dataframe tbody tr th:only-of-type {\n",
       "        vertical-align: middle;\n",
       "    }\n",
       "\n",
       "    .dataframe tbody tr th {\n",
       "        vertical-align: top;\n",
       "    }\n",
       "\n",
       "    .dataframe thead th {\n",
       "        text-align: right;\n",
       "    }\n",
       "</style>\n",
       "<table border=\"1\" class=\"dataframe\">\n",
       "  <thead>\n",
       "    <tr style=\"text-align: right;\">\n",
       "      <th>FOREIGN_WORKER_TRAINING_COMP</th>\n",
       "      <th>N</th>\n",
       "      <th>Y</th>\n",
       "    </tr>\n",
       "    <tr>\n",
       "      <th>CASE_STATUS_BINARY</th>\n",
       "      <th></th>\n",
       "      <th></th>\n",
       "    </tr>\n",
       "  </thead>\n",
       "  <tbody>\n",
       "    <tr>\n",
       "      <th>0</th>\n",
       "      <td>0.070111</td>\n",
       "      <td>0.929889</td>\n",
       "    </tr>\n",
       "    <tr>\n",
       "      <th>1</th>\n",
       "      <td>0.085586</td>\n",
       "      <td>0.914414</td>\n",
       "    </tr>\n",
       "  </tbody>\n",
       "</table>\n",
       "</div>"
      ],
      "text/plain": [
       "FOREIGN_WORKER_TRAINING_COMP         N         Y\n",
       "CASE_STATUS_BINARY                              \n",
       "0                             0.070111  0.929889\n",
       "1                             0.085586  0.914414"
      ]
     },
     "execution_count": 60,
     "metadata": {},
     "output_type": "execute_result"
    }
   ],
   "source": [
    "# For cases denied, 20% more likely not to have completed requested job training than accepted\n",
    "pd.crosstab(df[\"CASE_STATUS_BINARY\"],df[\"FOREIGN_WORKER_TRAINING_COMP\"], normalize='index',dropna=False)"
   ]
  },
  {
   "cell_type": "code",
   "execution_count": 62,
   "metadata": {},
   "outputs": [
    {
     "data": {
      "text/html": [
       "<div>\n",
       "<style scoped>\n",
       "    .dataframe tbody tr th:only-of-type {\n",
       "        vertical-align: middle;\n",
       "    }\n",
       "\n",
       "    .dataframe tbody tr th {\n",
       "        vertical-align: top;\n",
       "    }\n",
       "\n",
       "    .dataframe thead th {\n",
       "        text-align: right;\n",
       "    }\n",
       "</style>\n",
       "<table border=\"1\" class=\"dataframe\">\n",
       "  <thead>\n",
       "    <tr style=\"text-align: right;\">\n",
       "      <th>FOREIGN_WORKER_REQ_EXPERIENCE</th>\n",
       "      <th>N</th>\n",
       "      <th>Y</th>\n",
       "    </tr>\n",
       "    <tr>\n",
       "      <th>CASE_STATUS_BINARY</th>\n",
       "      <th></th>\n",
       "      <th></th>\n",
       "    </tr>\n",
       "  </thead>\n",
       "  <tbody>\n",
       "    <tr>\n",
       "      <th>0</th>\n",
       "      <td>0.586162</td>\n",
       "      <td>0.413838</td>\n",
       "    </tr>\n",
       "    <tr>\n",
       "      <th>1</th>\n",
       "      <td>0.172327</td>\n",
       "      <td>0.827673</td>\n",
       "    </tr>\n",
       "  </tbody>\n",
       "</table>\n",
       "</div>"
      ],
      "text/plain": [
       "FOREIGN_WORKER_REQ_EXPERIENCE         N         Y\n",
       "CASE_STATUS_BINARY                               \n",
       "0                              0.586162  0.413838\n",
       "1                              0.172327  0.827673"
      ]
     },
     "execution_count": 62,
     "metadata": {},
     "output_type": "execute_result"
    }
   ],
   "source": [
    "# For cases denied, twice as likely to have required job experience than accepted\n",
    "pd.crosstab(df[\"CASE_STATUS_BINARY\"],df[\"FOREIGN_WORKER_REQ_EXPERIENCE\"], normalize='index',dropna=False)"
   ]
  },
  {
   "cell_type": "code",
   "execution_count": 63,
   "metadata": {},
   "outputs": [
    {
     "data": {
      "text/html": [
       "<div>\n",
       "<style scoped>\n",
       "    .dataframe tbody tr th:only-of-type {\n",
       "        vertical-align: middle;\n",
       "    }\n",
       "\n",
       "    .dataframe tbody tr th {\n",
       "        vertical-align: top;\n",
       "    }\n",
       "\n",
       "    .dataframe thead th {\n",
       "        text-align: right;\n",
       "    }\n",
       "</style>\n",
       "<table border=\"1\" class=\"dataframe\">\n",
       "  <thead>\n",
       "    <tr style=\"text-align: right;\">\n",
       "      <th>FOREIGN_WORKER_ALT_ED_EXP</th>\n",
       "      <th>N</th>\n",
       "      <th>Y</th>\n",
       "    </tr>\n",
       "    <tr>\n",
       "      <th>CASE_STATUS_BINARY</th>\n",
       "      <th></th>\n",
       "      <th></th>\n",
       "    </tr>\n",
       "  </thead>\n",
       "  <tbody>\n",
       "    <tr>\n",
       "      <th>0</th>\n",
       "      <td>0.461490</td>\n",
       "      <td>0.538510</td>\n",
       "    </tr>\n",
       "    <tr>\n",
       "      <th>1</th>\n",
       "      <td>0.241477</td>\n",
       "      <td>0.758523</td>\n",
       "    </tr>\n",
       "  </tbody>\n",
       "</table>\n",
       "</div>"
      ],
      "text/plain": [
       "FOREIGN_WORKER_ALT_ED_EXP         N         Y\n",
       "CASE_STATUS_BINARY                           \n",
       "0                          0.461490  0.538510\n",
       "1                          0.241477  0.758523"
      ]
     },
     "execution_count": 63,
     "metadata": {},
     "output_type": "execute_result"
    }
   ],
   "source": [
    "# For cases denied, 20pt more have combination of education and experience than accepted\n",
    "pd.crosstab(df[\"CASE_STATUS_BINARY\"],df[\"FOREIGN_WORKER_ALT_ED_EXP\"], normalize='index',dropna=False)"
   ]
  },
  {
   "cell_type": "code",
   "execution_count": 64,
   "metadata": {},
   "outputs": [
    {
     "data": {
      "text/html": [
       "<div>\n",
       "<style scoped>\n",
       "    .dataframe tbody tr th:only-of-type {\n",
       "        vertical-align: middle;\n",
       "    }\n",
       "\n",
       "    .dataframe tbody tr th {\n",
       "        vertical-align: top;\n",
       "    }\n",
       "\n",
       "    .dataframe thead th {\n",
       "        text-align: right;\n",
       "    }\n",
       "</style>\n",
       "<table border=\"1\" class=\"dataframe\">\n",
       "  <thead>\n",
       "    <tr style=\"text-align: right;\">\n",
       "      <th>FOREIGN_WORKER_ALT_OCC_EXP</th>\n",
       "      <th>N</th>\n",
       "      <th>Y</th>\n",
       "    </tr>\n",
       "    <tr>\n",
       "      <th>CASE_STATUS_BINARY</th>\n",
       "      <th></th>\n",
       "      <th></th>\n",
       "    </tr>\n",
       "  </thead>\n",
       "  <tbody>\n",
       "    <tr>\n",
       "      <th>0</th>\n",
       "      <td>0.036208</td>\n",
       "      <td>0.963792</td>\n",
       "    </tr>\n",
       "    <tr>\n",
       "      <th>1</th>\n",
       "      <td>0.048966</td>\n",
       "      <td>0.951034</td>\n",
       "    </tr>\n",
       "  </tbody>\n",
       "</table>\n",
       "</div>"
      ],
      "text/plain": [
       "FOREIGN_WORKER_ALT_OCC_EXP         N         Y\n",
       "CASE_STATUS_BINARY                            \n",
       "0                           0.036208  0.963792\n",
       "1                           0.048966  0.951034"
      ]
     },
     "execution_count": 64,
     "metadata": {},
     "output_type": "execute_result"
    }
   ],
   "source": [
    "pd.crosstab(df[\"CASE_STATUS_BINARY\"],df[\"FOREIGN_WORKER_ALT_OCC_EXP\"], normalize='index',dropna=False)"
   ]
  },
  {
   "cell_type": "code",
   "execution_count": 65,
   "metadata": {},
   "outputs": [
    {
     "data": {
      "text/html": [
       "<div>\n",
       "<style scoped>\n",
       "    .dataframe tbody tr th:only-of-type {\n",
       "        vertical-align: middle;\n",
       "    }\n",
       "\n",
       "    .dataframe tbody tr th {\n",
       "        vertical-align: top;\n",
       "    }\n",
       "\n",
       "    .dataframe thead th {\n",
       "        text-align: right;\n",
       "    }\n",
       "</style>\n",
       "<table border=\"1\" class=\"dataframe\">\n",
       "  <thead>\n",
       "    <tr style=\"text-align: right;\">\n",
       "      <th>FOREIGN_WORKER_EXP_WITH_EMPL</th>\n",
       "      <th>N</th>\n",
       "      <th>Y</th>\n",
       "    </tr>\n",
       "    <tr>\n",
       "      <th>CASE_STATUS_BINARY</th>\n",
       "      <th></th>\n",
       "      <th></th>\n",
       "    </tr>\n",
       "  </thead>\n",
       "  <tbody>\n",
       "    <tr>\n",
       "      <th>0</th>\n",
       "      <td>0.996862</td>\n",
       "      <td>0.003138</td>\n",
       "    </tr>\n",
       "    <tr>\n",
       "      <th>1</th>\n",
       "      <td>0.909232</td>\n",
       "      <td>0.090768</td>\n",
       "    </tr>\n",
       "  </tbody>\n",
       "</table>\n",
       "</div>"
      ],
      "text/plain": [
       "FOREIGN_WORKER_EXP_WITH_EMPL         N         Y\n",
       "CASE_STATUS_BINARY                              \n",
       "0                             0.996862  0.003138\n",
       "1                             0.909232  0.090768"
      ]
     },
     "execution_count": 65,
     "metadata": {},
     "output_type": "execute_result"
    }
   ],
   "source": [
    "# In cases approved 30x less likely to get experience with employer than denied\n",
    "pd.crosstab(df[\"CASE_STATUS_BINARY\"],df[\"FOREIGN_WORKER_EXP_WITH_EMPL\"], normalize='index',dropna=False)"
   ]
  },
  {
   "cell_type": "code",
   "execution_count": 66,
   "metadata": {},
   "outputs": [
    {
     "data": {
      "text/html": [
       "<div>\n",
       "<style scoped>\n",
       "    .dataframe tbody tr th:only-of-type {\n",
       "        vertical-align: middle;\n",
       "    }\n",
       "\n",
       "    .dataframe tbody tr th {\n",
       "        vertical-align: top;\n",
       "    }\n",
       "\n",
       "    .dataframe thead th {\n",
       "        text-align: right;\n",
       "    }\n",
       "</style>\n",
       "<table border=\"1\" class=\"dataframe\">\n",
       "  <thead>\n",
       "    <tr style=\"text-align: right;\">\n",
       "      <th>FOREIGN_WORKER_CURR_EMPLOYED</th>\n",
       "      <th>N</th>\n",
       "      <th>Y</th>\n",
       "    </tr>\n",
       "    <tr>\n",
       "      <th>CASE_STATUS_BINARY</th>\n",
       "      <th></th>\n",
       "      <th></th>\n",
       "    </tr>\n",
       "  </thead>\n",
       "  <tbody>\n",
       "    <tr>\n",
       "      <th>0</th>\n",
       "      <td>0.137273</td>\n",
       "      <td>0.862727</td>\n",
       "    </tr>\n",
       "    <tr>\n",
       "      <th>1</th>\n",
       "      <td>0.461779</td>\n",
       "      <td>0.538221</td>\n",
       "    </tr>\n",
       "  </tbody>\n",
       "</table>\n",
       "</div>"
      ],
      "text/plain": [
       "FOREIGN_WORKER_CURR_EMPLOYED         N         Y\n",
       "CASE_STATUS_BINARY                              \n",
       "0                             0.137273  0.862727\n",
       "1                             0.461779  0.538221"
      ]
     },
     "execution_count": 66,
     "metadata": {},
     "output_type": "execute_result"
    }
   ],
   "source": [
    "# In cases approved, 30pt more likely to be working for employer petitioning\n",
    "pd.crosstab(df[\"CASE_STATUS_BINARY\"],df[\"FOREIGN_WORKER_CURR_EMPLOYED\"], normalize='index',dropna=False)"
   ]
  },
  {
   "cell_type": "code",
   "execution_count": 67,
   "metadata": {},
   "outputs": [
    {
     "data": {
      "text/html": [
       "<div>\n",
       "<style scoped>\n",
       "    .dataframe tbody tr th:only-of-type {\n",
       "        vertical-align: middle;\n",
       "    }\n",
       "\n",
       "    .dataframe tbody tr th {\n",
       "        vertical-align: top;\n",
       "    }\n",
       "\n",
       "    .dataframe thead th {\n",
       "        text-align: right;\n",
       "    }\n",
       "</style>\n",
       "<table border=\"1\" class=\"dataframe\">\n",
       "  <thead>\n",
       "    <tr style=\"text-align: right;\">\n",
       "      <th>EMPLOYER_COMPLETED_APPLICATION</th>\n",
       "      <th>N</th>\n",
       "      <th>Y</th>\n",
       "    </tr>\n",
       "    <tr>\n",
       "      <th>CASE_STATUS_BINARY</th>\n",
       "      <th></th>\n",
       "      <th></th>\n",
       "    </tr>\n",
       "  </thead>\n",
       "  <tbody>\n",
       "    <tr>\n",
       "      <th>0</th>\n",
       "      <td>0.936467</td>\n",
       "      <td>0.063533</td>\n",
       "    </tr>\n",
       "    <tr>\n",
       "      <th>1</th>\n",
       "      <td>0.798401</td>\n",
       "      <td>0.201599</td>\n",
       "    </tr>\n",
       "  </tbody>\n",
       "</table>\n",
       "</div>"
      ],
      "text/plain": [
       "EMPLOYER_COMPLETED_APPLICATION         N         Y\n",
       "CASE_STATUS_BINARY                                \n",
       "0                               0.936467  0.063533\n",
       "1                               0.798401  0.201599"
      ]
     },
     "execution_count": 67,
     "metadata": {},
     "output_type": "execute_result"
    }
   ],
   "source": [
    "# In cases denied, 3x more likely than approved to have the employer complete the application\n",
    "pd.crosstab(df[\"CASE_STATUS_BINARY\"],df[\"EMPLOYER_COMPLETED_APPLICATION\"], normalize='index',dropna=False)"
   ]
  }
 ],
 "metadata": {
  "kernelspec": {
   "display_name": "Python [conda env:DataScience] *",
   "language": "python",
   "name": "conda-env-DataScience-py"
  },
  "language_info": {
   "codemirror_mode": {
    "name": "ipython",
    "version": 3
   },
   "file_extension": ".py",
   "mimetype": "text/x-python",
   "name": "python",
   "nbconvert_exporter": "python",
   "pygments_lexer": "ipython3",
   "version": "3.7.1"
  },
  "toc": {
   "base_numbering": 1,
   "nav_menu": {},
   "number_sections": false,
   "sideBar": true,
   "skip_h1_title": true,
   "title_cell": "Table of Contents",
   "title_sidebar": "Contents",
   "toc_cell": true,
   "toc_position": {
    "height": "calc(100% - 180px)",
    "left": "10px",
    "top": "150px",
    "width": "274.875px"
   },
   "toc_section_display": true,
   "toc_window_display": true
  },
  "varInspector": {
   "cols": {
    "lenName": 16,
    "lenType": 16,
    "lenVar": 40
   },
   "kernels_config": {
    "python": {
     "delete_cmd_postfix": "",
     "delete_cmd_prefix": "del ",
     "library": "var_list.py",
     "varRefreshCmd": "print(var_dic_list())"
    },
    "r": {
     "delete_cmd_postfix": ") ",
     "delete_cmd_prefix": "rm(",
     "library": "var_list.r",
     "varRefreshCmd": "cat(var_dic_list()) "
    }
   },
   "types_to_exclude": [
    "module",
    "function",
    "builtin_function_or_method",
    "instance",
    "_Feature"
   ],
   "window_display": false
  }
 },
 "nbformat": 4,
 "nbformat_minor": 4
}
