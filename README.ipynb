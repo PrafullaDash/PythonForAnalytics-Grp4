{
 "cells": [
  {
   "cell_type": "markdown",
   "metadata": {},
   "source": [
    "# PythonForAnalytics-Grp4\n",
    "Python for Analytics Group 4 Project Code Repository"
   ]
  },
  {
   "cell_type": "markdown",
   "metadata": {},
   "source": [
    "## Final Project Location and Name"
   ]
  },
  {
   "cell_type": "markdown",
   "metadata": {},
   "source": []
  },
  {
   "cell_type": "markdown",
   "metadata": {
    "toc": true
   },
   "source": [
    "<h1>Table of Contents<span class=\"tocSkip\"></span></h1>\n",
    "<div class=\"toc\"><ul class=\"toc-item\"><li><span><a href=\"#PythonForAnalytics-Grp4\" data-toc-modified-id=\"PythonForAnalytics-Grp4-1\">PythonForAnalytics-Grp4</a></span><ul class=\"toc-item\"><li><span><a href=\"#Final-Project-Location-and-Name\" data-toc-modified-id=\"Final-Project-Location-and-Name-1.1\">Final Project Location and Name</a></span></li><li><span><a href=\"#Package-Setup\" data-toc-modified-id=\"Package-Setup-1.2\">Package Setup</a></span></li><li><span><a href=\"#Project-Members\" data-toc-modified-id=\"Project-Members-1.3\">Project Members</a></span></li></ul></li><li><span><a href=\"#Detailed-Requirements\" data-toc-modified-id=\"Detailed-Requirements-2\">Detailed Requirements</a></span><ul class=\"toc-item\"><li><span><a href=\"#Outline-(from-Canvas)\" data-toc-modified-id=\"Outline-(from-Canvas)-2.1\">Outline (from Canvas)</a></span></li><li><span><a href=\"#Requirements\" data-toc-modified-id=\"Requirements-2.2\">Requirements</a></span></li><li><span><a href=\"#Ethics\" data-toc-modified-id=\"Ethics-2.3\">Ethics</a></span></li><li><span><a href=\"#Deliverable\" data-toc-modified-id=\"Deliverable-2.4\">Deliverable</a></span></li><li><span><a href=\"#General-notes\" data-toc-modified-id=\"General-notes-2.5\">General notes</a></span></li><li><span><a href=\"#Here-are-some-interesting-notebooks-I-found-online\" data-toc-modified-id=\"Here-are-some-interesting-notebooks-I-found-online-2.6\">Here are some interesting notebooks I found online</a></span></li></ul></li><li><span><a href=\"#Process-Outline\" data-toc-modified-id=\"Process-Outline-3\">Process Outline</a></span></li><li><span><a href=\"#Assigned-Features\" data-toc-modified-id=\"Assigned-Features-4\">Assigned Features</a></span><ul class=\"toc-item\"><li><span><a href=\"#Setup\" data-toc-modified-id=\"Setup-4.1\">Setup</a></span></li><li><span><a href=\"#Shyan-DasMadan\" data-toc-modified-id=\"Shyan-DasMadan-4.2\">Shyan DasMadan</a></span></li><li><span><a href=\"#Sam-Gunther\" data-toc-modified-id=\"Sam-Gunther-4.3\">Sam Gunther</a></span></li><li><span><a href=\"#Prafulla-Ranjan-Dash\" data-toc-modified-id=\"Prafulla-Ranjan-Dash-4.4\">Prafulla Ranjan Dash</a></span></li><li><span><a href=\"#Brandon-Carp\" data-toc-modified-id=\"Brandon-Carp-4.5\">Brandon Carp</a></span></li></ul></li><li><span><a href=\"#Supporting-Technology\" data-toc-modified-id=\"Supporting-Technology-5\">Supporting Technology</a></span><ul class=\"toc-item\"><li><span><a href=\"#Packages\" data-toc-modified-id=\"Packages-5.1\">Packages</a></span></li><li><span><a href=\"#Jupyter-Notebook-Extensions\" data-toc-modified-id=\"Jupyter-Notebook-Extensions-5.2\">Jupyter Notebook Extensions</a></span></li></ul></li></ul></div>"
   ]
  },
  {
   "cell_type": "markdown",
   "metadata": {},
   "source": [
    "## Package Setup"
   ]
  },
  {
   "cell_type": "code",
   "execution_count": 2,
   "metadata": {},
   "outputs": [],
   "source": [
    "%matplotlib inline\n",
    "import numpy as np\n",
    "import pandas as pd\n",
    "import matplotlib.pyplot as plt\n",
    "import seaborn as sns"
   ]
  },
  {
   "cell_type": "markdown",
   "metadata": {},
   "source": [
    "## Project Members"
   ]
  },
  {
   "cell_type": "markdown",
   "metadata": {},
   "source": [
    "Brandon Carp\n",
    "Shyan DasMadan\n",
    "Sam Gunther\n",
    "Prafulla Ranjan Dash"
   ]
  },
  {
   "cell_type": "markdown",
   "metadata": {},
   "source": [
    "# Detailed Requirements"
   ]
  },
  {
   "cell_type": "markdown",
   "metadata": {},
   "source": [
    "## Outline (from Canvas)"
   ]
  },
  {
   "cell_type": "markdown",
   "metadata": {},
   "source": [
    "You and your teammates form a  journalism department. Your task is to provide interesting insights or analysis based on the file listed below. \n",
    "\n",
    "Instead of worrying about \"staying within the lines,\" be creative in how look for insights and in how you present them. In that sense, this is a very easy assignment. As long as you fulfill the requirements, you will get full marks for this assignment. \n",
    "\n",
    "However, your final notebook, containing your names, will be shared with all of your classmates (who will be asked to not share it publicly).\n",
    "\n",
    "I expect your final notebook to at least contain basic exploration of data. At least basic data cleaning. I expect you to show some interesting insights you were able to glean from the data set, supplemented with visual charts."
   ]
  },
  {
   "cell_type": "markdown",
   "metadata": {},
   "source": [
    "## Requirements"
   ]
  },
  {
   "cell_type": "markdown",
   "metadata": {},
   "source": [
    "- Download file from https://www.foreignlaborcert.doleta.gov/performancedata.cfm#dis the latest version PERM \"FY2020 Q3.xlsx\"\n",
    "    - Data dictionary available under \"PERM Record Layout.pdf\" link\n",
    "- Form groups of three and explore the data\n",
    "    - Do quick exploration of data\n",
    "        - Create histograms of variables\n",
    "        - Pay attention to which ones you like\n",
    "        - Investigate data exploration tools, some ideas: \n",
    "            - pandas profiling https://github.com/pandas-profiling/pandas-profiling\n",
    "            - dabl https://amueller.github.io/dabl/dev/index.html (from one of the core contributors of Scikit-Learn)\n",
    "            - t hink about joining other datasets to augment this file\n",
    "    - Come up with ideas about what you want to explore. Potential ideas:\n",
    "        - Which cases are more likely to succeed given a profession, city, lawyer, filing date?\n",
    "        - Use tf/idf or word vectors or whatever to summarize professions (NLP)\n",
    "        - What are the top newspapers for each city vs profession (blue collar vs white collar)\n",
    "        - Don't try to investigate everything! Pick a direction, let other teams follow their own paths\n",
    "    - Clean/normalize the data. Potential ideas:\n",
    "        - missing values?\n",
    "        - pay in terms of hourly vs annual?\n",
    "        - why are some descriptions all caps?\n",
    "    - Clearly communicate results. \n",
    "        - Use lessons from \"Leadership\" class (if you've taken it)\n",
    "        - But use jupyter, not power point (unless you want to use the RISE plugin for Jupyter or something similar)\n",
    "        - Create nice visualizations (optional)\n",
    "     - You must use GitHub to manage this project and coordinate among your teammates \n",
    "        - This should be very helpful: https://github.com/jupyterlab/jupyterlab-git\n",
    "        - This is an alternative, probably not as user friendly https://github.com/jupyter/nbdime\n",
    "    - Since this is a team project, you must come up with a good methodology for managing changes, here are some suggestions:\n",
    "        - http://drivendata.github.io/cookiecutter-data-science/\n",
    "        - https://github.com/quantumblacklabs/kedro\n",
    "        - Just give these links a quick read. You don't have to install any packages. Just pay attention to their recommendations.\n",
    "            - Pay attention to their directory structure and how they organize their notebooks, data assets, etc.\n",
    "            - Pay attention to how they name their files\n",
    "            - Pay attention to what other lessons you can learn from them, but trying to follow every suggestion will likely be a waste of time for such a short project"
   ]
  },
  {
   "cell_type": "markdown",
   "metadata": {},
   "source": [
    "## Ethics"
   ]
  },
  {
   "cell_type": "markdown",
   "metadata": {},
   "source": [
    "- This data contains LOTS of private information. Use it with care.\n",
    "    - Would you still be ok if your analysis became public, perhaps viral?\n",
    "- Expect your anaysis to be challenged. Challenge the analysis of other teams"
   ]
  },
  {
   "cell_type": "markdown",
   "metadata": {},
   "source": [
    "## Deliverable"
   ]
  },
  {
   "cell_type": "markdown",
   "metadata": {},
   "source": [
    "- I expect one main python notebook containing your analysis\n",
    "- You can upload a zipped folder which contains supporting notebooks which contain\n",
    "    - Your basic exploration\n",
    "    - Experiments you may have done\n",
    "    - A README file telling me where to find the main notebook\n",
    "    - Everything, except the main notebook is optional"
   ]
  },
  {
   "cell_type": "markdown",
   "metadata": {},
   "source": [
    "## General notes"
   ]
  },
  {
   "cell_type": "markdown",
   "metadata": {},
   "source": [
    "- You may use any package and learn from anyone (classmates, resources on the internet), but may not directly copy\n",
    "    - Feel free to reach out to your colleagues to see what they are doing. Set up zoom calls for walkthroughs of each other's work\n",
    "    - Investigate visualization packages, some ideas to get you started: matplotlib, seaborn, altair, bokeh, holoviews, bqplot\n",
    "- You do not have to build prediction or clustering models, but you may build several if you like\n",
    "- You can \"hire\" me to provide extra lectures on version control, visualization or any other topic. The cost is that you must convince at least 8 people to attend this extra lecture. "
   ]
  },
  {
   "cell_type": "markdown",
   "metadata": {},
   "source": [
    "## Here are some interesting notebooks I found online"
   ]
  },
  {
   "cell_type": "markdown",
   "metadata": {},
   "source": [
    "- Notebook which is nicely done, although it is in French:\n",
    "    - https://github.com/jhroy/theses/blob/master/theses.ipynb\n",
    "- World differences in infectious tuberculosis prevalence:\n",
    "    - https://github.com/jadianes/data-journalism/tree/master/articles/tuberculosis-world-situation\n",
    "- Exploring Datasets with Python:\n",
    "    - https://github.com/MartinSeeler/python-data-exploration/blob/master/Exploring%20Datasets.ipynb"
   ]
  },
  {
   "cell_type": "markdown",
   "metadata": {},
   "source": [
    "# Process Outline"
   ]
  },
  {
   "cell_type": "markdown",
   "metadata": {},
   "source": [
    "1. Reviewed the dataset and data dictionary.\n",
    "1. Agreed to focus the analysis on the differences between applications that are approved versus applications that are denied, in an effort to draw insights as to why certain applications might be denied.\n",
    "1. Reviewed the dictionary again, using the spreadsheet `PERM_FY2020_Q3_feature_list.xlsx` to divide up each feature for our individual analyses.\n",
    "1. Agreed to base analysis off `CASE_STATUS_BINARY` to ensure each group member was dividing \"Denied\" versus \"Certified\" consistently.\n",
    "1. Conducted individual analyses and met again to discuss insights and share ideas for enhancements and further exploration. Each individual analysis is located in root GitHub location for the project, and their names are identified under each group member's name in the \"Assigned Features\" section below.\n",
    "1. Used completed individual analyses to draft consolidated report for review and submission. Final report name is ``."
   ]
  },
  {
   "cell_type": "markdown",
   "metadata": {},
   "source": [
    "# Assigned Features"
   ]
  },
  {
   "cell_type": "markdown",
   "metadata": {},
   "source": [
    "## Setup"
   ]
  },
  {
   "cell_type": "code",
   "execution_count": 9,
   "metadata": {},
   "outputs": [],
   "source": [
    "# Read data from reference spreadsheet into dataframe\n",
    "df = pd.read_excel('PERM_FY2020_Q3_feature_list.xlsx', skiprows=4, header=None)[[0,3,4]]"
   ]
  },
  {
   "cell_type": "code",
   "execution_count": 24,
   "metadata": {},
   "outputs": [],
   "source": [
    "# Define function to slice dataframe based on assignee\n",
    "def feature_list_slicer(name):\n",
    "    return df[df[3]==name][0].append(df[df[4]==name][0], ignore_index=True) "
   ]
  },
  {
   "cell_type": "markdown",
   "metadata": {},
   "source": [
    "## Shyan DasMadan"
   ]
  },
  {
   "cell_type": "markdown",
   "metadata": {},
   "source": [
    "`Labor Analysis - DasMadan.ipynb`"
   ]
  },
  {
   "cell_type": "code",
   "execution_count": 25,
   "metadata": {},
   "outputs": [
    {
     "data": {
      "text/plain": [
       "0                               REFILE\n",
       "1                       ORIG_FILE_DATE\n",
       "2       PREVIOUS_SWA_CASE_NUMBER_STATE\n",
       "3                   SCHD_A_SHEEPHERDER\n",
       "4                        EMPLOYER_NAME\n",
       "5                   EMPLOYER_ADDRESS_1\n",
       "6                   EMPLOYER_ADDRESS_2\n",
       "7                        EMPLOYER_CITY\n",
       "8              EMPLOYER_STATE_PROVINCE\n",
       "9                     EMPLOYER_COUNTRY\n",
       "10                EMPLOYER_POSTAL_CODE\n",
       "11                      EMPLOYER_PHONE\n",
       "12                  EMPLOYER_PHONE_EXT\n",
       "13              EMPLOYER_NUM_EMPLOYEES\n",
       "14    EMPLOYER_YEAR_COMMENCED_BUSINESS\n",
       "15                          NAICS_CODE\n",
       "16               FW_OWNERSHIP_INTEREST\n",
       "17                    EMP_CONTACT_NAME\n",
       "18               EMP_CONTACT_ADDRESS_1\n",
       "19               EMP_CONTACT_ADDRESS_2\n",
       "20                    EMP_CONTACT_CITY\n",
       "21          EMP_CONTACT_STATE_PROVINCE\n",
       "22                 EMP_CONTACT_COUNTRY\n",
       "23             EMP_CONTACT_POSTAL_CODE\n",
       "24                   EMP_CONTACT_PHONE\n",
       "25                   EMP_CONTACT_EMAIL\n",
       "26                 AGENT_ATTORNEY_NAME\n",
       "27            AGENT_ATTORNEY_FIRM_NAME\n",
       "28                AGENT_ATTORNEY_PHONE\n",
       "29            AGENT_ATTORNEY_PHONE_EXT\n",
       "30            AGENT_ATTORNEY_ADDRESS_1\n",
       "31            AGENT_ATTORNEY_ADDRESS_2\n",
       "32                 AGENT_ATTORNEY_CITY\n",
       "33       AGENT_ATTORNEY_STATE_PROVINCE\n",
       "34              AGENT_ATTORNEY_COUNTRY\n",
       "35          AGENT_ATTORNEY_POSTAL_CODE\n",
       "36                AGENT_ATTORNEY_EMAIL\n",
       "Name: 0, dtype: object"
      ]
     },
     "execution_count": 25,
     "metadata": {},
     "output_type": "execute_result"
    }
   ],
   "source": [
    "#Return feature names for each\n",
    "feature_list_slicer(\"Shyan\")"
   ]
  },
  {
   "cell_type": "markdown",
   "metadata": {},
   "source": [
    "## Sam Gunther"
   ]
  },
  {
   "cell_type": "markdown",
   "metadata": {},
   "source": [
    "`Labor Analysis - Sam Gunther.ipynb`"
   ]
  },
  {
   "cell_type": "code",
   "execution_count": 26,
   "metadata": {},
   "outputs": [
    {
     "data": {
      "text/plain": [
       "0                    PW_TRACK_NUMBER\n",
       "1                        PW_SOC_CODE\n",
       "2                       PW_SOC_TITLE\n",
       "3                     PW_SKILL_LEVEL\n",
       "4                            PW_WAGE\n",
       "5                     PW_UNIT_OF_PAY\n",
       "6                     PW_WAGE_SOURCE\n",
       "7               PW_SOURCE_NAME_OTHER\n",
       "8              PW_DETERMINATION_DATE\n",
       "9                 PW_EXPIRATION_DATE\n",
       "10                   WAGE_OFFER_FROM\n",
       "11                     WAGE_OFFER_TO\n",
       "12            WAGE_OFFER_UNIT_OF_PAY\n",
       "13                WORKSITE_ADDRESS_1\n",
       "14                WORKSITE_ADDRESS_2\n",
       "15                     WORKSITE_CITY\n",
       "16                    WORKSITE_STATE\n",
       "17              WORKSITE_POSTAL_CODE\n",
       "18                         JOB_TITLE\n",
       "19          FOREIGN_WORKER_EDUCATION\n",
       "20    FOREIGN_WORKER_EDUCATION_OTHER\n",
       "21         FOREIGN_WORKER_INFO_MAJOR\n",
       "22        FOREIGN_WORKER_YRS_ED_COMP\n",
       "23         FOREIGN_WORKER_INST_OF_ED\n",
       "24      FOREIGN_WORKER_ED_INST_ADD_1\n",
       "25      FOREIGN_WORKER_ED_INST_ADD_2\n",
       "26       FOREIGN_WORKER_ED_INST_CITY\n",
       "27    FOREIGN_WORKER_ED_INST_STATE_P\n",
       "28    FOREIGN_WORKER_ED_INST_COUNTRY\n",
       "29    FOREIGN_WORKER_ED_INST_POST_CD\n",
       "30                 MINIMUM_EDUCATION\n",
       "31           JOB_EDUCATION_MIN_OTHER\n",
       "32              MAJOR_FIELD_OF_STUDY\n",
       "Name: 0, dtype: object"
      ]
     },
     "execution_count": 26,
     "metadata": {},
     "output_type": "execute_result"
    }
   ],
   "source": [
    "#Return feature names for each\n",
    "feature_list_slicer(\"Sam\")"
   ]
  },
  {
   "cell_type": "markdown",
   "metadata": {},
   "source": [
    "## Prafulla Ranjan Dash"
   ]
  },
  {
   "cell_type": "markdown",
   "metadata": {},
   "source": [
    "`Training and Skills Analysis - Prafulla.ipynb`"
   ]
  },
  {
   "cell_type": "code",
   "execution_count": 27,
   "metadata": {},
   "outputs": [
    {
     "data": {
      "text/plain": [
       "0                  MINIMUM_EDUCATION\n",
       "1            JOB_EDUCATION_MIN_OTHER\n",
       "2               MAJOR_FIELD_OF_STUDY\n",
       "3                  REQUIRED_TRAINING\n",
       "4           REQUIRED_TRAINING_MONTHS\n",
       "5         REQUIRED_FIELD_OF_TRAINING\n",
       "6                REQUIRED_EXPERIENCE\n",
       "7         REQUIRED_EXPERIENCE_MONTHS\n",
       "8          ACCEPT_ALT_FIELD_OF_STUDY\n",
       "9      ACCEPT_ALT_MAJOR_FLD_OF_STUDY\n",
       "10                  ACCEPT_ALT_COMBO\n",
       "11        ACCEPT_ALT_COMBO_EDUCATION\n",
       "12         ACCEPT_ALT_COMBO_ED_OTHER\n",
       "13    ACCEPT_ALT_COMBO_EDUCATION_YRS\n",
       "14          ACCEPT_FOREIGN_EDUCATION\n",
       "15             ACCEPT_ALT_OCCUPATION\n",
       "16      ACCEPT_ALT_OCCUPATION_MONTHS\n",
       "17              ACCEPT_ALT_JOB_TITLE\n",
       "18       JOB_OPP_REQUIREMENTS_NORMAL\n",
       "19         FOREIGN_LANGUAGE_REQUIRED\n",
       "20                   SPECIFIC_SKILLS\n",
       "21            COMBINATION_OCCUPATION\n",
       "22    OFFERED_TO_APPL_FOREIGN_WORKER\n",
       "23       FOREIGN_WORKER_LIVE_ON_PREM\n",
       "24    FOREIGN_WORKER_LIVE_IN_DOM_SER\n",
       "25    FOREIGN_WORKER_LIVE_IN_DOM_CNT\n",
       "26           PROFESSIONAL_OCCUPATION\n",
       "27         APP_FOR_COLLEGE_U_TEACHER\n",
       "28               COMPETITIVE_PROCESS\n",
       "29         BASIC_RECRUITMENT_PROCESS\n",
       "30               TEACHER_SELECT_DATE\n",
       "31          TEACHER_PUB_JOURNAL_NAME\n",
       "32           ADD_RECRUIT_INFORMATION\n",
       "Name: 0, dtype: object"
      ]
     },
     "execution_count": 27,
     "metadata": {},
     "output_type": "execute_result"
    }
   ],
   "source": [
    "#Return feature names for each\n",
    "feature_list_slicer(\"Prafulla\")"
   ]
  },
  {
   "cell_type": "markdown",
   "metadata": {},
   "source": [
    "## Brandon Carp"
   ]
  },
  {
   "cell_type": "markdown",
   "metadata": {},
   "source": [
    "`PERM Analysis - Brandon Carp.ipynb`"
   ]
  },
  {
   "cell_type": "code",
   "execution_count": 28,
   "metadata": {},
   "outputs": [
    {
     "data": {
      "text/plain": [
       "0           SWA_JOB_ORDER_START_DATE\n",
       "1             SWA_JOB_ORDER_END_DATE\n",
       "2           SUNDAY_EDITION_NEWSPAPER\n",
       "3               FIRST_NEWSPAPER_NAME\n",
       "4     FIRST_ADVERTISEMENT_START_DATE\n",
       "5           SECOND_NEWSPAPER_AD_NAME\n",
       "6          SECOND_ADVERTISEMENT_TYPE\n",
       "7               SECOND_AD_START_DATE\n",
       "8                 JOB_FAIR_FROM_DATE\n",
       "9                   JOB_FAIR_TO_DATE\n",
       "10    ON_CAMPUS_RECRUITING_FROM_DATE\n",
       "11      ON_CAMPUS_RECRUITING_TO_DATE\n",
       "12        EMPLOYER_WEBSITE_FROM_DATE\n",
       "13          EMPLOYER_WEBSITE_TO_DATE\n",
       "14              PRO_ORG_AD_FROM_DATE\n",
       "15     PRO_ORG_ADVERTISEMENT_TO_DATE\n",
       "16      JOB_SEARCH_WEBSITE_FROM_DATE\n",
       "17        JOB_SEARCH_WEBSITE_TO_DATE\n",
       "18     PVT_EMPLOYMENT_FIRM_FROM_DATE\n",
       "19       PVT_EMPLOYMENT_FIRM_TO_DATE\n",
       "20       EMPLOYEE_REF_PROG_FROM_DATE\n",
       "21    EMPLOYEE_REFERRAL_PROG_TO_DATE\n",
       "22        CAMPUS_PLACEMENT_FROM_DATE\n",
       "23          CAMPUS_PLACEMENT_TO_DATE\n",
       "24      LOCAL_ETHNIC_PAPER_FROM_DATE\n",
       "25        LOCAL_ETHNIC_PAPER_TO_DATE\n",
       "26             RADIO_TV_AD_FROM_DATE\n",
       "27               RADIO_TV_AD_TO_DATE\n",
       "28              EMP_RECEIVED_PAYMENT\n",
       "29                   PAYMENT_DETAILS\n",
       "30           BARGAINING_REP_NOTIFIED\n",
       "31         POSTED_NOTICE_AT_WORKSITE\n",
       "32         LAYOFF_IN_PAST_SIX_MONTHS\n",
       "33             US_WORKERS_CONSIDERED\n",
       "34            COUNTRY_OF_CITIZENSHIP\n",
       "35      FOREIGN_WORKER_BIRTH_COUNTRY\n",
       "36                CLASS_OF_ADMISSION\n",
       "37      FOREIGN_WORKER_TRAINING_COMP\n",
       "38     FOREIGN_WORKER_REQ_EXPERIENCE\n",
       "39         FOREIGN_WORKER_ALT_ED_EXP\n",
       "40        FOREIGN_WORKER_ALT_OCC_EXP\n",
       "41      FOREIGN_WORKER_EXP_WITH_EMPL\n",
       "42    FOREIGN_WORKER_EMPL_PAY_FOR_ED\n",
       "43      FOREIGN_WORKER_CURR_EMPLOYED\n",
       "44    EMPLOYER_COMPLETED_APPLICATION\n",
       "45                     PREPARER_NAME\n",
       "46                    PREPARER_TITLE\n",
       "47                    PREPARER_EMAIL\n",
       "48                EMP_INFO_DECL_NAME\n",
       "49               EMP_INFO_DECL_TITLE\n",
       "Name: 0, dtype: object"
      ]
     },
     "execution_count": 28,
     "metadata": {},
     "output_type": "execute_result"
    }
   ],
   "source": [
    "#Return feature names for each\n",
    "feature_list_slicer(\"Brandon\")"
   ]
  },
  {
   "cell_type": "markdown",
   "metadata": {},
   "source": [
    "# Supporting Technology"
   ]
  },
  {
   "cell_type": "markdown",
   "metadata": {},
   "source": [
    "## Packages"
   ]
  },
  {
   "cell_type": "markdown",
   "metadata": {},
   "source": [
    "- numpy and pandas - used for basic data cleaning and exploration\n",
    "- matplotlib and seaborn - used for data exploration\n",
    "- datetime - used to parse dates to allow for time series analysis"
   ]
  },
  {
   "cell_type": "markdown",
   "metadata": {},
   "source": [
    "## Jupyter Notebook Extensions"
   ]
  },
  {
   "cell_type": "markdown",
   "metadata": {},
   "source": [
    "- Table of Contents (2) - Allows notebook to use headers to assemble table of contents that can be displayed both in-notebook and as a separate window/spine"
   ]
  }
 ],
 "metadata": {
  "kernelspec": {
   "display_name": "Python [conda env:DataScience] *",
   "language": "python",
   "name": "conda-env-DataScience-py"
  },
  "language_info": {
   "codemirror_mode": {
    "name": "ipython",
    "version": 3
   },
   "file_extension": ".py",
   "mimetype": "text/x-python",
   "name": "python",
   "nbconvert_exporter": "python",
   "pygments_lexer": "ipython3",
   "version": "3.7.1"
  },
  "toc": {
   "base_numbering": 1,
   "nav_menu": {},
   "number_sections": false,
   "sideBar": true,
   "skip_h1_title": false,
   "title_cell": "Table of Contents",
   "title_sidebar": "Contents",
   "toc_cell": true,
   "toc_position": {
    "height": "calc(100% - 180px)",
    "left": "10px",
    "top": "150px",
    "width": "186.344px"
   },
   "toc_section_display": true,
   "toc_window_display": true
  },
  "varInspector": {
   "cols": {
    "lenName": 16,
    "lenType": 16,
    "lenVar": 40
   },
   "kernels_config": {
    "python": {
     "delete_cmd_postfix": "",
     "delete_cmd_prefix": "del ",
     "library": "var_list.py",
     "varRefreshCmd": "print(var_dic_list())"
    },
    "r": {
     "delete_cmd_postfix": ") ",
     "delete_cmd_prefix": "rm(",
     "library": "var_list.r",
     "varRefreshCmd": "cat(var_dic_list()) "
    }
   },
   "types_to_exclude": [
    "module",
    "function",
    "builtin_function_or_method",
    "instance",
    "_Feature"
   ],
   "window_display": false
  }
 },
 "nbformat": 4,
 "nbformat_minor": 4
}
