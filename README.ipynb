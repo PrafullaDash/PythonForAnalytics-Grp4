{
 "cells": [
  {
   "cell_type": "markdown",
   "metadata": {},
   "source": [
    "# PythonForAnalytics-Grp4"
   ]
  },
  {
   "cell_type": "markdown",
   "metadata": {},
   "source": [
    "## Final Project Location and Name"
   ]
  },
  {
   "cell_type": "markdown",
   "metadata": {},
   "source": [
    "**Algorithmic Bias in Immigration Visas.ipynb**\n",
    "\n",
    "https://github.com/samgunther/PythonForAnalytics-Grp4"
   ]
  },
  {
   "cell_type": "markdown",
   "metadata": {
    "toc": true
   },
   "source": [
    "<h1>Table of Contents<span class=\"tocSkip\"></span></h1>\n",
    "<div class=\"toc\"><ul class=\"toc-item\"><li><span><a href=\"#PythonForAnalytics-Grp4\" data-toc-modified-id=\"PythonForAnalytics-Grp4-1\">PythonForAnalytics-Grp4</a></span><ul class=\"toc-item\"><li><span><a href=\"#Final-Project-Location-and-Name\" data-toc-modified-id=\"Final-Project-Location-and-Name-1.1\">Final Project Location and Name</a></span></li><li><span><a href=\"#Project-Members\" data-toc-modified-id=\"Project-Members-1.2\">Project Members</a></span></li></ul></li><li><span><a href=\"#Detailed-Requirements\" data-toc-modified-id=\"Detailed-Requirements-2\">Detailed Requirements</a></span><ul class=\"toc-item\"><li><span><a href=\"#Outline-(from-Canvas)\" data-toc-modified-id=\"Outline-(from-Canvas)-2.1\">Outline (from Canvas)</a></span></li><li><span><a href=\"#Requirements\" data-toc-modified-id=\"Requirements-2.2\">Requirements</a></span></li><li><span><a href=\"#Ethics\" data-toc-modified-id=\"Ethics-2.3\">Ethics</a></span></li><li><span><a href=\"#Deliverable\" data-toc-modified-id=\"Deliverable-2.4\">Deliverable</a></span></li><li><span><a href=\"#General-notes\" data-toc-modified-id=\"General-notes-2.5\">General notes</a></span></li><li><span><a href=\"#Here-are-some-interesting-notebooks-I-found-online\" data-toc-modified-id=\"Here-are-some-interesting-notebooks-I-found-online-2.6\">Here are some interesting notebooks I found online</a></span></li></ul></li><li><span><a href=\"#Process-Outline\" data-toc-modified-id=\"Process-Outline-3\">Process Outline</a></span></li><li><span><a href=\"#Individual-Analysis-Notebooks\" data-toc-modified-id=\"Individual-Analysis-Notebooks-4\">Individual Analysis Notebooks</a></span><ul class=\"toc-item\"><li><span><a href=\"#Shyan-DasMadan\" data-toc-modified-id=\"Shyan-DasMadan-4.1\">Shyan DasMadan</a></span></li><li><span><a href=\"#Sam-Gunther\" data-toc-modified-id=\"Sam-Gunther-4.2\">Sam Gunther</a></span></li><li><span><a href=\"#Prafulla-Ranjan-Dash\" data-toc-modified-id=\"Prafulla-Ranjan-Dash-4.3\">Prafulla Ranjan Dash</a></span></li><li><span><a href=\"#Brandon-Carp\" data-toc-modified-id=\"Brandon-Carp-4.4\">Brandon Carp</a></span></li></ul></li><li><span><a href=\"#Supporting-Technology\" data-toc-modified-id=\"Supporting-Technology-5\">Supporting Technology</a></span></li><li><span><a href=\"#Research-Links\" data-toc-modified-id=\"Research-Links-6\">Research Links</a></span></li></ul></div>"
   ]
  },
  {
   "cell_type": "markdown",
   "metadata": {},
   "source": [
    "## Project Members"
   ]
  },
  {
   "cell_type": "markdown",
   "metadata": {},
   "source": [
    "Brandon Carp,\n",
    "Shyan DasMadan,\n",
    "Sam Gunther,\n",
    "Prafulla Ranjan Dash,"
   ]
  },
  {
   "cell_type": "markdown",
   "metadata": {},
   "source": [
    "# Detailed Requirements"
   ]
  },
  {
   "cell_type": "markdown",
   "metadata": {},
   "source": [
    "## Outline (from Canvas)"
   ]
  },
  {
   "cell_type": "markdown",
   "metadata": {},
   "source": [
    "You and your teammates form a  journalism department. Your task is to provide interesting insights or analysis based on the file listed below. \n",
    "\n",
    "Instead of worrying about \"staying within the lines,\" be creative in how look for insights and in how you present them. In that sense, this is a very easy assignment. As long as you fulfill the requirements, you will get full marks for this assignment. \n",
    "\n",
    "However, your final notebook, containing your names, will be shared with all of your classmates (who will be asked to not share it publicly).\n",
    "\n",
    "I expect your final notebook to at least contain basic exploration of data. At least basic data cleaning. I expect you to show some interesting insights you were able to glean from the data set, supplemented with visual charts."
   ]
  },
  {
   "cell_type": "markdown",
   "metadata": {},
   "source": [
    "## Requirements"
   ]
  },
  {
   "cell_type": "markdown",
   "metadata": {},
   "source": [
    "- Download file from https://www.foreignlaborcert.doleta.gov/performancedata.cfm#dis the latest version PERM \"FY2020 Q3.xlsx\"\n",
    "    - Data dictionary available under \"PERM Record Layout.pdf\" link\n",
    "- Form groups of three and explore the data\n",
    "    - Do quick exploration of data\n",
    "        - Create histograms of variables\n",
    "        - Pay attention to which ones you like\n",
    "        - Investigate data exploration tools, some ideas: \n",
    "            - pandas profiling https://github.com/pandas-profiling/pandas-profiling\n",
    "            - dabl https://amueller.github.io/dabl/dev/index.html (from one of the core contributors of Scikit-Learn)\n",
    "            - t hink about joining other datasets to augment this file\n",
    "    - Come up with ideas about what you want to explore. Potential ideas:\n",
    "        - Which cases are more likely to succeed given a profession, city, lawyer, filing date?\n",
    "        - Use tf/idf or word vectors or whatever to summarize professions (NLP)\n",
    "        - What are the top newspapers for each city vs profession (blue collar vs white collar)\n",
    "        - Don't try to investigate everything! Pick a direction, let other teams follow their own paths\n",
    "    - Clean/normalize the data. Potential ideas:\n",
    "        - missing values?\n",
    "        - pay in terms of hourly vs annual?\n",
    "        - why are some descriptions all caps?\n",
    "    - Clearly communicate results. \n",
    "        - Use lessons from \"Leadership\" class (if you've taken it)\n",
    "        - But use jupyter, not power point (unless you want to use the RISE plugin for Jupyter or something similar)\n",
    "        - Create nice visualizations (optional)\n",
    "     - You must use GitHub to manage this project and coordinate among your teammates \n",
    "        - This should be very helpful: https://github.com/jupyterlab/jupyterlab-git\n",
    "        - This is an alternative, probably not as user friendly https://github.com/jupyter/nbdime\n",
    "    - Since this is a team project, you must come up with a good methodology for managing changes, here are some suggestions:\n",
    "        - http://drivendata.github.io/cookiecutter-data-science/\n",
    "        - https://github.com/quantumblacklabs/kedro\n",
    "        - Just give these links a quick read. You don't have to install any packages. Just pay attention to their recommendations.\n",
    "            - Pay attention to their directory structure and how they organize their notebooks, data assets, etc.\n",
    "            - Pay attention to how they name their files\n",
    "            - Pay attention to what other lessons you can learn from them, but trying to follow every suggestion will likely be a waste of time for such a short project"
   ]
  },
  {
   "cell_type": "markdown",
   "metadata": {},
   "source": [
    "## Ethics"
   ]
  },
  {
   "cell_type": "markdown",
   "metadata": {},
   "source": [
    "- This data contains LOTS of private information. Use it with care.\n",
    "    - Would you still be ok if your analysis became public, perhaps viral?\n",
    "- Expect your anaysis to be challenged. Challenge the analysis of other teams"
   ]
  },
  {
   "cell_type": "markdown",
   "metadata": {},
   "source": [
    "## Deliverable"
   ]
  },
  {
   "cell_type": "markdown",
   "metadata": {},
   "source": [
    "- I expect one main python notebook containing your analysis\n",
    "- You can upload a zipped folder which contains supporting notebooks which contain\n",
    "    - Your basic exploration\n",
    "    - Experiments you may have done\n",
    "    - A README file telling me where to find the main notebook\n",
    "    - Everything, except the main notebook is optional"
   ]
  },
  {
   "cell_type": "markdown",
   "metadata": {},
   "source": [
    "## General notes"
   ]
  },
  {
   "cell_type": "markdown",
   "metadata": {},
   "source": [
    "- You may use any package and learn from anyone (classmates, resources on the internet), but may not directly copy\n",
    "    - Feel free to reach out to your colleagues to see what they are doing. Set up zoom calls for walkthroughs of each other's work\n",
    "    - Investigate visualization packages, some ideas to get you started: matplotlib, seaborn, altair, bokeh, holoviews, bqplot\n",
    "- You do not have to build prediction or clustering models, but you may build several if you like\n",
    "- You can \"hire\" me to provide extra lectures on version control, visualization or any other topic. The cost is that you must convince at least 8 people to attend this extra lecture. "
   ]
  },
  {
   "cell_type": "markdown",
   "metadata": {},
   "source": [
    "## Here are some interesting notebooks I found online"
   ]
  },
  {
   "cell_type": "markdown",
   "metadata": {},
   "source": [
    "- Notebook which is nicely done, although it is in French:\n",
    "    - https://github.com/jhroy/theses/blob/master/theses.ipynb\n",
    "- World differences in infectious tuberculosis prevalence:\n",
    "    - https://github.com/jadianes/data-journalism/tree/master/articles/tuberculosis-world-situation\n",
    "- Exploring Datasets with Python:\n",
    "    - https://github.com/MartinSeeler/python-data-exploration/blob/master/Exploring%20Datasets.ipynb"
   ]
  },
  {
   "cell_type": "markdown",
   "metadata": {},
   "source": [
    "# Process Outline"
   ]
  },
  {
   "cell_type": "markdown",
   "metadata": {},
   "source": [
    "1. Reviewed the dataset and data dictionary.\n",
    "1. Agreed to focus the analysis on the differences between applications that are approved versus applications that are denied, in an effort to draw insights as to why certain applications might be denied.\n",
    "1. Reviewed the dictionary again, using the spreadsheet `PERM_FY2020_Q3_feature_list.xlsx` to divide up each feature for our individual analyses.\n",
    "1. Agreed to base analysis off `CASE_STATUS_BINARY` to ensure each group member was dividing \"Denied\" versus \"Certified\" consistently.\n",
    "1. Conducted individual analyses and met again to discuss insights and share ideas for enhancements and further exploration. Each individual analysis is located in the `analysis and data` folder, and their names are identified under each group member's name in `Assigned Features.ipynb` notebook in the `metadata` folder.\n",
    "1. Used completed individual analyses to draft consolidated report for review and submission. Final report name is ``."
   ]
  },
  {
   "cell_type": "markdown",
   "metadata": {},
   "source": [
    "# Individual Analysis Notebooks"
   ]
  },
  {
   "cell_type": "markdown",
   "metadata": {},
   "source": [
    "## Shyan DasMadan"
   ]
  },
  {
   "cell_type": "markdown",
   "metadata": {},
   "source": [
    "`Labor Analysis - DasMadan.ipynb`"
   ]
  },
  {
   "cell_type": "markdown",
   "metadata": {},
   "source": [
    "## Sam Gunther"
   ]
  },
  {
   "cell_type": "markdown",
   "metadata": {},
   "source": [
    "`Labor Analysis - Sam Gunther.ipynb`"
   ]
  },
  {
   "cell_type": "markdown",
   "metadata": {},
   "source": [
    "## Prafulla Ranjan Dash"
   ]
  },
  {
   "cell_type": "markdown",
   "metadata": {},
   "source": [
    "`Training and Skills Analysis - Prafulla.ipynb`"
   ]
  },
  {
   "cell_type": "markdown",
   "metadata": {},
   "source": [
    "## Brandon Carp"
   ]
  },
  {
   "cell_type": "markdown",
   "metadata": {},
   "source": [
    "`PERM Analysis - Brandon Carp.ipynb`"
   ]
  },
  {
   "cell_type": "markdown",
   "metadata": {},
   "source": [
    "# Supporting Technology"
   ]
  },
  {
   "cell_type": "markdown",
   "metadata": {},
   "source": [
    "|Packages and Jupyter Notebook Extensions|Description|\n",
    "|---|---|\n",
    "|`numpy`,`pandas`|used for basic data cleaning and exploration|\n",
    "|`matplotlib`,`seaborn`|used for data exploration|\n",
    "|`datetime`|used to parse dates to allow for time series analysis|\n",
    "|`wordcloud`|used to create wordcloud|\n",
    "|`os`|system function and methods, used to support wordcloud output|\n",
    "|`PIL`|image processing library, used to support wordcloud output|\n",
    "|`Table of Contents (2)`|create table of contents in Jupyter Notebook|\n",
    "|`Split Cells Notebook`|split cells to half the notebook to allow side-by-side cells|"
   ]
  },
  {
   "cell_type": "markdown",
   "metadata": {},
   "source": [
    "# Research Links"
   ]
  },
  {
   "cell_type": "markdown",
   "metadata": {},
   "source": [
    "- https://www.stilt.com/blog/2019/06/o2-visa/\n",
    "- https://en.wikipedia.org/wiki/R_visa#:~:text=The%20R%2D2%20visa%20is,the%20principal%20R%2D1%20worker.\n",
    "- https://www.visapro.com/work-visas/p3-visa/faq2/#:~:text=The%20P%2D3%20visa%20is,program%20that%20is%20culturally%20unique.\n",
    "- https://travel.state.gov/content/travel/en/us-visas/employment/visas-members-foreign-media-press-radio.html\n",
    "- https://www.yeklaw.com/blog/2017/november/what-is-entry-without-inspection-ewi-/\n",
    "- https://en.wikipedia.org/wiki/Labor_certification\n",
    "- https://www.dol.gov/agencies/eta/foreign-labor/news/archive"
   ]
  }
 ],
 "metadata": {
  "kernelspec": {
   "display_name": "Python [conda env:DataScience] *",
   "language": "python",
   "name": "conda-env-DataScience-py"
  },
  "language_info": {
   "codemirror_mode": {
    "name": "ipython",
    "version": 3
   },
   "file_extension": ".py",
   "mimetype": "text/x-python",
   "name": "python",
   "nbconvert_exporter": "python",
   "pygments_lexer": "ipython3",
   "version": "3.7.1"
  },
  "toc": {
   "base_numbering": 1,
   "nav_menu": {},
   "number_sections": false,
   "sideBar": true,
   "skip_h1_title": false,
   "title_cell": "Table of Contents",
   "title_sidebar": "Contents",
   "toc_cell": true,
   "toc_position": {
    "height": "calc(100% - 180px)",
    "left": "10px",
    "top": "150px",
    "width": "186.344px"
   },
   "toc_section_display": true,
   "toc_window_display": true
  },
  "varInspector": {
   "cols": {
    "lenName": 16,
    "lenType": 16,
    "lenVar": 40
   },
   "kernels_config": {
    "python": {
     "delete_cmd_postfix": "",
     "delete_cmd_prefix": "del ",
     "library": "var_list.py",
     "varRefreshCmd": "print(var_dic_list())"
    },
    "r": {
     "delete_cmd_postfix": ") ",
     "delete_cmd_prefix": "rm(",
     "library": "var_list.r",
     "varRefreshCmd": "cat(var_dic_list()) "
    }
   },
   "types_to_exclude": [
    "module",
    "function",
    "builtin_function_or_method",
    "instance",
    "_Feature"
   ],
   "window_display": false
  }
 },
 "nbformat": 4,
 "nbformat_minor": 4
}
